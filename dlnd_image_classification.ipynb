{
 "cells": [
  {
   "cell_type": "markdown",
   "metadata": {
    "collapsed": true
   },
   "source": [
    "# Image Classification\n",
    "In this project, you'll classify images from the [CIFAR-10 dataset](https://www.cs.toronto.edu/~kriz/cifar.html).  The dataset consists of airplanes, dogs, cats, and other objects. You'll preprocess the images, then train a convolutional neural network on all the samples. The images need to be normalized and the labels need to be one-hot encoded.  You'll get to apply what you learned and build a convolutional, max pooling, dropout, and fully connected layers.  At the end, you'll get to see your neural network's predictions on the sample images.\n",
    "## Get the Data\n",
    "Run the following cell to download the [CIFAR-10 dataset for python](https://www.cs.toronto.edu/~kriz/cifar-10-python.tar.gz)."
   ]
  },
  {
   "cell_type": "code",
   "execution_count": 1,
   "metadata": {},
   "outputs": [
    {
     "name": "stdout",
     "output_type": "stream",
     "text": [
      "All files found!\n"
     ]
    }
   ],
   "source": [
    "\"\"\"\n",
    "DON'T MODIFY ANYTHING IN THIS CELL THAT IS BELOW THIS LINE\n",
    "\"\"\"\n",
    "from urllib.request import urlretrieve\n",
    "from os.path import isfile, isdir\n",
    "from tqdm import tqdm\n",
    "import problem_unittests as tests\n",
    "import tarfile\n",
    "\n",
    "cifar10_dataset_folder_path = 'cifar-10-batches-py'\n",
    "\n",
    "# Use Floyd's cifar-10 dataset if present\n",
    "floyd_cifar10_location = '/cifar/cifar-10-python.tar.gz'\n",
    "if isfile(floyd_cifar10_location):\n",
    "    tar_gz_path = floyd_cifar10_location\n",
    "else:\n",
    "    tar_gz_path = 'cifar-10-python.tar.gz'\n",
    "\n",
    "class DLProgress(tqdm):\n",
    "    last_block = 0\n",
    "\n",
    "    def hook(self, block_num=1, block_size=1, total_size=None):\n",
    "        self.total = total_size\n",
    "        self.update((block_num - self.last_block) * block_size)\n",
    "        self.last_block = block_num\n",
    "\n",
    "if not isfile(tar_gz_path):\n",
    "    with DLProgress(unit='B', unit_scale=True, miniters=1, desc='CIFAR-10 Dataset') as pbar:\n",
    "        urlretrieve(\n",
    "            'https://www.cs.toronto.edu/~kriz/cifar-10-python.tar.gz',\n",
    "            tar_gz_path,\n",
    "            pbar.hook)\n",
    "\n",
    "if not isdir(cifar10_dataset_folder_path):\n",
    "    with tarfile.open(tar_gz_path) as tar:\n",
    "        tar.extractall()\n",
    "        tar.close()\n",
    "\n",
    "\n",
    "tests.test_folder_path(cifar10_dataset_folder_path)"
   ]
  },
  {
   "cell_type": "markdown",
   "metadata": {},
   "source": [
    "## Explore the Data\n",
    "The dataset is broken into batches to prevent your machine from running out of memory.  The CIFAR-10 dataset consists of 5 batches, named `data_batch_1`, `data_batch_2`, etc.. Each batch contains the labels and images that are one of the following:\n",
    "* airplane\n",
    "* automobile\n",
    "* bird\n",
    "* cat\n",
    "* deer\n",
    "* dog\n",
    "* frog\n",
    "* horse\n",
    "* ship\n",
    "* truck\n",
    "\n",
    "Understanding a dataset is part of making predictions on the data.  Play around with the code cell below by changing the `batch_id` and `sample_id`. The `batch_id` is the id for a batch (1-5). The `sample_id` is the id for a image and label pair in the batch.\n",
    "\n",
    "Ask yourself \"What are all possible labels?\", \"What is the range of values for the image data?\", \"Are the labels in order or random?\".  Answers to questions like these will help you preprocess the data and end up with better predictions."
   ]
  },
  {
   "cell_type": "code",
   "execution_count": 2,
   "metadata": {},
   "outputs": [
    {
     "name": "stdout",
     "output_type": "stream",
     "text": [
      "\n",
      "Stats of batch 2:\n",
      "Samples: 10000\n",
      "Label Counts: {0: 984, 1: 1007, 2: 1010, 3: 995, 4: 1010, 5: 988, 6: 1008, 7: 1026, 8: 987, 9: 985}\n",
      "First 20 Labels: [1, 6, 6, 8, 8, 3, 4, 6, 0, 6, 0, 3, 6, 6, 5, 4, 8, 3, 2, 6]\n",
      "\n",
      "Example of Image 3:\n",
      "Image - Min Value: 4 Max Value: 255\n",
      "Image - Shape: (32, 32, 3)\n",
      "Label - Label Id: 8 Name: ship\n"
     ]
    },
    {
     "data": {
      "image/png": "[encoded data removed]",
      "text/plain": [
       "<matplotlib.figure.Figure at 0x7fa72316a748>"
      ]
     },
     "metadata": {
      "image/png": {
       "height": 250,
       "width": 253
      }
     },
     "output_type": "display_data"
    }
   ],
   "source": [
    "%matplotlib inline\n",
    "%config InlineBackend.figure_format = 'retina'\n",
    "\n",
    "import helper\n",
    "import numpy as np\n",
    "\n",
    "# Explore the dataset\n",
    "batch_id = 2  #1\n",
    "sample_id = 3  #5\n",
    "helper.display_stats(cifar10_dataset_folder_path, batch_id, sample_id)"
   ]
  },
  {
   "cell_type": "markdown",
   "metadata": {},
   "source": [
    "## Implement Preprocess Functions\n",
    "### Normalize\n",
    "In the cell below, implement the `normalize` function to take in image data, `x`, and return it as a normalized Numpy array. The values should be in the range of 0 to 1, inclusive.  The return object should be the same shape as `x`."
   ]
  },
  {
   "cell_type": "code",
   "execution_count": 3,
   "metadata": {},
   "outputs": [
    {
     "name": "stdout",
     "output_type": "stream",
     "text": [
      "Tests Passed\n"
     ]
    }
   ],
   "source": [
    "def normalize(x):\n",
    "    \"\"\"\n",
    "    Normalize a list of sample image data in the range of 0 to 1\n",
    "    : x: List of image data.  The image shape is (32, 32, 3)\n",
    "    : return: Numpy array of normalize data\n",
    "    \"\"\"\n",
    "    #1 TODO: Implement Function  MP:PASS\n",
    "    _min = np.min(x)\n",
    "    _max = np.max(x)\n",
    "    return (x - _min)/(_max - _min)\n",
    "\n",
    "\n",
    "\"\"\"\n",
    "DON'T MODIFY ANYTHING IN THIS CELL THAT IS BELOW THIS LINE\n",
    "\"\"\"\n",
    "tests.test_normalize(normalize)"
   ]
  },
  {
   "cell_type": "markdown",
   "metadata": {},
   "source": [
    "### One-hot encode\n",
    "Just like the previous code cell, you'll be implementing a function for preprocessing.  This time, you'll implement the `one_hot_encode` function. The input, `x`, are a list of labels.  Implement the function to return the list of labels as One-Hot encoded Numpy array.  The possible values for labels are 0 to 9. The one-hot encoding function should return the same encoding for each value between each call to `one_hot_encode`.  Make sure to save the map of encodings outside the function.\n",
    "\n",
    "Hint: Don't reinvent the wheel."
   ]
  },
  {
   "cell_type": "code",
   "execution_count": 4,
   "metadata": {},
   "outputs": [
    {
     "name": "stdout",
     "output_type": "stream",
     "text": [
      "Tests Passed\n"
     ]
    }
   ],
   "source": [
    "def one_hot_encode(x):\n",
    "    \"\"\"\n",
    "    One hot encode a list of sample labels. Return a one-hot encoded vector for each label.\n",
    "    : x: List of sample Labels\n",
    "    : return: Numpy array of one-hot encoded labels\n",
    "    \"\"\"\n",
    "    #2 TODO: Implement Function  MP:PASS\n",
    "    return np.eye(10)[x]\n",
    "\n",
    "\n",
    "\"\"\"\n",
    "DON'T MODIFY ANYTHING IN THIS CELL THAT IS BELOW THIS LINE\n",
    "\"\"\"\n",
    "tests.test_one_hot_encode(one_hot_encode)"
   ]
  },
  {
   "cell_type": "markdown",
   "metadata": {},
   "source": [
    "### Randomize Data\n",
    "As you saw from exploring the data above, the order of the samples are randomized.  It doesn't hurt to randomize it again, but you don't need to for this dataset."
   ]
  },
  {
   "cell_type": "markdown",
   "metadata": {},
   "source": [
    "## Preprocess all the data and save it\n",
    "Running the code cell below will preprocess all the CIFAR-10 data and save it to file. The code below also uses 10% of the training data for validation."
   ]
  },
  {
   "cell_type": "code",
   "execution_count": 5,
   "metadata": {
    "collapsed": true
   },
   "outputs": [],
   "source": [
    "\"\"\"\n",
    "DON'T MODIFY ANYTHING IN THIS CELL\n",
    "\"\"\"\n",
    "# Preprocess Training, Validation, and Testing Data\n",
    "helper.preprocess_and_save_data(cifar10_dataset_folder_path, normalize, one_hot_encode)"
   ]
  },
  {
   "cell_type": "markdown",
   "metadata": {},
   "source": [
    "# Check Point\n",
    "This is your first checkpoint.  If you ever decide to come back to this notebook or have to restart the notebook, you can start from here.  The preprocessed data has been saved to disk."
   ]
  },
  {
   "cell_type": "code",
   "execution_count": 6,
   "metadata": {
    "collapsed": true
   },
   "outputs": [],
   "source": [
    "\"\"\"\n",
    "DON'T MODIFY ANYTHING IN THIS CELL\n",
    "\"\"\"\n",
    "import pickle\n",
    "import problem_unittests as tests\n",
    "import helper\n",
    "\n",
    "# Load the Preprocessed Validation data\n",
    "valid_features, valid_labels = pickle.load(open('preprocess_validation.p', mode='rb'))"
   ]
  },
  {
   "cell_type": "markdown",
   "metadata": {},
   "source": [
    "## Build the network\n",
    "For the neural network, you'll build each layer into a function.  Most of the code you've seen has been outside of functions. To test your code more thoroughly, we require that you put each layer in a function.  This allows us to give you better feedback and test for simple mistakes using our unittests before you submit your project.\n",
    "\n",
    ">**Note:** If you're finding it hard to dedicate enough time for this course each week, we've provided a small shortcut to this part of the project. In the next couple of problems, you'll have the option to use classes from the [TensorFlow Layers](https://www.tensorflow.org/api_docs/python/tf/layers) or [TensorFlow Layers (contrib)](https://www.tensorflow.org/api_guides/python/contrib.layers) packages to build each layer, except the layers you build in the \"Convolutional and Max Pooling Layer\" section.  TF Layers is similar to Keras's and TFLearn's abstraction to layers, so it's easy to pickup.\n",
    "\n",
    ">However, if you would like to get the most out of this course, try to solve all the problems _without_ using anything from the TF Layers packages. You **can** still use classes from other packages that happen to have the same name as ones you find in TF Layers! For example, instead of using the TF Layers version of the `conv2d` class, [tf.layers.conv2d](https://www.tensorflow.org/api_docs/python/tf/layers/conv2d), you would want to use the TF Neural Network version of `conv2d`, [tf.nn.conv2d](https://www.tensorflow.org/api_docs/python/tf/nn/conv2d). \n",
    "\n",
    "Let's begin!\n",
    "\n",
    "### Input\n",
    "The neural network needs to read the image data, one-hot encoded labels, and dropout keep probability. Implement the following functions\n",
    "* Implement `neural_net_image_input`\n",
    " * Return a [TF Placeholder](https://www.tensorflow.org/api_docs/python/tf/placeholder)\n",
    " * Set the shape using `image_shape` with batch size set to `None`.\n",
    " * Name the TensorFlow placeholder \"x\" using the TensorFlow `name` parameter in the [TF Placeholder](https://www.tensorflow.org/api_docs/python/tf/placeholder).\n",
    "* Implement `neural_net_label_input`\n",
    " * Return a [TF Placeholder](https://www.tensorflow.org/api_docs/python/tf/placeholder)\n",
    " * Set the shape using `n_classes` with batch size set to `None`.\n",
    " * Name the TensorFlow placeholder \"y\" using the TensorFlow `name` parameter in the [TF Placeholder](https://www.tensorflow.org/api_docs/python/tf/placeholder).\n",
    "* Implement `neural_net_keep_prob_input`\n",
    " * Return a [TF Placeholder](https://www.tensorflow.org/api_docs/python/tf/placeholder) for dropout keep probability.\n",
    " * Name the TensorFlow placeholder \"keep_prob\" using the TensorFlow `name` parameter in the [TF Placeholder](https://www.tensorflow.org/api_docs/python/tf/placeholder).\n",
    "\n",
    "These names will be used at the end of the project to load your saved model.\n",
    "\n",
    "Note: `None` for shapes in TensorFlow allow for a dynamic size."
   ]
  },
  {
   "cell_type": "code",
   "execution_count": 7,
   "metadata": {},
   "outputs": [
    {
     "name": "stdout",
     "output_type": "stream",
     "text": [
      "Image Input Tests Passed.\n",
      "Label Input Tests Passed.\n",
      "Keep Prob Tests Passed.\n"
     ]
    }
   ],
   "source": [
    "import tensorflow as tf\n",
    "\n",
    "def neural_net_image_input(image_shape):\n",
    "    \"\"\"\n",
    "    Return a Tensor for a batch of image input\n",
    "    : image_shape: Shape of the images\n",
    "    : return: Tensor for image input.\n",
    "    \"\"\"\n",
    "    #3 TODO: Implement Function\n",
    "    return tf.placeholder(tf.float32, shape=(None, *image_shape), name='x')\n",
    "\n",
    "\n",
    "def neural_net_label_input(n_classes):\n",
    "    \"\"\"\n",
    "    Return a Tensor for a batch of label input\n",
    "    : n_classes: Number of classes\n",
    "    : return: Tensor for label input.\n",
    "    \"\"\"\n",
    "    #4 TODO: Implement Function\n",
    "    return tf.placeholder(tf.float32, [None, n_classes], name='y')\n",
    "\n",
    "\n",
    "def neural_net_keep_prob_input():\n",
    "    \"\"\"\n",
    "    Return a Tensor for keep probability\n",
    "    : return: Tensor for keep probability.\n",
    "    \"\"\"\n",
    "    #5 TODO: Implement Function\n",
    "    return tf.placeholder(tf.float32, name='keep_prob')\n",
    "\n",
    "\n",
    "\n",
    "\"\"\"\n",
    "DON'T MODIFY ANYTHING IN THIS CELL THAT IS BELOW THIS LINE\n",
    "\"\"\"\n",
    "tf.reset_default_graph()\n",
    "tests.test_nn_image_inputs(neural_net_image_input)\n",
    "tests.test_nn_label_inputs(neural_net_label_input)\n",
    "tests.test_nn_keep_prob_inputs(neural_net_keep_prob_input)"
   ]
  },
  {
   "cell_type": "markdown",
   "metadata": {},
   "source": [
    "### Convolution and Max Pooling Layer\n",
    "Convolution layers have a lot of success with images. For this code cell, you should implement the function `conv2d_maxpool` to apply convolution then max pooling:\n",
    "* Create the weight and bias using `conv_ksize`, `conv_num_outputs` and the shape of `x_tensor`.\n",
    "* Apply a convolution to `x_tensor` using weight and `conv_strides`.\n",
    " * We recommend you use same padding, but you're welcome to use any padding.\n",
    "* Add bias\n",
    "* Add a nonlinear activation to the convolution.\n",
    "* Apply Max Pooling using `pool_ksize` and `pool_strides`.\n",
    " * We recommend you use same padding, but you're welcome to use any padding.\n",
    "\n",
    "**Note:** You **can't** use [TensorFlow Layers](https://www.tensorflow.org/api_docs/python/tf/layers) or [TensorFlow Layers (contrib)](https://www.tensorflow.org/api_guides/python/contrib.layers) for **this** layer, but you can still use TensorFlow's [Neural Network](https://www.tensorflow.org/api_docs/python/tf/nn) package. You may still use the shortcut option for all the **other** layers."
   ]
  },
  {
   "cell_type": "code",
   "execution_count": 8,
   "metadata": {},
   "outputs": [
    {
     "name": "stdout",
     "output_type": "stream",
     "text": [
      "Tests Passed\n"
     ]
    }
   ],
   "source": [
    "import tensorflow as tf\n",
    "import numpy as np       \n",
    "\n",
    "def conv2d_maxpool(x_tensor, conv_num_outputs, conv_ksize, conv_strides, pool_ksize, pool_strides):\n",
    "    \"\"\"\n",
    "    Apply convolution then max pooling to x_tensor\n",
    "    :param x_tensor: TensorFlow Tensor\n",
    "    :param conv_num_outputs: Number of outputs for the convolutional layer\n",
    "    :param conv_ksize: kernal size 2-D Tuple for the convolutional layer\n",
    "    :param conv_strides: Stride 2-D Tuple for convolution\n",
    "    :param pool_ksize: kernal size 2-D Tuple for pool\n",
    "    :param pool_strides: Stride 2-D Tuple for pool\n",
    "    : return: A tensor that represents convolution and max pooling of x_tensor\n",
    "    \"\"\"\n",
    "\n",
    "    # TODO: Implement Function\n",
    "    #Step 1: Get the shape of the input tensor\n",
    "    input_depth = x_tensor.get_shape().as_list()[3]\n",
    "    #Step 2: Calculate weights\n",
    "    weights = tf.Variable(tf.truncated_normal([*conv_ksize,input_depth,conv_num_outputs], mean=.0, stddev=.01))\n",
    "    #Step 3: Calculate bias\n",
    "    bias = tf.Variable(tf.zeros(conv_num_outputs))\n",
    "    #Step 4: Set padding\n",
    "    padding = 'SAME'\n",
    "    #Step 5: Apply convolution layer\n",
    "    conv = tf.nn.conv2d(x_tensor, weights, padding=padding, strides=[1,*conv_strides,1], use_cudnn_on_gpu=True)\n",
    "    #Step 6: Add bias\n",
    "    conv = tf.nn.bias_add(conv, bias)\n",
    "    #Step 7: Apply rectilinear layer (ReLu)\n",
    "    conv = tf.nn.relu(conv)\n",
    "    #Step 8: Apply pooling layer and return \n",
    "    return tf.nn.max_pool(value=conv, ksize=[1,*pool_ksize,1], strides=[1,*pool_strides,1], padding=padding, name='max_pool')\n",
    "\n",
    "    \n",
    "    \n",
    "    \n",
    "\n",
    "\"\"\"\n",
    "DON'T MODIFY ANYTHING IN THIS CELL THAT IS BELOW THIS LINE\n",
    "\"\"\"\n",
    "tests.test_con_pool(conv2d_maxpool)"
   ]
  },
  {
   "cell_type": "markdown",
   "metadata": {},
   "source": [
    "### Flatten Layer\n",
    "Implement the `flatten` function to change the dimension of `x_tensor` from a 4-D tensor to a 2-D tensor.  The output should be the shape (*Batch Size*, *Flattened Image Size*). Shortcut option: you can use classes from the [TensorFlow Layers](https://www.tensorflow.org/api_docs/python/tf/layers) or [TensorFlow Layers (contrib)](https://www.tensorflow.org/api_guides/python/contrib.layers) packages for this layer. For more of a challenge, only use other TensorFlow packages."
   ]
  },
  {
   "cell_type": "code",
   "execution_count": 9,
   "metadata": {},
   "outputs": [
    {
     "name": "stdout",
     "output_type": "stream",
     "text": [
      "Tests Passed\n"
     ]
    }
   ],
   "source": [
    "def flatten(x_tensor):\n",
    "    \"\"\"\n",
    "    Flatten x_tensor to (Batch Size, Flattened Image Size)\n",
    "    : x_tensor: A tensor of size (Batch Size, ...), where ... are the image dimensions.\n",
    "    : return: A tensor of size (Batch Size, Flattened Image Size).\n",
    "    \"\"\"\n",
    "    #7 TODO: Implement Function\n",
    "    #Step 1: Get the shape\n",
    "    shape = x_tensor.get_shape()\n",
    "    #Step 2: Determine the number of features\n",
    "    num_features = shape[1:4].num_elements()\n",
    "    #Step 3: Flatten\n",
    "    flattened = tf.reshape(x_tensor, [-1,num_features])\n",
    "    #Step 4: Return flattened\n",
    "    return flattened\n",
    "\n",
    "\n",
    "\n",
    "\"\"\"\n",
    "DON'T MODIFY ANYTHING IN THIS CELL THAT IS BELOW THIS LINE\n",
    "\"\"\"\n",
    "tests.test_flatten(flatten)"
   ]
  },
  {
   "cell_type": "markdown",
   "metadata": {},
   "source": [
    "### Fully-Connected Layer\n",
    "Implement the `fully_conn` function to apply a fully connected layer to `x_tensor` with the shape (*Batch Size*, *num_outputs*). Shortcut option: you can use classes from the [TensorFlow Layers](https://www.tensorflow.org/api_docs/python/tf/layers) or [TensorFlow Layers (contrib)](https://www.tensorflow.org/api_guides/python/contrib.layers) packages for this layer. For more of a challenge, only use other TensorFlow packages."
   ]
  },
  {
   "cell_type": "code",
   "execution_count": 10,
   "metadata": {},
   "outputs": [
    {
     "name": "stdout",
     "output_type": "stream",
     "text": [
      "Tests Passed\n"
     ]
    }
   ],
   "source": [
    "def fully_conn(x_tensor, num_outputs):\n",
    "    \"\"\"\n",
    "    Apply a fully connected layer to x_tensor using weight and bias\n",
    "    : x_tensor: A 2-D tensor where the first dimension is batch size.\n",
    "    : num_outputs: The number of output that the new tensor should be.\n",
    "    : return: A 2-D tensor where the second dimension is num_outputs.\n",
    "    \"\"\"\n",
    "    #8 TODO: Implement Function\n",
    "    w_shape = (int(x_tensor.get_shape().as_list()[1]), num_outputs)\n",
    "    w = tf.Variable(tf.random_normal(w_shape, stddev=0.1))\n",
    "    b = tf.Variable(tf.zeros(num_outputs))\n",
    "    f_conn = tf.add(tf.matmul(x_tensor, w), b)\n",
    "    f_conn = tf.nn.relu(f_conn)\n",
    "    return f_conn\n",
    "\n",
    "    \n",
    "\n",
    "\n",
    "\"\"\"\n",
    "DON'T MODIFY ANYTHING IN THIS CELL THAT IS BELOW THIS LINE\n",
    "\"\"\"\n",
    "tests.test_fully_conn(fully_conn)"
   ]
  },
  {
   "cell_type": "markdown",
   "metadata": {},
   "source": [
    "### Output Layer\n",
    "Implement the `output` function to apply a fully connected layer to `x_tensor` with the shape (*Batch Size*, *num_outputs*). Shortcut option: you can use classes from the [TensorFlow Layers](https://www.tensorflow.org/api_docs/python/tf/layers) or [TensorFlow Layers (contrib)](https://www.tensorflow.org/api_guides/python/contrib.layers) packages for this layer. For more of a challenge, only use other TensorFlow packages.\n",
    "\n",
    "**Note:** Activation, softmax, or cross entropy should **not** be applied to this."
   ]
  },
  {
   "cell_type": "code",
   "execution_count": 11,
   "metadata": {},
   "outputs": [
    {
     "name": "stdout",
     "output_type": "stream",
     "text": [
      "Tests Passed\n"
     ]
    }
   ],
   "source": [
    "def output(x_tensor, num_outputs):\n",
    "    \"\"\"\n",
    "    Apply a output layer to x_tensor using weight and bias\n",
    "    : x_tensor: A 2-D tensor where the first dimension is batch size.\n",
    "    : num_outputs: The number of output that the new tensor should be.\n",
    "    : return: A 2-D tensor where the second dimension is num_outputs.\n",
    "    \"\"\"\n",
    "    #9 TODO: Implement Function\n",
    "    \n",
    "    #Step 1: create the weights and bias\n",
    "    size = x_tensor.shape[1].value\n",
    "    weights = tf.Variable(tf.truncated_normal([size, num_outputs], mean=0, stddev=0.1))\n",
    "    bias = tf.Variable(tf.zeros(num_outputs))\n",
    "\n",
    "    #Step 2: Apply matmul\n",
    "    layer = tf.matmul(x_tensor, weights)\n",
    "\n",
    "    #Step 3: add bias\n",
    "    layer = tf.nn.bias_add(layer, bias)\n",
    " \n",
    "    #Step 4: Return layer\n",
    "    return layer\n",
    "\n",
    "\n",
    "\"\"\"\n",
    "DON'T MODIFY ANYTHING IN THIS CELL THAT IS BELOW THIS LINE\n",
    "\"\"\"\n",
    "tests.test_output(output)"
   ]
  },
  {
   "cell_type": "markdown",
   "metadata": {},
   "source": [
    "### Create Convolutional Model\n",
    "Implement the function `conv_net` to create a convolutional neural network model. The function takes in a batch of images, `x`, and outputs logits.  Use the layers you created above to create this model:\n",
    "\n",
    "* Apply 1, 2, or 3 Convolution and Max Pool layers\n",
    "* Apply a Flatten Layer\n",
    "* Apply 1, 2, or 3 Fully Connected Layers\n",
    "* Apply an Output Layer\n",
    "* Return the output\n",
    "* Apply [TensorFlow's Dropout](https://www.tensorflow.org/api_docs/python/tf/nn/dropout) to one or more layers in the model using `keep_prob`. "
   ]
  },
  {
   "cell_type": "code",
   "execution_count": 12,
   "metadata": {},
   "outputs": [
    {
     "name": "stdout",
     "output_type": "stream",
     "text": [
      "Neural Network Built!\n"
     ]
    }
   ],
   "source": [
    "def conv_net(x, keep_prob):\n",
    "    \"\"\"\n",
    "    Create a convolutional neural network model\n",
    "    : x: Placeholder tensor that holds image data.\n",
    "    : keep_prob: Placeholder tensor that hold dropout keep probability.\n",
    "    : return: Tensor that represents logits\n",
    "    \"\"\"\n",
    "    #10 TODO: Apply 1, 2, or 3 Convolution and Max Pool layers\n",
    "    #    Play around with different number of outputs, kernel size and stride\n",
    "    # Function Definition from Above:\n",
    "    #    conv2d_maxpool(x_tensor, conv_num_outputs, conv_ksize, conv_strides, pool_ksize, pool_strides)\n",
    "    \n",
    "    \n",
    "    # Parameters for 1st convolutional layer\n",
    "    conv_1_output = 32\n",
    "    conv_1_ksize = [4, 4]\n",
    "    conv_1_strides = [1, 1]\n",
    "    pool_1_ksize=[3, 3]\n",
    "    pool_1_strides = [2, 2]\n",
    "    \n",
    "    # Parameters for 2nd convolutional layer\n",
    "    conv_2_output = 16\n",
    "    conv_2_ksize = [4, 4]\n",
    "    conv_2_strides = [1, 1]\n",
    "    pool_2_ksize=[3, 3]\n",
    "    pool_2_strides = [2, 2]\n",
    "    \n",
    "    # Parameters for 3rd convolutional layer\n",
    "    conv_3_output = 8\n",
    "    conv_3_ksize = [4, 4]\n",
    "    conv_3_strides = [1, 1]\n",
    "    pool_3_ksize=[3, 3]\n",
    "    pool_3_strides = [2, 2]\n",
    "    \n",
    "    # Parameters for the fully connected layers\n",
    "    fconnect_size_1 = 128\n",
    "    fconnect_size_2 = 64\n",
    "    fconnect_size_3 = 16\n",
    "    \n",
    "    num_outputs = 10\n",
    "    \n",
    "    # First Layer\n",
    "    conv_1_layer = conv2d_maxpool(x, \n",
    "                                      conv_1_output, \n",
    "                                      conv_1_ksize, \n",
    "                                      conv_1_strides, \n",
    "                                      pool_1_ksize, \n",
    "                                      pool_1_strides)\n",
    "    # Second Layer\n",
    "    conv_2_layer = conv2d_maxpool(conv_1_layer, \n",
    "                                      conv_2_output, \n",
    "                                      conv_2_ksize, \n",
    "                                      conv_2_strides, \n",
    "                                      pool_2_ksize, \n",
    "                                      pool_2_strides)\n",
    "    \n",
    "     # Third Layer\n",
    "    conv_3_layer = conv2d_maxpool(conv_2_layer, \n",
    "                                      conv_3_output, \n",
    "                                      conv_3_ksize, \n",
    "                                      conv_3_strides, \n",
    "                                      pool_3_ksize, \n",
    "                                      pool_3_strides)\n",
    "    \n",
    "    # Prepare for flattening\n",
    "    last_conv_layer = conv_3_layer\n",
    "    # Flatten\n",
    "    flattened_layer = flatten(last_conv_layer)\n",
    "    # 1st fully connected layer\n",
    "    fully_connected_layer_1 = fully_conn(flattened_layer, fconnect_size_1)\n",
    "    # 2nd fully connected layer\n",
    "    fully_connected_layer_2 = fully_conn(fully_connected_layer_1, fconnect_size_2)\n",
    "    # 3rd fully connected layer\n",
    "    fully_connected_layer_3 = fully_conn(fully_connected_layer_2, fconnect_size_3)\n",
    "    \n",
    "    # Ouput layer\n",
    "    last_output = output(fully_connected_layer_2, num_outputs)\n",
    "    return last_output\n",
    "\n",
    "    \n",
    "    \n",
    "    #11 TODO: Apply a Flatten Layer\n",
    "    # Function Definition from Above:\n",
    "    #   flatten(x_tensor)\n",
    "    x_tensor = flatten(fully_connected_layer_3)\n",
    "    \n",
    "    \n",
    "\n",
    "    \n",
    "    #12 TODO: Apply 1, 2, or 3 Fully Connected Layers\n",
    "    #    Play around with different number of outputs\n",
    "    # Function Definition from Above:\n",
    "    #   fully_conn(x_tensor, num_outputs)\n",
    "    \n",
    "    num_outputs = (256, 128)\n",
    "    fully_conn_1 = fully_conn(x_tensor, num_outputs[0])\n",
    "    fully_conn_1 = tf.nn.dropout(fully_conn_1, keep_prob)\n",
    "    fully_conn_2 = fully_conn(fully_conn_1, num_outputs[1])\n",
    "    #fully_conn_3 = fully_conn(fully_conn_2, num_outputs[2])\n",
    "  \n",
    "\n",
    "\n",
    "\n",
    "    #13 TODO: Apply an Output Layer\n",
    "    #    Set this to the number of classes\n",
    "    # Function Definition from Above:\n",
    "    #   output(x_tensor, num_outputs)\n",
    "    \n",
    "    final_out = output(fully_conn_3, 10)\n",
    "    \n",
    "    \n",
    "    \n",
    "    #14 TODO: return output\n",
    "    return final_out\n",
    "\n",
    "\"\"\"\n",
    "DON'T MODIFY ANYTHING IN THIS CELL THAT IS BELOW THIS LINE\n",
    "\"\"\"\n",
    "\n",
    "##############################\n",
    "## Build the Neural Network ##\n",
    "##############################\n",
    "\n",
    "# Remove previous weights, bias, inputs, etc..\n",
    "tf.reset_default_graph()\n",
    "\n",
    "# Inputs\n",
    "x = neural_net_image_input((32, 32, 3))\n",
    "y = neural_net_label_input(10)\n",
    "keep_prob = neural_net_keep_prob_input()\n",
    "\n",
    "# Model\n",
    "logits = conv_net(x, keep_prob)\n",
    "\n",
    "# Name logits Tensor, so that is can be loaded from disk after training\n",
    "logits = tf.identity(logits, name='logits')\n",
    "\n",
    "# Loss and Optimizer\n",
    "cost = tf.reduce_mean(tf.nn.softmax_cross_entropy_with_logits(logits=logits, labels=y))\n",
    "optimizer = tf.train.AdamOptimizer().minimize(cost)\n",
    "\n",
    "# Accuracy\n",
    "correct_pred = tf.equal(tf.argmax(logits, 1), tf.argmax(y, 1))\n",
    "accuracy = tf.reduce_mean(tf.cast(correct_pred, tf.float32), name='accuracy')\n",
    "\n",
    "tests.test_conv_net(conv_net)"
   ]
  },
  {
   "cell_type": "markdown",
   "metadata": {},
   "source": [
    "## Train the Neural Network\n",
    "### Single Optimization\n",
    "Implement the function `train_neural_network` to do a single optimization.  The optimization should use `optimizer` to optimize in `session` with a `feed_dict` of the following:\n",
    "* `x` for image input\n",
    "* `y` for labels\n",
    "* `keep_prob` for keep probability for dropout\n",
    "\n",
    "This function will be called for each batch, so `tf.global_variables_initializer()` has already been called.\n",
    "\n",
    "Note: Nothing needs to be returned. This function is only optimizing the neural network."
   ]
  },
  {
   "cell_type": "code",
   "execution_count": 13,
   "metadata": {},
   "outputs": [
    {
     "name": "stdout",
     "output_type": "stream",
     "text": [
      "Tests Passed\n"
     ]
    }
   ],
   "source": [
    "def train_neural_network(session, optimizer, keep_probability, feature_batch, label_batch):\n",
    "    \"\"\"\n",
    "    Optimize the session on a batch of images and labels\n",
    "    : session: Current TensorFlow session\n",
    "    : optimizer: TensorFlow optimizer function\n",
    "    : keep_probability: keep probability\n",
    "    : feature_batch: Batch of Numpy image data\n",
    "    : label_batch: Batch of Numpy label data\n",
    "    \"\"\"\n",
    "    #15 TODO: Implement Function\n",
    "    session.run(optimizer, feed_dict={\n",
    "        x:feature_batch,\n",
    "        y:label_batch,\n",
    "        keep_prob:keep_probability\n",
    "    }\n",
    "    )\n",
    "\n",
    "\n",
    "\n",
    "\"\"\"\n",
    "DON'T MODIFY ANYTHING IN THIS CELL THAT IS BELOW THIS LINE\n",
    "\"\"\"\n",
    "tests.test_train_nn(train_neural_network)"
   ]
  },
  {
   "cell_type": "markdown",
   "metadata": {},
   "source": [
    "### Show Stats\n",
    "Implement the function `print_stats` to print loss and validation accuracy.  Use the global variables `valid_features` and `valid_labels` to calculate validation accuracy.  Use a keep probability of `1.0` to calculate the loss and validation accuracy."
   ]
  },
  {
   "cell_type": "code",
   "execution_count": 14,
   "metadata": {
    "collapsed": true
   },
   "outputs": [],
   "source": [
    "def print_stats(session, feature_batch, label_batch, cost, accuracy):\n",
    "    \"\"\"\n",
    "    Print information about loss and validation accuracy\n",
    "    : session: Current TensorFlow session\n",
    "    : feature_batch: Batch of Numpy image data\n",
    "    : label_batch: Batch of Numpy label data\n",
    "    : cost: TensorFlow cost function\n",
    "    : accuracy: TensorFlow accuracy function\n",
    "    \"\"\"\n",
    "    #16 TODO: Implement Function\n",
    "    loss = session.run(cost, feed_dict={\n",
    "        x: feature_batch,\n",
    "        y: label_batch,\n",
    "        keep_prob: 1.\n",
    "    })\n",
    "    \n",
    "    valid_accuracy = session.run(accuracy, feed_dict={\n",
    "        x: valid_features,\n",
    "        y: valid_labels,\n",
    "        keep_prob: 1.\n",
    "    })\n",
    "\n",
    "    print('Loss: {:>10.4f} Validation Accuracy: {:.6f}'.format(loss, valid_accuracy))\n"
   ]
  },
  {
   "cell_type": "markdown",
   "metadata": {},
   "source": [
    "### Hyperparameters\n",
    "Tune the following parameters:\n",
    "* Set `epochs` to the number of iterations until the network stops learning or start overfitting\n",
    "* Set `batch_size` to the highest number that your machine has memory for.  Most people set them to common sizes of memory:\n",
    " * 64\n",
    " * 128\n",
    " * 256\n",
    " * ...\n",
    "* Set `keep_probability` to the probability of keeping a node using dropout"
   ]
  },
  {
   "cell_type": "code",
   "execution_count": 15,
   "metadata": {
    "collapsed": true
   },
   "outputs": [],
   "source": [
    "#17 TODO: Tune Parameters\n",
    "epochs = 50\n",
    "batch_size = 1024   #MP Previously 256\n",
    "keep_probability = .75"
   ]
  },
  {
   "cell_type": "markdown",
   "metadata": {},
   "source": [
    "### Train on a Single CIFAR-10 Batch\n",
    "Instead of training the neural network on all the CIFAR-10 batches of data, let's use a single batch. This should save time while you iterate on the model to get a better accuracy.  Once the final validation accuracy is 50% or greater, run the model on all the data in the next section."
   ]
  },
  {
   "cell_type": "code",
   "execution_count": 16,
   "metadata": {},
   "outputs": [
    {
     "name": "stdout",
     "output_type": "stream",
     "text": [
      "Checking the Training on a Single Batch...\n",
      "Epoch  1, CIFAR-10 Batch 1:  Loss:     2.3008 Validation Accuracy: 0.105000\n",
      "Epoch  2, CIFAR-10 Batch 1:  Loss:     2.2772 Validation Accuracy: 0.122000\n",
      "Epoch  3, CIFAR-10 Batch 1:  Loss:     2.2046 Validation Accuracy: 0.146400\n",
      "Epoch  4, CIFAR-10 Batch 1:  Loss:     2.1411 Validation Accuracy: 0.206400\n",
      "Epoch  5, CIFAR-10 Batch 1:  Loss:     2.0848 Validation Accuracy: 0.233600\n",
      "Epoch  6, CIFAR-10 Batch 1:  Loss:     2.0486 Validation Accuracy: 0.262000\n",
      "Epoch  7, CIFAR-10 Batch 1:  Loss:     2.0155 Validation Accuracy: 0.269400\n",
      "Epoch  8, CIFAR-10 Batch 1:  Loss:     2.0186 Validation Accuracy: 0.262800\n",
      "Epoch  9, CIFAR-10 Batch 1:  Loss:     1.9818 Validation Accuracy: 0.283400\n",
      "Epoch 10, CIFAR-10 Batch 1:  Loss:     1.9720 Validation Accuracy: 0.283800\n",
      "Epoch 11, CIFAR-10 Batch 1:  Loss:     1.9692 Validation Accuracy: 0.285600\n",
      "Epoch 12, CIFAR-10 Batch 1:  Loss:     1.9383 Validation Accuracy: 0.300600\n",
      "Epoch 13, CIFAR-10 Batch 1:  Loss:     1.9412 Validation Accuracy: 0.293200\n",
      "Epoch 14, CIFAR-10 Batch 1:  Loss:     1.9098 Validation Accuracy: 0.313200\n",
      "Epoch 15, CIFAR-10 Batch 1:  Loss:     1.9014 Validation Accuracy: 0.309000\n",
      "Epoch 16, CIFAR-10 Batch 1:  Loss:     1.8874 Validation Accuracy: 0.313600\n",
      "Epoch 17, CIFAR-10 Batch 1:  Loss:     1.8727 Validation Accuracy: 0.327400\n",
      "Epoch 18, CIFAR-10 Batch 1:  Loss:     1.8665 Validation Accuracy: 0.323600\n",
      "Epoch 19, CIFAR-10 Batch 1:  Loss:     1.8413 Validation Accuracy: 0.331800\n",
      "Epoch 20, CIFAR-10 Batch 1:  Loss:     1.8259 Validation Accuracy: 0.334000\n",
      "Epoch 21, CIFAR-10 Batch 1:  Loss:     1.8183 Validation Accuracy: 0.331600\n",
      "Epoch 22, CIFAR-10 Batch 1:  Loss:     1.8002 Validation Accuracy: 0.340200\n",
      "Epoch 23, CIFAR-10 Batch 1:  Loss:     1.7941 Validation Accuracy: 0.341000\n",
      "Epoch 24, CIFAR-10 Batch 1:  Loss:     1.7851 Validation Accuracy: 0.339600\n",
      "Epoch 25, CIFAR-10 Batch 1:  Loss:     1.7686 Validation Accuracy: 0.347400\n",
      "Epoch 26, CIFAR-10 Batch 1:  Loss:     1.7501 Validation Accuracy: 0.351000\n",
      "Epoch 27, CIFAR-10 Batch 1:  Loss:     1.7360 Validation Accuracy: 0.357800\n",
      "Epoch 28, CIFAR-10 Batch 1:  Loss:     1.7244 Validation Accuracy: 0.359200\n",
      "Epoch 29, CIFAR-10 Batch 1:  Loss:     1.7126 Validation Accuracy: 0.364200\n",
      "Epoch 30, CIFAR-10 Batch 1:  Loss:     1.7041 Validation Accuracy: 0.366000\n",
      "Epoch 31, CIFAR-10 Batch 1:  Loss:     1.7058 Validation Accuracy: 0.362800\n",
      "Epoch 32, CIFAR-10 Batch 1:  Loss:     1.7043 Validation Accuracy: 0.365200\n",
      "Epoch 33, CIFAR-10 Batch 1:  Loss:     1.6964 Validation Accuracy: 0.367200\n",
      "Epoch 34, CIFAR-10 Batch 1:  Loss:     1.6809 Validation Accuracy: 0.371000\n",
      "Epoch 35, CIFAR-10 Batch 1:  Loss:     1.6624 Validation Accuracy: 0.375600\n",
      "Epoch 36, CIFAR-10 Batch 1:  Loss:     1.6448 Validation Accuracy: 0.376200\n",
      "Epoch 37, CIFAR-10 Batch 1:  Loss:     1.6351 Validation Accuracy: 0.387600\n",
      "Epoch 38, CIFAR-10 Batch 1:  Loss:     1.6271 Validation Accuracy: 0.389400\n",
      "Epoch 39, CIFAR-10 Batch 1:  Loss:     1.6174 Validation Accuracy: 0.393200\n",
      "Epoch 40, CIFAR-10 Batch 1:  Loss:     1.6072 Validation Accuracy: 0.396400\n",
      "Epoch 41, CIFAR-10 Batch 1:  Loss:     1.6102 Validation Accuracy: 0.392400\n",
      "Epoch 42, CIFAR-10 Batch 1:  Loss:     1.6279 Validation Accuracy: 0.384400\n",
      "Epoch 43, CIFAR-10 Batch 1:  Loss:     1.6218 Validation Accuracy: 0.386600\n",
      "Epoch 44, CIFAR-10 Batch 1:  Loss:     1.5967 Validation Accuracy: 0.399800\n",
      "Epoch 45, CIFAR-10 Batch 1:  Loss:     1.5849 Validation Accuracy: 0.401200\n",
      "Epoch 46, CIFAR-10 Batch 1:  Loss:     1.5785 Validation Accuracy: 0.404600\n",
      "Epoch 47, CIFAR-10 Batch 1:  Loss:     1.5700 Validation Accuracy: 0.405000\n",
      "Epoch 48, CIFAR-10 Batch 1:  Loss:     1.5596 Validation Accuracy: 0.410200\n",
      "Epoch 49, CIFAR-10 Batch 1:  Loss:     1.5507 Validation Accuracy: 0.415000\n",
      "Epoch 50, CIFAR-10 Batch 1:  Loss:     1.5449 Validation Accuracy: 0.418200\n"
     ]
    }
   ],
   "source": [
    "\"\"\"\n",
    "DON'T MODIFY ANYTHING IN THIS CELL\n",
    "\"\"\"\n",
    "print('Checking the Training on a Single Batch...')\n",
    "with tf.Session() as sess:\n",
    "    # Initializing the variables\n",
    "    sess.run(tf.global_variables_initializer())\n",
    "    \n",
    "    # Training cycle\n",
    "    for epoch in range(epochs):\n",
    "        batch_i = 1\n",
    "        for batch_features, batch_labels in helper.load_preprocess_training_batch(batch_i, batch_size):\n",
    "            train_neural_network(sess, optimizer, keep_probability, batch_features, batch_labels)\n",
    "        print('Epoch {:>2}, CIFAR-10 Batch {}:  '.format(epoch + 1, batch_i), end='')\n",
    "        print_stats(sess, batch_features, batch_labels, cost, accuracy)"
   ]
  },
  {
   "cell_type": "markdown",
   "metadata": {},
   "source": [
    "### Fully Train the Model\n",
    "Now that you got a good accuracy with a single CIFAR-10 batch, try it with all five batches."
   ]
  },
  {
   "cell_type": "code",
   "execution_count": 17,
   "metadata": {},
   "outputs": [
    {
     "name": "stdout",
     "output_type": "stream",
     "text": [
      "Training...\n",
      "Epoch  1, CIFAR-10 Batch 1:  Loss:     2.3003 Validation Accuracy: 0.105000\n",
      "Epoch  1, CIFAR-10 Batch 2:  Loss:     2.2750 Validation Accuracy: 0.119800\n",
      "Epoch  1, CIFAR-10 Batch 3:  Loss:     2.1584 Validation Accuracy: 0.191800\n",
      "Epoch  1, CIFAR-10 Batch 4:  Loss:     2.0707 Validation Accuracy: 0.219600\n",
      "Epoch  1, CIFAR-10 Batch 5:  Loss:     2.0481 Validation Accuracy: 0.231000\n",
      "Epoch  2, CIFAR-10 Batch 1:  Loss:     2.0390 Validation Accuracy: 0.264800\n",
      "Epoch  2, CIFAR-10 Batch 2:  Loss:     2.0067 Validation Accuracy: 0.265600\n",
      "Epoch  2, CIFAR-10 Batch 3:  Loss:     1.9647 Validation Accuracy: 0.266600\n",
      "Epoch  2, CIFAR-10 Batch 4:  Loss:     1.9495 Validation Accuracy: 0.258000\n",
      "Epoch  2, CIFAR-10 Batch 5:  Loss:     1.9234 Validation Accuracy: 0.276200\n",
      "Epoch  3, CIFAR-10 Batch 1:  Loss:     1.9309 Validation Accuracy: 0.285200\n",
      "Epoch  3, CIFAR-10 Batch 2:  Loss:     1.9131 Validation Accuracy: 0.302200\n",
      "Epoch  3, CIFAR-10 Batch 3:  Loss:     1.8108 Validation Accuracy: 0.327400\n",
      "Epoch  3, CIFAR-10 Batch 4:  Loss:     1.7857 Validation Accuracy: 0.330400\n",
      "Epoch  3, CIFAR-10 Batch 5:  Loss:     1.7784 Validation Accuracy: 0.351400\n",
      "Epoch  4, CIFAR-10 Batch 1:  Loss:     1.7646 Validation Accuracy: 0.359200\n",
      "Epoch  4, CIFAR-10 Batch 2:  Loss:     1.7649 Validation Accuracy: 0.355000\n",
      "Epoch  4, CIFAR-10 Batch 3:  Loss:     1.6874 Validation Accuracy: 0.367600\n",
      "Epoch  4, CIFAR-10 Batch 4:  Loss:     1.7086 Validation Accuracy: 0.362200\n",
      "Epoch  4, CIFAR-10 Batch 5:  Loss:     1.7058 Validation Accuracy: 0.373000\n",
      "Epoch  5, CIFAR-10 Batch 1:  Loss:     1.7149 Validation Accuracy: 0.377000\n",
      "Epoch  5, CIFAR-10 Batch 2:  Loss:     1.7653 Validation Accuracy: 0.354000\n",
      "Epoch  5, CIFAR-10 Batch 3:  Loss:     1.6501 Validation Accuracy: 0.375600\n",
      "Epoch  5, CIFAR-10 Batch 4:  Loss:     1.6520 Validation Accuracy: 0.382400\n",
      "Epoch  5, CIFAR-10 Batch 5:  Loss:     1.6713 Validation Accuracy: 0.382600\n",
      "Epoch  6, CIFAR-10 Batch 1:  Loss:     1.6746 Validation Accuracy: 0.389200\n",
      "Epoch  6, CIFAR-10 Batch 2:  Loss:     1.6898 Validation Accuracy: 0.384400\n",
      "Epoch  6, CIFAR-10 Batch 3:  Loss:     1.5878 Validation Accuracy: 0.397600\n",
      "Epoch  6, CIFAR-10 Batch 4:  Loss:     1.6077 Validation Accuracy: 0.395400\n",
      "Epoch  6, CIFAR-10 Batch 5:  Loss:     1.6317 Validation Accuracy: 0.407000\n",
      "Epoch  7, CIFAR-10 Batch 1:  Loss:     1.6398 Validation Accuracy: 0.400000\n",
      "Epoch  7, CIFAR-10 Batch 2:  Loss:     1.6733 Validation Accuracy: 0.389000\n",
      "Epoch  7, CIFAR-10 Batch 3:  Loss:     1.5514 Validation Accuracy: 0.411200\n",
      "Epoch  7, CIFAR-10 Batch 4:  Loss:     1.5698 Validation Accuracy: 0.409200\n",
      "Epoch  7, CIFAR-10 Batch 5:  Loss:     1.6000 Validation Accuracy: 0.415400\n",
      "Epoch  8, CIFAR-10 Batch 1:  Loss:     1.6008 Validation Accuracy: 0.418000\n",
      "Epoch  8, CIFAR-10 Batch 2:  Loss:     1.6411 Validation Accuracy: 0.401200\n",
      "Epoch  8, CIFAR-10 Batch 3:  Loss:     1.5252 Validation Accuracy: 0.421600\n",
      "Epoch  8, CIFAR-10 Batch 4:  Loss:     1.5304 Validation Accuracy: 0.420400\n",
      "Epoch  8, CIFAR-10 Batch 5:  Loss:     1.5753 Validation Accuracy: 0.427600\n",
      "Epoch  9, CIFAR-10 Batch 1:  Loss:     1.5665 Validation Accuracy: 0.429000\n",
      "Epoch  9, CIFAR-10 Batch 2:  Loss:     1.6107 Validation Accuracy: 0.412600\n",
      "Epoch  9, CIFAR-10 Batch 3:  Loss:     1.4929 Validation Accuracy: 0.431600\n",
      "Epoch  9, CIFAR-10 Batch 4:  Loss:     1.5091 Validation Accuracy: 0.424000\n",
      "Epoch  9, CIFAR-10 Batch 5:  Loss:     1.5527 Validation Accuracy: 0.437200\n",
      "Epoch 10, CIFAR-10 Batch 1:  Loss:     1.5329 Validation Accuracy: 0.436800\n",
      "Epoch 10, CIFAR-10 Batch 2:  Loss:     1.5746 Validation Accuracy: 0.424600\n",
      "Epoch 10, CIFAR-10 Batch 3:  Loss:     1.4766 Validation Accuracy: 0.438200\n",
      "Epoch 10, CIFAR-10 Batch 4:  Loss:     1.4771 Validation Accuracy: 0.441000\n",
      "Epoch 10, CIFAR-10 Batch 5:  Loss:     1.5330 Validation Accuracy: 0.443000\n",
      "Epoch 11, CIFAR-10 Batch 1:  Loss:     1.4972 Validation Accuracy: 0.451600\n",
      "Epoch 11, CIFAR-10 Batch 2:  Loss:     1.5471 Validation Accuracy: 0.432200\n",
      "Epoch 11, CIFAR-10 Batch 3:  Loss:     1.4497 Validation Accuracy: 0.441400\n",
      "Epoch 11, CIFAR-10 Batch 4:  Loss:     1.4468 Validation Accuracy: 0.451600\n",
      "Epoch 11, CIFAR-10 Batch 5:  Loss:     1.5197 Validation Accuracy: 0.448000\n",
      "Epoch 12, CIFAR-10 Batch 1:  Loss:     1.4692 Validation Accuracy: 0.458200\n",
      "Epoch 12, CIFAR-10 Batch 2:  Loss:     1.5169 Validation Accuracy: 0.446000\n",
      "Epoch 12, CIFAR-10 Batch 3:  Loss:     1.4295 Validation Accuracy: 0.451000\n",
      "Epoch 12, CIFAR-10 Batch 4:  Loss:     1.4250 Validation Accuracy: 0.461200\n",
      "Epoch 12, CIFAR-10 Batch 5:  Loss:     1.5001 Validation Accuracy: 0.461400\n",
      "Epoch 13, CIFAR-10 Batch 1:  Loss:     1.4437 Validation Accuracy: 0.463000\n",
      "Epoch 13, CIFAR-10 Batch 2:  Loss:     1.5098 Validation Accuracy: 0.446400\n",
      "Epoch 13, CIFAR-10 Batch 3:  Loss:     1.4156 Validation Accuracy: 0.457000\n",
      "Epoch 13, CIFAR-10 Batch 4:  Loss:     1.4149 Validation Accuracy: 0.464800\n",
      "Epoch 13, CIFAR-10 Batch 5:  Loss:     1.4831 Validation Accuracy: 0.465400\n",
      "Epoch 14, CIFAR-10 Batch 1:  Loss:     1.4191 Validation Accuracy: 0.470800\n",
      "Epoch 14, CIFAR-10 Batch 2:  Loss:     1.4832 Validation Accuracy: 0.456400\n",
      "Epoch 14, CIFAR-10 Batch 3:  Loss:     1.3973 Validation Accuracy: 0.468600\n",
      "Epoch 14, CIFAR-10 Batch 4:  Loss:     1.3995 Validation Accuracy: 0.467200\n",
      "Epoch 14, CIFAR-10 Batch 5:  Loss:     1.4696 Validation Accuracy: 0.471600\n",
      "Epoch 15, CIFAR-10 Batch 1:  Loss:     1.4031 Validation Accuracy: 0.471800\n",
      "Epoch 15, CIFAR-10 Batch 2:  Loss:     1.4741 Validation Accuracy: 0.457400\n",
      "Epoch 15, CIFAR-10 Batch 3:  Loss:     1.3785 Validation Accuracy: 0.471400\n",
      "Epoch 15, CIFAR-10 Batch 4:  Loss:     1.3848 Validation Accuracy: 0.467600\n",
      "Epoch 15, CIFAR-10 Batch 5:  Loss:     1.4559 Validation Accuracy: 0.475600\n",
      "Epoch 16, CIFAR-10 Batch 1:  Loss:     1.3928 Validation Accuracy: 0.478400\n",
      "Epoch 16, CIFAR-10 Batch 2:  Loss:     1.4616 Validation Accuracy: 0.463000\n",
      "Epoch 16, CIFAR-10 Batch 3:  Loss:     1.3635 Validation Accuracy: 0.475600\n",
      "Epoch 16, CIFAR-10 Batch 4:  Loss:     1.3811 Validation Accuracy: 0.469600\n",
      "Epoch 16, CIFAR-10 Batch 5:  Loss:     1.4489 Validation Accuracy: 0.484000\n",
      "Epoch 17, CIFAR-10 Batch 1:  Loss:     1.3778 Validation Accuracy: 0.484000\n",
      "Epoch 17, CIFAR-10 Batch 2:  Loss:     1.4393 Validation Accuracy: 0.475400\n",
      "Epoch 17, CIFAR-10 Batch 3:  Loss:     1.3392 Validation Accuracy: 0.484800\n",
      "Epoch 17, CIFAR-10 Batch 4:  Loss:     1.3561 Validation Accuracy: 0.479600\n",
      "Epoch 17, CIFAR-10 Batch 5:  Loss:     1.4299 Validation Accuracy: 0.490200\n",
      "Epoch 18, CIFAR-10 Batch 1:  Loss:     1.3679 Validation Accuracy: 0.485600\n",
      "Epoch 18, CIFAR-10 Batch 2:  Loss:     1.4231 Validation Accuracy: 0.477600\n",
      "Epoch 18, CIFAR-10 Batch 3:  Loss:     1.3315 Validation Accuracy: 0.490600\n",
      "Epoch 18, CIFAR-10 Batch 4:  Loss:     1.3528 Validation Accuracy: 0.477800\n",
      "Epoch 18, CIFAR-10 Batch 5:  Loss:     1.4243 Validation Accuracy: 0.490000\n",
      "Epoch 19, CIFAR-10 Batch 1:  Loss:     1.3510 Validation Accuracy: 0.493200\n",
      "Epoch 19, CIFAR-10 Batch 2:  Loss:     1.4034 Validation Accuracy: 0.485600\n",
      "Epoch 19, CIFAR-10 Batch 3:  Loss:     1.3127 Validation Accuracy: 0.497000\n",
      "Epoch 19, CIFAR-10 Batch 4:  Loss:     1.3365 Validation Accuracy: 0.486200\n",
      "Epoch 19, CIFAR-10 Batch 5:  Loss:     1.4041 Validation Accuracy: 0.499400\n",
      "Epoch 20, CIFAR-10 Batch 1:  Loss:     1.3410 Validation Accuracy: 0.496600\n",
      "Epoch 20, CIFAR-10 Batch 2:  Loss:     1.3900 Validation Accuracy: 0.488800\n",
      "Epoch 20, CIFAR-10 Batch 3:  Loss:     1.3029 Validation Accuracy: 0.499600\n",
      "Epoch 20, CIFAR-10 Batch 4:  Loss:     1.3303 Validation Accuracy: 0.489000\n",
      "Epoch 20, CIFAR-10 Batch 5:  Loss:     1.3939 Validation Accuracy: 0.499800\n",
      "Epoch 21, CIFAR-10 Batch 1:  Loss:     1.3274 Validation Accuracy: 0.502800\n",
      "Epoch 21, CIFAR-10 Batch 2:  Loss:     1.3735 Validation Accuracy: 0.493400\n",
      "Epoch 21, CIFAR-10 Batch 3:  Loss:     1.2918 Validation Accuracy: 0.504600\n",
      "Epoch 21, CIFAR-10 Batch 4:  Loss:     1.3182 Validation Accuracy: 0.495600\n",
      "Epoch 21, CIFAR-10 Batch 5:  Loss:     1.3818 Validation Accuracy: 0.504600\n",
      "Epoch 22, CIFAR-10 Batch 1:  Loss:     1.3184 Validation Accuracy: 0.504000\n",
      "Epoch 22, CIFAR-10 Batch 2:  Loss:     1.3643 Validation Accuracy: 0.495600\n",
      "Epoch 22, CIFAR-10 Batch 3:  Loss:     1.2822 Validation Accuracy: 0.505600\n"
     ]
    },
    {
     "name": "stdout",
     "output_type": "stream",
     "text": [
      "Epoch 22, CIFAR-10 Batch 4:  Loss:     1.3114 Validation Accuracy: 0.497200\n",
      "Epoch 22, CIFAR-10 Batch 5:  Loss:     1.3747 Validation Accuracy: 0.503600\n",
      "Epoch 23, CIFAR-10 Batch 1:  Loss:     1.3092 Validation Accuracy: 0.508600\n",
      "Epoch 23, CIFAR-10 Batch 2:  Loss:     1.3563 Validation Accuracy: 0.498000\n",
      "Epoch 23, CIFAR-10 Batch 3:  Loss:     1.2767 Validation Accuracy: 0.503600\n",
      "Epoch 23, CIFAR-10 Batch 4:  Loss:     1.3053 Validation Accuracy: 0.497600\n",
      "Epoch 23, CIFAR-10 Batch 5:  Loss:     1.3675 Validation Accuracy: 0.505400\n",
      "Epoch 24, CIFAR-10 Batch 1:  Loss:     1.3021 Validation Accuracy: 0.515000\n",
      "Epoch 24, CIFAR-10 Batch 2:  Loss:     1.3442 Validation Accuracy: 0.500400\n",
      "Epoch 24, CIFAR-10 Batch 3:  Loss:     1.2616 Validation Accuracy: 0.512200\n",
      "Epoch 24, CIFAR-10 Batch 4:  Loss:     1.2786 Validation Accuracy: 0.505000\n",
      "Epoch 24, CIFAR-10 Batch 5:  Loss:     1.3468 Validation Accuracy: 0.510800\n",
      "Epoch 25, CIFAR-10 Batch 1:  Loss:     1.2932 Validation Accuracy: 0.512600\n",
      "Epoch 25, CIFAR-10 Batch 2:  Loss:     1.3115 Validation Accuracy: 0.519400\n",
      "Epoch 25, CIFAR-10 Batch 3:  Loss:     1.2412 Validation Accuracy: 0.518400\n",
      "Epoch 25, CIFAR-10 Batch 4:  Loss:     1.2610 Validation Accuracy: 0.509400\n",
      "Epoch 25, CIFAR-10 Batch 5:  Loss:     1.3297 Validation Accuracy: 0.518000\n",
      "Epoch 26, CIFAR-10 Batch 1:  Loss:     1.2784 Validation Accuracy: 0.518600\n",
      "Epoch 26, CIFAR-10 Batch 2:  Loss:     1.3125 Validation Accuracy: 0.515200\n",
      "Epoch 26, CIFAR-10 Batch 3:  Loss:     1.2352 Validation Accuracy: 0.521200\n",
      "Epoch 26, CIFAR-10 Batch 4:  Loss:     1.2469 Validation Accuracy: 0.517200\n",
      "Epoch 26, CIFAR-10 Batch 5:  Loss:     1.3178 Validation Accuracy: 0.517800\n",
      "Epoch 27, CIFAR-10 Batch 1:  Loss:     1.2747 Validation Accuracy: 0.520400\n",
      "Epoch 27, CIFAR-10 Batch 2:  Loss:     1.2955 Validation Accuracy: 0.519600\n",
      "Epoch 27, CIFAR-10 Batch 3:  Loss:     1.2211 Validation Accuracy: 0.526600\n",
      "Epoch 27, CIFAR-10 Batch 4:  Loss:     1.2348 Validation Accuracy: 0.521400\n",
      "Epoch 27, CIFAR-10 Batch 5:  Loss:     1.3006 Validation Accuracy: 0.520200\n",
      "Epoch 28, CIFAR-10 Batch 1:  Loss:     1.2630 Validation Accuracy: 0.527400\n",
      "Epoch 28, CIFAR-10 Batch 2:  Loss:     1.2930 Validation Accuracy: 0.520400\n",
      "Epoch 28, CIFAR-10 Batch 3:  Loss:     1.2168 Validation Accuracy: 0.531000\n",
      "Epoch 28, CIFAR-10 Batch 4:  Loss:     1.2201 Validation Accuracy: 0.527600\n",
      "Epoch 28, CIFAR-10 Batch 5:  Loss:     1.2846 Validation Accuracy: 0.523200\n",
      "Epoch 29, CIFAR-10 Batch 1:  Loss:     1.2548 Validation Accuracy: 0.529000\n",
      "Epoch 29, CIFAR-10 Batch 2:  Loss:     1.2780 Validation Accuracy: 0.527400\n",
      "Epoch 29, CIFAR-10 Batch 3:  Loss:     1.1995 Validation Accuracy: 0.536400\n",
      "Epoch 29, CIFAR-10 Batch 4:  Loss:     1.2098 Validation Accuracy: 0.532800\n",
      "Epoch 29, CIFAR-10 Batch 5:  Loss:     1.2697 Validation Accuracy: 0.527400\n",
      "Epoch 30, CIFAR-10 Batch 1:  Loss:     1.2472 Validation Accuracy: 0.531200\n",
      "Epoch 30, CIFAR-10 Batch 2:  Loss:     1.2656 Validation Accuracy: 0.529400\n",
      "Epoch 30, CIFAR-10 Batch 3:  Loss:     1.1913 Validation Accuracy: 0.538000\n",
      "Epoch 30, CIFAR-10 Batch 4:  Loss:     1.2011 Validation Accuracy: 0.537800\n",
      "Epoch 30, CIFAR-10 Batch 5:  Loss:     1.2572 Validation Accuracy: 0.532000\n",
      "Epoch 31, CIFAR-10 Batch 1:  Loss:     1.2405 Validation Accuracy: 0.530200\n",
      "Epoch 31, CIFAR-10 Batch 2:  Loss:     1.2530 Validation Accuracy: 0.531800\n",
      "Epoch 31, CIFAR-10 Batch 3:  Loss:     1.1776 Validation Accuracy: 0.543600\n",
      "Epoch 31, CIFAR-10 Batch 4:  Loss:     1.1940 Validation Accuracy: 0.540000\n",
      "Epoch 31, CIFAR-10 Batch 5:  Loss:     1.2438 Validation Accuracy: 0.539200\n",
      "Epoch 32, CIFAR-10 Batch 1:  Loss:     1.2304 Validation Accuracy: 0.534200\n",
      "Epoch 32, CIFAR-10 Batch 2:  Loss:     1.2408 Validation Accuracy: 0.539000\n",
      "Epoch 32, CIFAR-10 Batch 3:  Loss:     1.1642 Validation Accuracy: 0.547600\n",
      "Epoch 32, CIFAR-10 Batch 4:  Loss:     1.1844 Validation Accuracy: 0.546000\n",
      "Epoch 32, CIFAR-10 Batch 5:  Loss:     1.2312 Validation Accuracy: 0.545000\n",
      "Epoch 33, CIFAR-10 Batch 1:  Loss:     1.2160 Validation Accuracy: 0.537200\n",
      "Epoch 33, CIFAR-10 Batch 2:  Loss:     1.2295 Validation Accuracy: 0.542600\n",
      "Epoch 33, CIFAR-10 Batch 3:  Loss:     1.1551 Validation Accuracy: 0.550400\n",
      "Epoch 33, CIFAR-10 Batch 4:  Loss:     1.1753 Validation Accuracy: 0.553400\n",
      "Epoch 33, CIFAR-10 Batch 5:  Loss:     1.2196 Validation Accuracy: 0.550400\n",
      "Epoch 34, CIFAR-10 Batch 1:  Loss:     1.2062 Validation Accuracy: 0.541200\n",
      "Epoch 34, CIFAR-10 Batch 2:  Loss:     1.2208 Validation Accuracy: 0.544600\n",
      "Epoch 34, CIFAR-10 Batch 3:  Loss:     1.1458 Validation Accuracy: 0.552800\n",
      "Epoch 34, CIFAR-10 Batch 4:  Loss:     1.1647 Validation Accuracy: 0.555200\n",
      "Epoch 34, CIFAR-10 Batch 5:  Loss:     1.2078 Validation Accuracy: 0.555000\n",
      "Epoch 35, CIFAR-10 Batch 1:  Loss:     1.1969 Validation Accuracy: 0.544000\n",
      "Epoch 35, CIFAR-10 Batch 2:  Loss:     1.2064 Validation Accuracy: 0.548000\n",
      "Epoch 35, CIFAR-10 Batch 3:  Loss:     1.1366 Validation Accuracy: 0.554200\n",
      "Epoch 35, CIFAR-10 Batch 4:  Loss:     1.1551 Validation Accuracy: 0.555600\n",
      "Epoch 35, CIFAR-10 Batch 5:  Loss:     1.1956 Validation Accuracy: 0.556800\n",
      "Epoch 36, CIFAR-10 Batch 1:  Loss:     1.1868 Validation Accuracy: 0.545800\n",
      "Epoch 36, CIFAR-10 Batch 2:  Loss:     1.1956 Validation Accuracy: 0.552000\n",
      "Epoch 36, CIFAR-10 Batch 3:  Loss:     1.1274 Validation Accuracy: 0.556200\n",
      "Epoch 36, CIFAR-10 Batch 4:  Loss:     1.1467 Validation Accuracy: 0.562200\n",
      "Epoch 36, CIFAR-10 Batch 5:  Loss:     1.1841 Validation Accuracy: 0.561000\n",
      "Epoch 37, CIFAR-10 Batch 1:  Loss:     1.1785 Validation Accuracy: 0.549600\n",
      "Epoch 37, CIFAR-10 Batch 2:  Loss:     1.1891 Validation Accuracy: 0.553000\n",
      "Epoch 37, CIFAR-10 Batch 3:  Loss:     1.1194 Validation Accuracy: 0.557600\n",
      "Epoch 37, CIFAR-10 Batch 4:  Loss:     1.1374 Validation Accuracy: 0.565600\n",
      "Epoch 37, CIFAR-10 Batch 5:  Loss:     1.1727 Validation Accuracy: 0.561400\n",
      "Epoch 38, CIFAR-10 Batch 1:  Loss:     1.1695 Validation Accuracy: 0.552200\n",
      "Epoch 38, CIFAR-10 Batch 2:  Loss:     1.1818 Validation Accuracy: 0.554600\n",
      "Epoch 38, CIFAR-10 Batch 3:  Loss:     1.1127 Validation Accuracy: 0.559000\n",
      "Epoch 38, CIFAR-10 Batch 4:  Loss:     1.1293 Validation Accuracy: 0.569600\n",
      "Epoch 38, CIFAR-10 Batch 5:  Loss:     1.1606 Validation Accuracy: 0.562800\n",
      "Epoch 39, CIFAR-10 Batch 1:  Loss:     1.1646 Validation Accuracy: 0.554200\n",
      "Epoch 39, CIFAR-10 Batch 2:  Loss:     1.1717 Validation Accuracy: 0.556200\n",
      "Epoch 39, CIFAR-10 Batch 3:  Loss:     1.1049 Validation Accuracy: 0.562400\n",
      "Epoch 39, CIFAR-10 Batch 4:  Loss:     1.1222 Validation Accuracy: 0.571200\n",
      "Epoch 39, CIFAR-10 Batch 5:  Loss:     1.1527 Validation Accuracy: 0.566400\n",
      "Epoch 40, CIFAR-10 Batch 1:  Loss:     1.1552 Validation Accuracy: 0.559400\n",
      "Epoch 40, CIFAR-10 Batch 2:  Loss:     1.1637 Validation Accuracy: 0.558200\n",
      "Epoch 40, CIFAR-10 Batch 3:  Loss:     1.0982 Validation Accuracy: 0.563200\n",
      "Epoch 40, CIFAR-10 Batch 4:  Loss:     1.1147 Validation Accuracy: 0.570800\n",
      "Epoch 40, CIFAR-10 Batch 5:  Loss:     1.1441 Validation Accuracy: 0.569400\n",
      "Epoch 41, CIFAR-10 Batch 1:  Loss:     1.1497 Validation Accuracy: 0.558600\n",
      "Epoch 41, CIFAR-10 Batch 2:  Loss:     1.1609 Validation Accuracy: 0.559200\n",
      "Epoch 41, CIFAR-10 Batch 3:  Loss:     1.0948 Validation Accuracy: 0.563400\n",
      "Epoch 41, CIFAR-10 Batch 4:  Loss:     1.1081 Validation Accuracy: 0.573200\n",
      "Epoch 41, CIFAR-10 Batch 5:  Loss:     1.1356 Validation Accuracy: 0.571600\n",
      "Epoch 42, CIFAR-10 Batch 1:  Loss:     1.1431 Validation Accuracy: 0.558000\n",
      "Epoch 42, CIFAR-10 Batch 2:  Loss:     1.1581 Validation Accuracy: 0.557600\n",
      "Epoch 42, CIFAR-10 Batch 3:  Loss:     1.0924 Validation Accuracy: 0.565000\n",
      "Epoch 42, CIFAR-10 Batch 4:  Loss:     1.1021 Validation Accuracy: 0.577200\n",
      "Epoch 42, CIFAR-10 Batch 5:  Loss:     1.1278 Validation Accuracy: 0.575400\n",
      "Epoch 43, CIFAR-10 Batch 1:  Loss:     1.1407 Validation Accuracy: 0.557800\n",
      "Epoch 43, CIFAR-10 Batch 2:  Loss:     1.1531 Validation Accuracy: 0.557400\n",
      "Epoch 43, CIFAR-10 Batch 3:  Loss:     1.0836 Validation Accuracy: 0.569600\n",
      "Epoch 43, CIFAR-10 Batch 4:  Loss:     1.0943 Validation Accuracy: 0.578600\n",
      "Epoch 43, CIFAR-10 Batch 5:  Loss:     1.1196 Validation Accuracy: 0.578400\n",
      "Epoch 44, CIFAR-10 Batch 1:  Loss:     1.1343 Validation Accuracy: 0.560200\n"
     ]
    },
    {
     "name": "stdout",
     "output_type": "stream",
     "text": [
      "Epoch 44, CIFAR-10 Batch 2:  Loss:     1.1442 Validation Accuracy: 0.558600\n",
      "Epoch 44, CIFAR-10 Batch 3:  Loss:     1.0748 Validation Accuracy: 0.573800\n",
      "Epoch 44, CIFAR-10 Batch 4:  Loss:     1.0873 Validation Accuracy: 0.581800\n",
      "Epoch 44, CIFAR-10 Batch 5:  Loss:     1.1145 Validation Accuracy: 0.577800\n",
      "Epoch 45, CIFAR-10 Batch 1:  Loss:     1.1303 Validation Accuracy: 0.561000\n",
      "Epoch 45, CIFAR-10 Batch 2:  Loss:     1.1353 Validation Accuracy: 0.562400\n",
      "Epoch 45, CIFAR-10 Batch 3:  Loss:     1.0669 Validation Accuracy: 0.577000\n",
      "Epoch 45, CIFAR-10 Batch 4:  Loss:     1.0825 Validation Accuracy: 0.582000\n",
      "Epoch 45, CIFAR-10 Batch 5:  Loss:     1.1066 Validation Accuracy: 0.579600\n",
      "Epoch 46, CIFAR-10 Batch 1:  Loss:     1.1201 Validation Accuracy: 0.564400\n",
      "Epoch 46, CIFAR-10 Batch 2:  Loss:     1.1262 Validation Accuracy: 0.563000\n",
      "Epoch 46, CIFAR-10 Batch 3:  Loss:     1.0583 Validation Accuracy: 0.578200\n",
      "Epoch 46, CIFAR-10 Batch 4:  Loss:     1.0781 Validation Accuracy: 0.583800\n",
      "Epoch 46, CIFAR-10 Batch 5:  Loss:     1.1022 Validation Accuracy: 0.579600\n",
      "Epoch 47, CIFAR-10 Batch 1:  Loss:     1.1158 Validation Accuracy: 0.562200\n",
      "Epoch 47, CIFAR-10 Batch 2:  Loss:     1.1258 Validation Accuracy: 0.564600\n",
      "Epoch 47, CIFAR-10 Batch 3:  Loss:     1.0534 Validation Accuracy: 0.581400\n",
      "Epoch 47, CIFAR-10 Batch 4:  Loss:     1.0759 Validation Accuracy: 0.584800\n",
      "Epoch 47, CIFAR-10 Batch 5:  Loss:     1.0941 Validation Accuracy: 0.584000\n",
      "Epoch 48, CIFAR-10 Batch 1:  Loss:     1.1201 Validation Accuracy: 0.564000\n",
      "Epoch 48, CIFAR-10 Batch 2:  Loss:     1.1175 Validation Accuracy: 0.567800\n",
      "Epoch 48, CIFAR-10 Batch 3:  Loss:     1.0549 Validation Accuracy: 0.581400\n",
      "Epoch 48, CIFAR-10 Batch 4:  Loss:     1.0666 Validation Accuracy: 0.587000\n",
      "Epoch 48, CIFAR-10 Batch 5:  Loss:     1.0877 Validation Accuracy: 0.588000\n",
      "Epoch 49, CIFAR-10 Batch 1:  Loss:     1.1120 Validation Accuracy: 0.569600\n",
      "Epoch 49, CIFAR-10 Batch 2:  Loss:     1.0970 Validation Accuracy: 0.575200\n",
      "Epoch 49, CIFAR-10 Batch 3:  Loss:     1.0421 Validation Accuracy: 0.586400\n",
      "Epoch 49, CIFAR-10 Batch 4:  Loss:     1.0597 Validation Accuracy: 0.586600\n",
      "Epoch 49, CIFAR-10 Batch 5:  Loss:     1.0784 Validation Accuracy: 0.586000\n",
      "Epoch 50, CIFAR-10 Batch 1:  Loss:     1.1011 Validation Accuracy: 0.569800\n",
      "Epoch 50, CIFAR-10 Batch 2:  Loss:     1.0942 Validation Accuracy: 0.577400\n",
      "Epoch 50, CIFAR-10 Batch 3:  Loss:     1.0346 Validation Accuracy: 0.589600\n",
      "Epoch 50, CIFAR-10 Batch 4:  Loss:     1.0554 Validation Accuracy: 0.590000\n",
      "Epoch 50, CIFAR-10 Batch 5:  Loss:     1.0704 Validation Accuracy: 0.591800\n"
     ]
    }
   ],
   "source": [
    "\"\"\"\n",
    "DON'T MODIFY ANYTHING IN THIS CELL\n",
    "\"\"\"\n",
    "save_model_path = './image_classification'\n",
    "\n",
    "print('Training...')\n",
    "with tf.Session() as sess:\n",
    "    # Initializing the variables\n",
    "    sess.run(tf.global_variables_initializer())\n",
    "    \n",
    "    # Training cycle\n",
    "    for epoch in range(epochs):\n",
    "        # Loop over all batches\n",
    "        n_batches = 5\n",
    "        for batch_i in range(1, n_batches + 1):\n",
    "            for batch_features, batch_labels in helper.load_preprocess_training_batch(batch_i, batch_size):\n",
    "                train_neural_network(sess, optimizer, keep_probability, batch_features, batch_labels)\n",
    "            print('Epoch {:>2}, CIFAR-10 Batch {}:  '.format(epoch + 1, batch_i), end='')\n",
    "            print_stats(sess, batch_features, batch_labels, cost, accuracy)\n",
    "            \n",
    "    # Save Model\n",
    "    saver = tf.train.Saver()\n",
    "    save_path = saver.save(sess, save_model_path)"
   ]
  },
  {
   "cell_type": "markdown",
   "metadata": {},
   "source": [
    "# Checkpoint\n",
    "The model has been saved to disk.\n",
    "## Test Model\n",
    "Test your model against the test dataset.  This will be your final accuracy. You should have an accuracy greater than 50%. If you don't, keep tweaking the model architecture and parameters."
   ]
  },
  {
   "cell_type": "code",
   "execution_count": 18,
   "metadata": {},
   "outputs": [
    {
     "name": "stdout",
     "output_type": "stream",
     "text": [
      "INFO:tensorflow:Restoring parameters from ./image_classification\n",
      "Testing Accuracy: 0.5879284918308259\n",
      "\n"
     ]
    },
    {
     "data": {
      "image/png": "[encoded data removed]",
      "text/plain": [
       "<matplotlib.figure.Figure at 0x7fa712ae99b0>"
      ]
     },
     "metadata": {
      "image/png": {
       "height": 319,
       "width": 355
      }
     },
     "output_type": "display_data"
    }
   ],
   "source": [
    "\"\"\"\n",
    "DON'T MODIFY ANYTHING IN THIS CELL\n",
    "\"\"\"\n",
    "%matplotlib inline\n",
    "%config InlineBackend.figure_format = 'retina'\n",
    "\n",
    "import tensorflow as tf\n",
    "import pickle\n",
    "import helper\n",
    "import random\n",
    "\n",
    "# Set batch size if not already set\n",
    "try:\n",
    "    if batch_size:\n",
    "        pass\n",
    "except NameError:\n",
    "    batch_size = 64\n",
    "\n",
    "save_model_path = './image_classification'\n",
    "n_samples = 4\n",
    "top_n_predictions = 3\n",
    "\n",
    "def test_model():\n",
    "    \"\"\"\n",
    "    Test the saved model against the test dataset\n",
    "    \"\"\"\n",
    "\n",
    "    test_features, test_labels = pickle.load(open('preprocess_test.p', mode='rb'))\n",
    "    loaded_graph = tf.Graph()\n",
    "\n",
    "    with tf.Session(graph=loaded_graph) as sess:\n",
    "        # Load model\n",
    "        loader = tf.train.import_meta_graph(save_model_path + '.meta')\n",
    "        loader.restore(sess, save_model_path)\n",
    "\n",
    "        # Get Tensors from loaded model\n",
    "        loaded_x = loaded_graph.get_tensor_by_name('x:0')\n",
    "        loaded_y = loaded_graph.get_tensor_by_name('y:0')\n",
    "        loaded_keep_prob = loaded_graph.get_tensor_by_name('keep_prob:0')\n",
    "        loaded_logits = loaded_graph.get_tensor_by_name('logits:0')\n",
    "        loaded_acc = loaded_graph.get_tensor_by_name('accuracy:0')\n",
    "        \n",
    "        # Get accuracy in batches for memory limitations\n",
    "        test_batch_acc_total = 0\n",
    "        test_batch_count = 0\n",
    "        \n",
    "        for test_feature_batch, test_label_batch in helper.batch_features_labels(test_features, test_labels, batch_size):\n",
    "            test_batch_acc_total += sess.run(\n",
    "                loaded_acc,\n",
    "                feed_dict={loaded_x: test_feature_batch, loaded_y: test_label_batch, loaded_keep_prob: 1.0})\n",
    "            test_batch_count += 1\n",
    "\n",
    "        print('Testing Accuracy: {}\\n'.format(test_batch_acc_total/test_batch_count))\n",
    "\n",
    "        # Print Random Samples\n",
    "        random_test_features, random_test_labels = tuple(zip(*random.sample(list(zip(test_features, test_labels)), n_samples)))\n",
    "        random_test_predictions = sess.run(\n",
    "            tf.nn.top_k(tf.nn.softmax(loaded_logits), top_n_predictions),\n",
    "            feed_dict={loaded_x: random_test_features, loaded_y: random_test_labels, loaded_keep_prob: 1.0})\n",
    "        helper.display_image_predictions(random_test_features, random_test_labels, random_test_predictions)\n",
    "\n",
    "\n",
    "test_model()"
   ]
  },
  {
   "cell_type": "markdown",
   "metadata": {},
   "source": [
    "## Why 50-80% Accuracy?\n",
    "You might be wondering why you can't get an accuracy any higher. First things first, 50% isn't bad for a simple CNN.  Pure guessing would get you 10% accuracy. However, you might notice people are getting scores [well above 80%](http://rodrigob.github.io/are_we_there_yet/build/classification_datasets_results.html#43494641522d3130).  That's because we haven't taught you all there is to know about neural networks. We still need to cover a few more techniques.\n",
    "## Submitting This Project\n",
    "When submitting this project, make sure to run all the cells before saving the notebook.  Save the notebook file as \"dlnd_image_classification.ipynb\" and save it as a HTML file under \"File\" -> \"Download as\".  Include the \"helper.py\" and \"problem_unittests.py\" files in your submission."
   ]
  }
 ],
 "metadata": {
  "kernelspec": {
   "display_name": "Python 3",
   "language": "python",
   "name": "python3"
  },
  "language_info": {
   "codemirror_mode": {
    "name": "ipython",
    "version": 3
   },
   "file_extension": ".py",
   "mimetype": "text/x-python",
   "name": "python",
   "nbconvert_exporter": "python",
   "pygments_lexer": "ipython3",
   "version": "3.6.3"
  }
 },
 "nbformat": 4,
 "nbformat_minor": 1
}
