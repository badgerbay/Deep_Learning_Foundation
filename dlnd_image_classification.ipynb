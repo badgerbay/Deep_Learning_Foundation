{
 "cells": [
  {
   "cell_type": "markdown",
   "metadata": {
    "collapsed": true
   },
   "source": [
    "# Image Classification\n",
    "In this project, you'll classify images from the [CIFAR-10 dataset](https://www.cs.toronto.edu/~kriz/cifar.html).  The dataset consists of airplanes, dogs, cats, and other objects. You'll preprocess the images, then train a convolutional neural network on all the samples. The images need to be normalized and the labels need to be one-hot encoded.  You'll get to apply what you learned and build a convolutional, max pooling, dropout, and fully connected layers.  At the end, you'll get to see your neural network's predictions on the sample images.\n",
    "## Get the Data\n",
    "Run the following cell to download the [CIFAR-10 dataset for python](https://www.cs.toronto.edu/~kriz/cifar-10-python.tar.gz)."
   ]
  },
  {
   "cell_type": "code",
   "execution_count": 1,
   "metadata": {},
   "outputs": [
    {
     "name": "stdout",
     "output_type": "stream",
     "text": [
      "All files found!\n"
     ]
    }
   ],
   "source": [
    "\"\"\"\n",
    "DON'T MODIFY ANYTHING IN THIS CELL THAT IS BELOW THIS LINE\n",
    "\"\"\"\n",
    "from urllib.request import urlretrieve\n",
    "from os.path import isfile, isdir\n",
    "from tqdm import tqdm\n",
    "import problem_unittests as tests\n",
    "import tarfile\n",
    "\n",
    "cifar10_dataset_folder_path = 'cifar-10-batches-py'\n",
    "\n",
    "# Use Floyd's cifar-10 dataset if present\n",
    "floyd_cifar10_location = '/cifar/cifar-10-python.tar.gz'\n",
    "if isfile(floyd_cifar10_location):\n",
    "    tar_gz_path = floyd_cifar10_location\n",
    "else:\n",
    "    tar_gz_path = 'cifar-10-python.tar.gz'\n",
    "\n",
    "class DLProgress(tqdm):\n",
    "    last_block = 0\n",
    "\n",
    "    def hook(self, block_num=1, block_size=1, total_size=None):\n",
    "        self.total = total_size\n",
    "        self.update((block_num - self.last_block) * block_size)\n",
    "        self.last_block = block_num\n",
    "\n",
    "if not isfile(tar_gz_path):\n",
    "    with DLProgress(unit='B', unit_scale=True, miniters=1, desc='CIFAR-10 Dataset') as pbar:\n",
    "        urlretrieve(\n",
    "            'https://www.cs.toronto.edu/~kriz/cifar-10-python.tar.gz',\n",
    "            tar_gz_path,\n",
    "            pbar.hook)\n",
    "\n",
    "if not isdir(cifar10_dataset_folder_path):\n",
    "    with tarfile.open(tar_gz_path) as tar:\n",
    "        tar.extractall()\n",
    "        tar.close()\n",
    "\n",
    "\n",
    "tests.test_folder_path(cifar10_dataset_folder_path)"
   ]
  },
  {
   "cell_type": "markdown",
   "metadata": {},
   "source": [
    "## Explore the Data\n",
    "The dataset is broken into batches to prevent your machine from running out of memory.  The CIFAR-10 dataset consists of 5 batches, named `data_batch_1`, `data_batch_2`, etc.. Each batch contains the labels and images that are one of the following:\n",
    "* airplane\n",
    "* automobile\n",
    "* bird\n",
    "* cat\n",
    "* deer\n",
    "* dog\n",
    "* frog\n",
    "* horse\n",
    "* ship\n",
    "* truck\n",
    "\n",
    "Understanding a dataset is part of making predictions on the data.  Play around with the code cell below by changing the `batch_id` and `sample_id`. The `batch_id` is the id for a batch (1-5). The `sample_id` is the id for a image and label pair in the batch.\n",
    "\n",
    "Ask yourself \"What are all possible labels?\", \"What is the range of values for the image data?\", \"Are the labels in order or random?\".  Answers to questions like these will help you preprocess the data and end up with better predictions."
   ]
  },
  {
   "cell_type": "code",
   "execution_count": 2,
   "metadata": {},
   "outputs": [
    {
     "name": "stdout",
     "output_type": "stream",
     "text": [
      "\n",
      "Stats of batch 2:\n",
      "Samples: 10000\n",
      "Label Counts: {0: 984, 1: 1007, 2: 1010, 3: 995, 4: 1010, 5: 988, 6: 1008, 7: 1026, 8: 987, 9: 985}\n",
      "First 20 Labels: [1, 6, 6, 8, 8, 3, 4, 6, 0, 6, 0, 3, 6, 6, 5, 4, 8, 3, 2, 6]\n",
      "\n",
      "Example of Image 3:\n",
      "Image - Min Value: 4 Max Value: 255\n",
      "Image - Shape: (32, 32, 3)\n",
      "Label - Label Id: 8 Name: ship\n"
     ]
    },
    {
     "data": {
      "image/png": "[encoded data removed]",
      "text/plain": [
       "<matplotlib.figure.Figure at 0x7f273d8d90f0>"
      ]
     },
     "metadata": {
      "image/png": {
       "height": 250,
       "width": 253
      }
     },
     "output_type": "display_data"
    }
   ],
   "source": [
    "%matplotlib inline\n",
    "%config InlineBackend.figure_format = 'retina'\n",
    "\n",
    "import helper\n",
    "import numpy as np\n",
    "\n",
    "# Explore the dataset\n",
    "batch_id = 2  #1\n",
    "sample_id = 3  #5\n",
    "helper.display_stats(cifar10_dataset_folder_path, batch_id, sample_id)"
   ]
  },
  {
   "cell_type": "markdown",
   "metadata": {},
   "source": [
    "## Implement Preprocess Functions\n",
    "### Normalize\n",
    "In the cell below, implement the `normalize` function to take in image data, `x`, and return it as a normalized Numpy array. The values should be in the range of 0 to 1, inclusive.  The return object should be the same shape as `x`."
   ]
  },
  {
   "cell_type": "code",
   "execution_count": 3,
   "metadata": {},
   "outputs": [
    {
     "name": "stdout",
     "output_type": "stream",
     "text": [
      "Tests Passed\n"
     ]
    }
   ],
   "source": [
    "def normalize(x):\n",
    "    \"\"\"\n",
    "    Normalize a list of sample image data in the range of 0 to 1\n",
    "    : x: List of image data.  The image shape is (32, 32, 3)\n",
    "    : return: Numpy array of normalize data\n",
    "    \"\"\"\n",
    "    #1 TODO: Implement Function  MP:PASS\n",
    "    _min = np.min(x)\n",
    "    _max = np.max(x)\n",
    "    return (x - _min)/(_max - _min)\n",
    "\n",
    "\n",
    "\"\"\"\n",
    "DON'T MODIFY ANYTHING IN THIS CELL THAT IS BELOW THIS LINE\n",
    "\"\"\"\n",
    "tests.test_normalize(normalize)"
   ]
  },
  {
   "cell_type": "markdown",
   "metadata": {},
   "source": [
    "### One-hot encode\n",
    "Just like the previous code cell, you'll be implementing a function for preprocessing.  This time, you'll implement the `one_hot_encode` function. The input, `x`, are a list of labels.  Implement the function to return the list of labels as One-Hot encoded Numpy array.  The possible values for labels are 0 to 9. The one-hot encoding function should return the same encoding for each value between each call to `one_hot_encode`.  Make sure to save the map of encodings outside the function.\n",
    "\n",
    "Hint: Don't reinvent the wheel."
   ]
  },
  {
   "cell_type": "code",
   "execution_count": 4,
   "metadata": {},
   "outputs": [
    {
     "name": "stdout",
     "output_type": "stream",
     "text": [
      "Tests Passed\n"
     ]
    }
   ],
   "source": [
    "def one_hot_encode(x):\n",
    "    \"\"\"\n",
    "    One hot encode a list of sample labels. Return a one-hot encoded vector for each label.\n",
    "    : x: List of sample Labels\n",
    "    : return: Numpy array of one-hot encoded labels\n",
    "    \"\"\"\n",
    "    #2 TODO: Implement Function  MP:PASS\n",
    "    return np.eye(10)[x]\n",
    "\n",
    "\n",
    "\"\"\"\n",
    "DON'T MODIFY ANYTHING IN THIS CELL THAT IS BELOW THIS LINE\n",
    "\"\"\"\n",
    "tests.test_one_hot_encode(one_hot_encode)"
   ]
  },
  {
   "cell_type": "markdown",
   "metadata": {},
   "source": [
    "### Randomize Data\n",
    "As you saw from exploring the data above, the order of the samples are randomized.  It doesn't hurt to randomize it again, but you don't need to for this dataset."
   ]
  },
  {
   "cell_type": "markdown",
   "metadata": {},
   "source": [
    "## Preprocess all the data and save it\n",
    "Running the code cell below will preprocess all the CIFAR-10 data and save it to file. The code below also uses 10% of the training data for validation."
   ]
  },
  {
   "cell_type": "code",
   "execution_count": 5,
   "metadata": {
    "collapsed": true
   },
   "outputs": [],
   "source": [
    "\"\"\"\n",
    "DON'T MODIFY ANYTHING IN THIS CELL\n",
    "\"\"\"\n",
    "# Preprocess Training, Validation, and Testing Data\n",
    "helper.preprocess_and_save_data(cifar10_dataset_folder_path, normalize, one_hot_encode)"
   ]
  },
  {
   "cell_type": "markdown",
   "metadata": {},
   "source": [
    "# Check Point\n",
    "This is your first checkpoint.  If you ever decide to come back to this notebook or have to restart the notebook, you can start from here.  The preprocessed data has been saved to disk."
   ]
  },
  {
   "cell_type": "code",
   "execution_count": 6,
   "metadata": {
    "collapsed": true
   },
   "outputs": [],
   "source": [
    "\"\"\"\n",
    "DON'T MODIFY ANYTHING IN THIS CELL\n",
    "\"\"\"\n",
    "import pickle\n",
    "import problem_unittests as tests\n",
    "import helper\n",
    "\n",
    "# Load the Preprocessed Validation data\n",
    "valid_features, valid_labels = pickle.load(open('preprocess_validation.p', mode='rb'))"
   ]
  },
  {
   "cell_type": "markdown",
   "metadata": {},
   "source": [
    "## Build the network\n",
    "For the neural network, you'll build each layer into a function.  Most of the code you've seen has been outside of functions. To test your code more thoroughly, we require that you put each layer in a function.  This allows us to give you better feedback and test for simple mistakes using our unittests before you submit your project.\n",
    "\n",
    ">**Note:** If you're finding it hard to dedicate enough time for this course each week, we've provided a small shortcut to this part of the project. In the next couple of problems, you'll have the option to use classes from the [TensorFlow Layers](https://www.tensorflow.org/api_docs/python/tf/layers) or [TensorFlow Layers (contrib)](https://www.tensorflow.org/api_guides/python/contrib.layers) packages to build each layer, except the layers you build in the \"Convolutional and Max Pooling Layer\" section.  TF Layers is similar to Keras's and TFLearn's abstraction to layers, so it's easy to pickup.\n",
    "\n",
    ">However, if you would like to get the most out of this course, try to solve all the problems _without_ using anything from the TF Layers packages. You **can** still use classes from other packages that happen to have the same name as ones you find in TF Layers! For example, instead of using the TF Layers version of the `conv2d` class, [tf.layers.conv2d](https://www.tensorflow.org/api_docs/python/tf/layers/conv2d), you would want to use the TF Neural Network version of `conv2d`, [tf.nn.conv2d](https://www.tensorflow.org/api_docs/python/tf/nn/conv2d). \n",
    "\n",
    "Let's begin!\n",
    "\n",
    "### Input\n",
    "The neural network needs to read the image data, one-hot encoded labels, and dropout keep probability. Implement the following functions\n",
    "* Implement `neural_net_image_input`\n",
    " * Return a [TF Placeholder](https://www.tensorflow.org/api_docs/python/tf/placeholder)\n",
    " * Set the shape using `image_shape` with batch size set to `None`.\n",
    " * Name the TensorFlow placeholder \"x\" using the TensorFlow `name` parameter in the [TF Placeholder](https://www.tensorflow.org/api_docs/python/tf/placeholder).\n",
    "* Implement `neural_net_label_input`\n",
    " * Return a [TF Placeholder](https://www.tensorflow.org/api_docs/python/tf/placeholder)\n",
    " * Set the shape using `n_classes` with batch size set to `None`.\n",
    " * Name the TensorFlow placeholder \"y\" using the TensorFlow `name` parameter in the [TF Placeholder](https://www.tensorflow.org/api_docs/python/tf/placeholder).\n",
    "* Implement `neural_net_keep_prob_input`\n",
    " * Return a [TF Placeholder](https://www.tensorflow.org/api_docs/python/tf/placeholder) for dropout keep probability.\n",
    " * Name the TensorFlow placeholder \"keep_prob\" using the TensorFlow `name` parameter in the [TF Placeholder](https://www.tensorflow.org/api_docs/python/tf/placeholder).\n",
    "\n",
    "These names will be used at the end of the project to load your saved model.\n",
    "\n",
    "Note: `None` for shapes in TensorFlow allow for a dynamic size."
   ]
  },
  {
   "cell_type": "code",
   "execution_count": 7,
   "metadata": {},
   "outputs": [
    {
     "name": "stdout",
     "output_type": "stream",
     "text": [
      "Image Input Tests Passed.\n",
      "Label Input Tests Passed.\n",
      "Keep Prob Tests Passed.\n"
     ]
    }
   ],
   "source": [
    "import tensorflow as tf\n",
    "\n",
    "def neural_net_image_input(image_shape):\n",
    "    \"\"\"\n",
    "    Return a Tensor for a batch of image input\n",
    "    : image_shape: Shape of the images\n",
    "    : return: Tensor for image input.\n",
    "    \"\"\"\n",
    "    #3 TODO: Implement Function\n",
    "    return tf.placeholder(tf.float32, shape=(None, *image_shape), name='x')\n",
    "\n",
    "\n",
    "def neural_net_label_input(n_classes):\n",
    "    \"\"\"\n",
    "    Return a Tensor for a batch of label input\n",
    "    : n_classes: Number of classes\n",
    "    : return: Tensor for label input.\n",
    "    \"\"\"\n",
    "    #4 TODO: Implement Function\n",
    "    return tf.placeholder(tf.float32, [None, n_classes], name='y')\n",
    "\n",
    "\n",
    "def neural_net_keep_prob_input():\n",
    "    \"\"\"\n",
    "    Return a Tensor for keep probability\n",
    "    : return: Tensor for keep probability.\n",
    "    \"\"\"\n",
    "    #5 TODO: Implement Function\n",
    "    return tf.placeholder(tf.float32, name='keep_prob')\n",
    "\n",
    "\n",
    "\n",
    "\"\"\"\n",
    "DON'T MODIFY ANYTHING IN THIS CELL THAT IS BELOW THIS LINE\n",
    "\"\"\"\n",
    "tf.reset_default_graph()\n",
    "tests.test_nn_image_inputs(neural_net_image_input)\n",
    "tests.test_nn_label_inputs(neural_net_label_input)\n",
    "tests.test_nn_keep_prob_inputs(neural_net_keep_prob_input)"
   ]
  },
  {
   "cell_type": "markdown",
   "metadata": {},
   "source": [
    "### Convolution and Max Pooling Layer\n",
    "Convolution layers have a lot of success with images. For this code cell, you should implement the function `conv2d_maxpool` to apply convolution then max pooling:\n",
    "* Create the weight and bias using `conv_ksize`, `conv_num_outputs` and the shape of `x_tensor`.\n",
    "* Apply a convolution to `x_tensor` using weight and `conv_strides`.\n",
    " * We recommend you use same padding, but you're welcome to use any padding.\n",
    "* Add bias\n",
    "* Add a nonlinear activation to the convolution.\n",
    "* Apply Max Pooling using `pool_ksize` and `pool_strides`.\n",
    " * We recommend you use same padding, but you're welcome to use any padding.\n",
    "\n",
    "**Note:** You **can't** use [TensorFlow Layers](https://www.tensorflow.org/api_docs/python/tf/layers) or [TensorFlow Layers (contrib)](https://www.tensorflow.org/api_guides/python/contrib.layers) for **this** layer, but you can still use TensorFlow's [Neural Network](https://www.tensorflow.org/api_docs/python/tf/nn) package. You may still use the shortcut option for all the **other** layers."
   ]
  },
  {
   "cell_type": "code",
   "execution_count": 8,
   "metadata": {},
   "outputs": [
    {
     "name": "stdout",
     "output_type": "stream",
     "text": [
      "Tests Passed\n"
     ]
    }
   ],
   "source": [
    "import tensorflow as tf\n",
    "import numpy as np       \n",
    "\n",
    "def conv2d_maxpool(x_tensor, conv_num_outputs, conv_ksize, conv_strides, pool_ksize, pool_strides):\n",
    "    \"\"\"\n",
    "    Apply convolution then max pooling to x_tensor\n",
    "    :param x_tensor: TensorFlow Tensor\n",
    "    :param conv_num_outputs: Number of outputs for the convolutional layer\n",
    "    :param conv_ksize: kernal size 2-D Tuple for the convolutional layer\n",
    "    :param conv_strides: Stride 2-D Tuple for convolution\n",
    "    :param pool_ksize: kernal size 2-D Tuple for pool\n",
    "    :param pool_strides: Stride 2-D Tuple for pool\n",
    "    : return: A tensor that represents convolution and max pooling of x_tensor\n",
    "    \"\"\"\n",
    "\n",
    "    # TODO: Implement Function\n",
    "    #Step 1: Get the shape of the input tensor\n",
    "    input_depth = x_tensor.get_shape().as_list()[3]\n",
    "    #Step 2: Calculate weights\n",
    "    weights = tf.Variable(tf.truncated_normal([*conv_ksize,input_depth,conv_num_outputs], mean=.0, stddev=.01))\n",
    "    #Step 3: Calculate bias\n",
    "    bias = tf.Variable(tf.zeros(conv_num_outputs))\n",
    "    #Step 4: Set padding\n",
    "    padding = 'SAME'\n",
    "    #Step 5: Apply convolution layer\n",
    "    conv = tf.nn.conv2d(x_tensor, weights, padding=padding, strides=[1,*conv_strides,1], use_cudnn_on_gpu=True)\n",
    "    #Step 6: Add bias\n",
    "    conv = tf.nn.bias_add(conv, bias)\n",
    "    #Step 7: Apply pooling layer and return (NOTE: Apply maxpool before applying ReLU)\n",
    "    conv = tf.nn.max_pool(value=conv, ksize=[1,*pool_ksize,1], strides=[1,*pool_strides,1], padding=padding, name='max_pool')\n",
    "    #Step 8: Apply recti-linear-unit layer (ReLU)\n",
    "    return tf.nn.relu(conv)\n",
    "    \n",
    "    \n",
    "\n",
    "\"\"\"\n",
    "DON'T MODIFY ANYTHING IN THIS CELL THAT IS BELOW THIS LINE\n",
    "\"\"\"\n",
    "tests.test_con_pool(conv2d_maxpool)"
   ]
  },
  {
   "cell_type": "markdown",
   "metadata": {},
   "source": [
    "### Flatten Layer\n",
    "Implement the `flatten` function to change the dimension of `x_tensor` from a 4-D tensor to a 2-D tensor.  The output should be the shape (*Batch Size*, *Flattened Image Size*). Shortcut option: you can use classes from the [TensorFlow Layers](https://www.tensorflow.org/api_docs/python/tf/layers) or [TensorFlow Layers (contrib)](https://www.tensorflow.org/api_guides/python/contrib.layers) packages for this layer. For more of a challenge, only use other TensorFlow packages."
   ]
  },
  {
   "cell_type": "code",
   "execution_count": 9,
   "metadata": {},
   "outputs": [
    {
     "name": "stdout",
     "output_type": "stream",
     "text": [
      "Tests Passed\n"
     ]
    }
   ],
   "source": [
    "def flatten(x_tensor):\n",
    "    \"\"\"\n",
    "    Flatten x_tensor to (Batch Size, Flattened Image Size)\n",
    "    : x_tensor: A tensor of size (Batch Size, ...), where ... are the image dimensions.\n",
    "    : return: A tensor of size (Batch Size, Flattened Image Size).\n",
    "    \"\"\"\n",
    "    #7 TODO: Implement Function\n",
    "    #Step 1: Get the shape\n",
    "    shape = x_tensor.get_shape()\n",
    "    #Step 2: Determine the number of features\n",
    "    num_features = shape[1:4].num_elements()\n",
    "    #Step 3: Flatten\n",
    "    flattened = tf.reshape(x_tensor, [-1,num_features])\n",
    "    #Step 4: Return flattened\n",
    "    return flattened\n",
    "\n",
    "\n",
    "\n",
    "\"\"\"\n",
    "DON'T MODIFY ANYTHING IN THIS CELL THAT IS BELOW THIS LINE\n",
    "\"\"\"\n",
    "tests.test_flatten(flatten)"
   ]
  },
  {
   "cell_type": "markdown",
   "metadata": {},
   "source": [
    "### Fully-Connected Layer\n",
    "Implement the `fully_conn` function to apply a fully connected layer to `x_tensor` with the shape (*Batch Size*, *num_outputs*). Shortcut option: you can use classes from the [TensorFlow Layers](https://www.tensorflow.org/api_docs/python/tf/layers) or [TensorFlow Layers (contrib)](https://www.tensorflow.org/api_guides/python/contrib.layers) packages for this layer. For more of a challenge, only use other TensorFlow packages."
   ]
  },
  {
   "cell_type": "code",
   "execution_count": 10,
   "metadata": {},
   "outputs": [
    {
     "name": "stdout",
     "output_type": "stream",
     "text": [
      "Tests Passed\n"
     ]
    }
   ],
   "source": [
    "def fully_conn(x_tensor, num_outputs):\n",
    "    \"\"\"\n",
    "    Apply a fully connected layer to x_tensor using weight and bias\n",
    "    : x_tensor: A 2-D tensor where the first dimension is batch size.\n",
    "    : num_outputs: The number of output that the new tensor should be.\n",
    "    : return: A 2-D tensor where the second dimension is num_outputs.\n",
    "    \"\"\"\n",
    "    #8 TODO: Implement Function\n",
    "    w_shape = (int(x_tensor.get_shape().as_list()[1]), num_outputs)\n",
    "    w = tf.Variable(tf.random_normal(w_shape, stddev=0.1))\n",
    "    b = tf.Variable(tf.zeros(num_outputs))\n",
    "    f_conn = tf.add(tf.matmul(x_tensor, w), b)\n",
    "    f_conn = tf.nn.relu(f_conn)\n",
    "    return f_conn\n",
    "\n",
    "    \n",
    "\n",
    "\n",
    "\"\"\"\n",
    "DON'T MODIFY ANYTHING IN THIS CELL THAT IS BELOW THIS LINE\n",
    "\"\"\"\n",
    "tests.test_fully_conn(fully_conn)"
   ]
  },
  {
   "cell_type": "markdown",
   "metadata": {},
   "source": [
    "### Output Layer\n",
    "Implement the `output` function to apply a fully connected layer to `x_tensor` with the shape (*Batch Size*, *num_outputs*). Shortcut option: you can use classes from the [TensorFlow Layers](https://www.tensorflow.org/api_docs/python/tf/layers) or [TensorFlow Layers (contrib)](https://www.tensorflow.org/api_guides/python/contrib.layers) packages for this layer. For more of a challenge, only use other TensorFlow packages.\n",
    "\n",
    "**Note:** Activation, softmax, or cross entropy should **not** be applied to this."
   ]
  },
  {
   "cell_type": "code",
   "execution_count": 11,
   "metadata": {},
   "outputs": [
    {
     "name": "stdout",
     "output_type": "stream",
     "text": [
      "Tests Passed\n"
     ]
    }
   ],
   "source": [
    "def output(x_tensor, num_outputs):\n",
    "    \"\"\"\n",
    "    Apply a output layer to x_tensor using weight and bias\n",
    "    : x_tensor: A 2-D tensor where the first dimension is batch size.\n",
    "    : num_outputs: The number of output that the new tensor should be.\n",
    "    : return: A 2-D tensor where the second dimension is num_outputs.\n",
    "    \"\"\"\n",
    "    #9 TODO: Implement Function\n",
    "    \n",
    "    #Step 1: create the weights and bias\n",
    "    size = x_tensor.shape[1].value\n",
    "    weights = tf.Variable(tf.truncated_normal([size, num_outputs], mean=0, stddev=0.1))\n",
    "    bias = tf.Variable(tf.zeros(num_outputs))\n",
    "\n",
    "    #Step 2: Apply matmul\n",
    "    layer = tf.matmul(x_tensor, weights)\n",
    "\n",
    "    #Step 3: add bias\n",
    "    layer = tf.nn.bias_add(layer, bias)\n",
    " \n",
    "    #Step 4: Return layer\n",
    "    return layer\n",
    "\n",
    "\n",
    "\"\"\"\n",
    "DON'T MODIFY ANYTHING IN THIS CELL THAT IS BELOW THIS LINE\n",
    "\"\"\"\n",
    "tests.test_output(output)"
   ]
  },
  {
   "cell_type": "markdown",
   "metadata": {},
   "source": [
    "### Create Convolutional Model\n",
    "Implement the function `conv_net` to create a convolutional neural network model. The function takes in a batch of images, `x`, and outputs logits.  Use the layers you created above to create this model:\n",
    "\n",
    "* Apply 1, 2, or 3 Convolution and Max Pool layers\n",
    "* Apply a Flatten Layer\n",
    "* Apply 1, 2, or 3 Fully Connected Layers\n",
    "* Apply an Output Layer\n",
    "* Return the output\n",
    "* Apply [TensorFlow's Dropout](https://www.tensorflow.org/api_docs/python/tf/nn/dropout) to one or more layers in the model using `keep_prob`. "
   ]
  },
  {
   "cell_type": "code",
   "execution_count": 12,
   "metadata": {},
   "outputs": [
    {
     "name": "stdout",
     "output_type": "stream",
     "text": [
      "Neural Network Built!\n"
     ]
    }
   ],
   "source": [
    "def conv_net(x, keep_prob):\n",
    "    \"\"\"\n",
    "    Create a convolutional neural network model\n",
    "    : x: Placeholder tensor that holds image data.\n",
    "    : keep_prob: Placeholder tensor that hold dropout keep probability.\n",
    "    : return: Tensor that represents logits\n",
    "    \"\"\"\n",
    "    #10 TODO: Apply 1, 2, or 3 Convolution and Max Pool layers\n",
    "    #    Play around with different number of outputs, kernel size and stride\n",
    "    # Function Definition from Above:\n",
    "    #    conv2d_maxpool(x_tensor, conv_num_outputs, conv_ksize, conv_strides, pool_ksize, pool_strides)\n",
    "    # MP NOTE: INCREASING OUTPUTS WITH EACH LAYER: (EG 32, 64, 128)  \n",
    "    \n",
    "    # Parameters for 1st convolutional layer\n",
    "    conv_1_output = 32\n",
    "    conv_1_ksize = [4, 4]\n",
    "    conv_1_strides = [1, 1]\n",
    "    pool_1_ksize=[3, 3]\n",
    "    pool_1_strides = [2, 2]\n",
    "    \n",
    "    # Parameters for 2nd convolutional layer\n",
    "    conv_2_output = 64\n",
    "    conv_2_ksize = [4, 4]\n",
    "    conv_2_strides = [1, 1]\n",
    "    pool_2_ksize=[3, 3]\n",
    "    pool_2_strides = [2, 2]\n",
    "    \n",
    "    # Parameters for 3rd convolutional layer\n",
    "    conv_3_output = 128\n",
    "    conv_3_ksize = [4, 4]\n",
    "    conv_3_strides = [1, 1]\n",
    "    pool_3_ksize=[3, 3]\n",
    "    pool_3_strides = [2, 2]\n",
    "    \n",
    "    # Parameters for the fully connected layers\n",
    "    fconnect_size_1 = 128\n",
    "    fconnect_size_2 = 64\n",
    "    fconnect_size_3 = 16\n",
    "    \n",
    "    num_outputs = 10\n",
    "    \n",
    "    # First Layer\n",
    "    conv_1_layer = conv2d_maxpool(x, \n",
    "                                      conv_1_output, \n",
    "                                      conv_1_ksize, \n",
    "                                      conv_1_strides, \n",
    "                                      pool_1_ksize, \n",
    "                                      pool_1_strides)\n",
    "    # Second Layer\n",
    "    conv_2_layer = conv2d_maxpool(conv_1_layer, \n",
    "                                      conv_2_output, \n",
    "                                      conv_2_ksize, \n",
    "                                      conv_2_strides, \n",
    "                                      pool_2_ksize, \n",
    "                                      pool_2_strides)\n",
    "    \n",
    "     # Third Layer\n",
    "    conv_3_layer = conv2d_maxpool(conv_2_layer, \n",
    "                                      conv_3_output, \n",
    "                                      conv_3_ksize, \n",
    "                                      conv_3_strides, \n",
    "                                      pool_3_ksize, \n",
    "                                      pool_3_strides)\n",
    "    \n",
    "    # Prepare for flattening\n",
    "    last_conv_layer = conv_3_layer\n",
    "    # Flatten\n",
    "    flattened_layer = flatten(last_conv_layer)\n",
    "    # 1st fully connected layer\n",
    "    fully_connected_layer_1 = fully_conn(flattened_layer, fconnect_size_1)\n",
    "    \"\"\"\n",
    "    #Dropout layer: AS PER REVIEWER\n",
    "    \"\"\"\n",
    "    #Droput layer\n",
    "    fully_connected_layer_1 = tf.nn.dropout(fully_connected_layer_1, keep_prob)\n",
    "    # 2nd fully connected layer\n",
    "    fully_connected_layer_2 = fully_conn(fully_connected_layer_1, fconnect_size_2)\n",
    "    # 3rd fully connected layer\n",
    "    fully_connected_layer_3 = fully_conn(fully_connected_layer_2, fconnect_size_3)\n",
    "    \n",
    "    # Ouput layer\n",
    "    last_output = output(fully_connected_layer_2, num_outputs)\n",
    "    return last_output\n",
    "\n",
    "    \n",
    "\"\"\" \n",
    "    REMOVED AS PER REVIEWER:\n",
    "    #11 TODO: Apply a Flatten Layer\n",
    "    # Function Definition from Above:\n",
    "    #   flatten(x_tensor)\n",
    "    x_tensor = flatten(fully_connected_layer_3)\n",
    "    \n",
    "        \n",
    "    #12 TODO: Apply 1, 2, or 3 Fully Connected Layers\n",
    "    #    Play around with different number of outputs\n",
    "    # Function Definition from Above:\n",
    "    #   fully_conn(x_tensor, num_outputs)\n",
    "    \n",
    "    num_outputs = (256, 128)\n",
    "    fully_conn_1 = fully_conn(x_tensor, num_outputs[0])\n",
    "    fully_conn_1 = tf.nn.dropout(fully_conn_1, keep_prob)\n",
    "    fully_conn_2 = fully_conn(fully_conn_1, num_outputs[1])\n",
    "    #fully_conn_3 = fully_conn(fully_conn_2, num_outputs[2])\n",
    "  \n",
    "\n",
    "    #13 TODO: Apply an Output Layer\n",
    "    #    Set this to the number of classes\n",
    "    # Function Definition from Above:\n",
    "    #   output(x_tensor, num_outputs)\n",
    "    \n",
    "    final_out = output(fully_conn_3, 10)\n",
    "    \n",
    "        \n",
    "    #14 TODO: return output\n",
    "    return final_out\n",
    "\"\"\"\n",
    "\n",
    "\n",
    "\n",
    "\"\"\"\n",
    "DON'T MODIFY ANYTHING IN THIS CELL THAT IS BELOW THIS LINE\n",
    "\"\"\"\n",
    "\n",
    "##############################\n",
    "## Build the Neural Network ##\n",
    "##############################\n",
    "\n",
    "# Remove previous weights, bias, inputs, etc..\n",
    "tf.reset_default_graph()\n",
    "\n",
    "# Inputs\n",
    "x = neural_net_image_input((32, 32, 3))\n",
    "y = neural_net_label_input(10)\n",
    "keep_prob = neural_net_keep_prob_input()\n",
    "\n",
    "# Model\n",
    "logits = conv_net(x, keep_prob)\n",
    "\n",
    "# Name logits Tensor, so that is can be loaded from disk after training\n",
    "logits = tf.identity(logits, name='logits')\n",
    "\n",
    "# Loss and Optimizer\n",
    "cost = tf.reduce_mean(tf.nn.softmax_cross_entropy_with_logits(logits=logits, labels=y))\n",
    "optimizer = tf.train.AdamOptimizer().minimize(cost)\n",
    "\n",
    "# Accuracy\n",
    "correct_pred = tf.equal(tf.argmax(logits, 1), tf.argmax(y, 1))\n",
    "accuracy = tf.reduce_mean(tf.cast(correct_pred, tf.float32), name='accuracy')\n",
    "\n",
    "tests.test_conv_net(conv_net)"
   ]
  },
  {
   "cell_type": "markdown",
   "metadata": {},
   "source": [
    "## Train the Neural Network\n",
    "### Single Optimization\n",
    "Implement the function `train_neural_network` to do a single optimization.  The optimization should use `optimizer` to optimize in `session` with a `feed_dict` of the following:\n",
    "* `x` for image input\n",
    "* `y` for labels\n",
    "* `keep_prob` for keep probability for dropout\n",
    "\n",
    "This function will be called for each batch, so `tf.global_variables_initializer()` has already been called.\n",
    "\n",
    "Note: Nothing needs to be returned. This function is only optimizing the neural network."
   ]
  },
  {
   "cell_type": "code",
   "execution_count": 13,
   "metadata": {},
   "outputs": [
    {
     "name": "stdout",
     "output_type": "stream",
     "text": [
      "Tests Passed\n"
     ]
    }
   ],
   "source": [
    "def train_neural_network(session, optimizer, keep_probability, feature_batch, label_batch):\n",
    "    \"\"\"\n",
    "    Optimize the session on a batch of images and labels\n",
    "    : session: Current TensorFlow session\n",
    "    : optimizer: TensorFlow optimizer function\n",
    "    : keep_probability: keep probability\n",
    "    : feature_batch: Batch of Numpy image data\n",
    "    : label_batch: Batch of Numpy label data\n",
    "    \"\"\"\n",
    "    #15 TODO: Implement Function\n",
    "    session.run(optimizer, feed_dict={\n",
    "        x:feature_batch,\n",
    "        y:label_batch,\n",
    "        keep_prob:keep_probability\n",
    "    }\n",
    "    )\n",
    "\n",
    "\n",
    "\n",
    "\"\"\"\n",
    "DON'T MODIFY ANYTHING IN THIS CELL THAT IS BELOW THIS LINE\n",
    "\"\"\"\n",
    "tests.test_train_nn(train_neural_network)"
   ]
  },
  {
   "cell_type": "markdown",
   "metadata": {},
   "source": [
    "### Show Stats\n",
    "Implement the function `print_stats` to print loss and validation accuracy.  Use the global variables `valid_features` and `valid_labels` to calculate validation accuracy.  Use a keep probability of `1.0` to calculate the loss and validation accuracy."
   ]
  },
  {
   "cell_type": "code",
   "execution_count": 14,
   "metadata": {
    "collapsed": true
   },
   "outputs": [],
   "source": [
    "def print_stats(session, feature_batch, label_batch, cost, accuracy):\n",
    "    \"\"\"\n",
    "    Print information about loss and validation accuracy\n",
    "    : session: Current TensorFlow session\n",
    "    : feature_batch: Batch of Numpy image data\n",
    "    : label_batch: Batch of Numpy label data\n",
    "    : cost: TensorFlow cost function\n",
    "    : accuracy: TensorFlow accuracy function\n",
    "    \"\"\"\n",
    "    #16 TODO: Implement Function\n",
    "    loss = session.run(cost, feed_dict={\n",
    "        x: feature_batch,\n",
    "        y: label_batch,\n",
    "        keep_prob: 1.\n",
    "    })\n",
    "    \n",
    "    valid_accuracy = session.run(accuracy, feed_dict={\n",
    "        x: valid_features,\n",
    "        y: valid_labels,\n",
    "        keep_prob: 1.\n",
    "    })\n",
    "\n",
    "    print('Loss: {:>10.4f} Validation Accuracy: {:.6f}'.format(loss, valid_accuracy))\n"
   ]
  },
  {
   "cell_type": "markdown",
   "metadata": {},
   "source": [
    "### Hyperparameters\n",
    "Tune the following parameters:\n",
    "* Set `epochs` to the number of iterations until the network stops learning or start overfitting\n",
    "* Set `batch_size` to the highest number that your machine has memory for.  Most people set them to common sizes of memory:\n",
    " * 64\n",
    " * 128\n",
    " * 256\n",
    " * ...\n",
    "* Set `keep_probability` to the probability of keeping a node using dropout"
   ]
  },
  {
   "cell_type": "code",
   "execution_count": 15,
   "metadata": {
    "collapsed": true
   },
   "outputs": [],
   "source": [
    "#17 TODO: Tune Parameters\n",
    "epochs = 50\n",
    "batch_size = 1024   #MP Previously 256\n",
    "keep_probability = .75"
   ]
  },
  {
   "cell_type": "markdown",
   "metadata": {},
   "source": [
    "### Train on a Single CIFAR-10 Batch\n",
    "Instead of training the neural network on all the CIFAR-10 batches of data, let's use a single batch. This should save time while you iterate on the model to get a better accuracy.  Once the final validation accuracy is 50% or greater, run the model on all the data in the next section."
   ]
  },
  {
   "cell_type": "code",
   "execution_count": 16,
   "metadata": {},
   "outputs": [
    {
     "name": "stdout",
     "output_type": "stream",
     "text": [
      "Checking the Training on a Single Batch...\n",
      "Epoch  1, CIFAR-10 Batch 1:  Loss:     2.2766 Validation Accuracy: 0.118600\n",
      "Epoch  2, CIFAR-10 Batch 1:  Loss:     2.1601 Validation Accuracy: 0.168800\n",
      "Epoch  3, CIFAR-10 Batch 1:  Loss:     2.0687 Validation Accuracy: 0.235400\n",
      "Epoch  4, CIFAR-10 Batch 1:  Loss:     2.0156 Validation Accuracy: 0.262000\n",
      "Epoch  5, CIFAR-10 Batch 1:  Loss:     1.9586 Validation Accuracy: 0.293800\n",
      "Epoch  6, CIFAR-10 Batch 1:  Loss:     1.9672 Validation Accuracy: 0.283000\n",
      "Epoch  7, CIFAR-10 Batch 1:  Loss:     1.8632 Validation Accuracy: 0.322200\n",
      "Epoch  8, CIFAR-10 Batch 1:  Loss:     1.8019 Validation Accuracy: 0.347200\n",
      "Epoch  9, CIFAR-10 Batch 1:  Loss:     1.7386 Validation Accuracy: 0.366800\n",
      "Epoch 10, CIFAR-10 Batch 1:  Loss:     1.7411 Validation Accuracy: 0.367400\n",
      "Epoch 11, CIFAR-10 Batch 1:  Loss:     1.6595 Validation Accuracy: 0.395600\n",
      "Epoch 12, CIFAR-10 Batch 1:  Loss:     1.6378 Validation Accuracy: 0.398000\n",
      "Epoch 13, CIFAR-10 Batch 1:  Loss:     1.5909 Validation Accuracy: 0.403400\n",
      "Epoch 14, CIFAR-10 Batch 1:  Loss:     1.5763 Validation Accuracy: 0.406800\n",
      "Epoch 15, CIFAR-10 Batch 1:  Loss:     1.5358 Validation Accuracy: 0.419800\n",
      "Epoch 16, CIFAR-10 Batch 1:  Loss:     1.4934 Validation Accuracy: 0.440000\n",
      "Epoch 17, CIFAR-10 Batch 1:  Loss:     1.4705 Validation Accuracy: 0.444000\n",
      "Epoch 18, CIFAR-10 Batch 1:  Loss:     1.4702 Validation Accuracy: 0.443800\n",
      "Epoch 19, CIFAR-10 Batch 1:  Loss:     1.4673 Validation Accuracy: 0.446200\n",
      "Epoch 20, CIFAR-10 Batch 1:  Loss:     1.5120 Validation Accuracy: 0.437200\n",
      "Epoch 21, CIFAR-10 Batch 1:  Loss:     1.4139 Validation Accuracy: 0.461200\n",
      "Epoch 22, CIFAR-10 Batch 1:  Loss:     1.3812 Validation Accuracy: 0.466000\n",
      "Epoch 23, CIFAR-10 Batch 1:  Loss:     1.3598 Validation Accuracy: 0.468400\n",
      "Epoch 24, CIFAR-10 Batch 1:  Loss:     1.3316 Validation Accuracy: 0.476600\n",
      "Epoch 25, CIFAR-10 Batch 1:  Loss:     1.3566 Validation Accuracy: 0.469800\n",
      "Epoch 26, CIFAR-10 Batch 1:  Loss:     1.3951 Validation Accuracy: 0.463000\n",
      "Epoch 27, CIFAR-10 Batch 1:  Loss:     1.3136 Validation Accuracy: 0.482200\n",
      "Epoch 28, CIFAR-10 Batch 1:  Loss:     1.2858 Validation Accuracy: 0.491600\n",
      "Epoch 29, CIFAR-10 Batch 1:  Loss:     1.2936 Validation Accuracy: 0.488600\n",
      "Epoch 30, CIFAR-10 Batch 1:  Loss:     1.2960 Validation Accuracy: 0.484000\n",
      "Epoch 31, CIFAR-10 Batch 1:  Loss:     1.2549 Validation Accuracy: 0.499600\n",
      "Epoch 32, CIFAR-10 Batch 1:  Loss:     1.2248 Validation Accuracy: 0.507000\n",
      "Epoch 33, CIFAR-10 Batch 1:  Loss:     1.2146 Validation Accuracy: 0.500400\n",
      "Epoch 34, CIFAR-10 Batch 1:  Loss:     1.2095 Validation Accuracy: 0.502200\n",
      "Epoch 35, CIFAR-10 Batch 1:  Loss:     1.2182 Validation Accuracy: 0.499000\n",
      "Epoch 36, CIFAR-10 Batch 1:  Loss:     1.1849 Validation Accuracy: 0.512600\n",
      "Epoch 37, CIFAR-10 Batch 1:  Loss:     1.1563 Validation Accuracy: 0.518400\n",
      "Epoch 38, CIFAR-10 Batch 1:  Loss:     1.1373 Validation Accuracy: 0.528400\n",
      "Epoch 39, CIFAR-10 Batch 1:  Loss:     1.1351 Validation Accuracy: 0.520400\n",
      "Epoch 40, CIFAR-10 Batch 1:  Loss:     1.1481 Validation Accuracy: 0.518600\n",
      "Epoch 41, CIFAR-10 Batch 1:  Loss:     1.0903 Validation Accuracy: 0.530200\n",
      "Epoch 42, CIFAR-10 Batch 1:  Loss:     1.0966 Validation Accuracy: 0.524600\n",
      "Epoch 43, CIFAR-10 Batch 1:  Loss:     1.0752 Validation Accuracy: 0.534800\n",
      "Epoch 44, CIFAR-10 Batch 1:  Loss:     1.0630 Validation Accuracy: 0.534600\n",
      "Epoch 45, CIFAR-10 Batch 1:  Loss:     1.1103 Validation Accuracy: 0.512800\n",
      "Epoch 46, CIFAR-10 Batch 1:  Loss:     1.0758 Validation Accuracy: 0.530000\n",
      "Epoch 47, CIFAR-10 Batch 1:  Loss:     1.0471 Validation Accuracy: 0.529200\n",
      "Epoch 48, CIFAR-10 Batch 1:  Loss:     1.0319 Validation Accuracy: 0.535400\n",
      "Epoch 49, CIFAR-10 Batch 1:  Loss:     1.0134 Validation Accuracy: 0.539800\n",
      "Epoch 50, CIFAR-10 Batch 1:  Loss:     0.9974 Validation Accuracy: 0.545800\n"
     ]
    }
   ],
   "source": [
    "\"\"\"\n",
    "DON'T MODIFY ANYTHING IN THIS CELL\n",
    "\"\"\"\n",
    "print('Checking the Training on a Single Batch...')\n",
    "with tf.Session() as sess:\n",
    "    # Initializing the variables\n",
    "    sess.run(tf.global_variables_initializer())\n",
    "    \n",
    "    # Training cycle\n",
    "    for epoch in range(epochs):\n",
    "        batch_i = 1\n",
    "        for batch_features, batch_labels in helper.load_preprocess_training_batch(batch_i, batch_size):\n",
    "            train_neural_network(sess, optimizer, keep_probability, batch_features, batch_labels)\n",
    "        print('Epoch {:>2}, CIFAR-10 Batch {}:  '.format(epoch + 1, batch_i), end='')\n",
    "        print_stats(sess, batch_features, batch_labels, cost, accuracy)"
   ]
  },
  {
   "cell_type": "markdown",
   "metadata": {},
   "source": [
    "### Fully Train the Model\n",
    "Now that you got a good accuracy with a single CIFAR-10 batch, try it with all five batches."
   ]
  },
  {
   "cell_type": "code",
   "execution_count": 17,
   "metadata": {},
   "outputs": [
    {
     "name": "stdout",
     "output_type": "stream",
     "text": [
      "Training...\n",
      "Epoch  1, CIFAR-10 Batch 1:  Loss:     2.2782 Validation Accuracy: 0.121800\n",
      "Epoch  1, CIFAR-10 Batch 2:  Loss:     2.2405 Validation Accuracy: 0.156000\n",
      "Epoch  1, CIFAR-10 Batch 3:  Loss:     2.0789 Validation Accuracy: 0.248200\n",
      "Epoch  1, CIFAR-10 Batch 4:  Loss:     1.9957 Validation Accuracy: 0.248600\n",
      "Epoch  1, CIFAR-10 Batch 5:  Loss:     1.9735 Validation Accuracy: 0.271600\n",
      "Epoch  2, CIFAR-10 Batch 1:  Loss:     1.9556 Validation Accuracy: 0.299200\n",
      "Epoch  2, CIFAR-10 Batch 2:  Loss:     1.8409 Validation Accuracy: 0.340800\n",
      "Epoch  2, CIFAR-10 Batch 3:  Loss:     1.7382 Validation Accuracy: 0.342000\n",
      "Epoch  2, CIFAR-10 Batch 4:  Loss:     1.7411 Validation Accuracy: 0.346800\n",
      "Epoch  2, CIFAR-10 Batch 5:  Loss:     1.7113 Validation Accuracy: 0.357000\n",
      "Epoch  3, CIFAR-10 Batch 1:  Loss:     1.7181 Validation Accuracy: 0.382200\n",
      "Epoch  3, CIFAR-10 Batch 2:  Loss:     1.7361 Validation Accuracy: 0.371600\n",
      "Epoch  3, CIFAR-10 Batch 3:  Loss:     1.5835 Validation Accuracy: 0.396200\n",
      "Epoch  3, CIFAR-10 Batch 4:  Loss:     1.6039 Validation Accuracy: 0.402000\n",
      "Epoch  3, CIFAR-10 Batch 5:  Loss:     1.5728 Validation Accuracy: 0.408200\n",
      "Epoch  4, CIFAR-10 Batch 1:  Loss:     1.5805 Validation Accuracy: 0.404800\n",
      "Epoch  4, CIFAR-10 Batch 2:  Loss:     1.5844 Validation Accuracy: 0.425400\n",
      "Epoch  4, CIFAR-10 Batch 3:  Loss:     1.4811 Validation Accuracy: 0.416000\n",
      "Epoch  4, CIFAR-10 Batch 4:  Loss:     1.5136 Validation Accuracy: 0.426000\n",
      "Epoch  4, CIFAR-10 Batch 5:  Loss:     1.4829 Validation Accuracy: 0.448000\n",
      "Epoch  5, CIFAR-10 Batch 1:  Loss:     1.4457 Validation Accuracy: 0.458600\n",
      "Epoch  5, CIFAR-10 Batch 2:  Loss:     1.5296 Validation Accuracy: 0.455200\n",
      "Epoch  5, CIFAR-10 Batch 3:  Loss:     1.4096 Validation Accuracy: 0.454600\n",
      "Epoch  5, CIFAR-10 Batch 4:  Loss:     1.4088 Validation Accuracy: 0.468400\n",
      "Epoch  5, CIFAR-10 Batch 5:  Loss:     1.4419 Validation Accuracy: 0.469400\n",
      "Epoch  6, CIFAR-10 Batch 1:  Loss:     1.3860 Validation Accuracy: 0.472800\n",
      "Epoch  6, CIFAR-10 Batch 2:  Loss:     1.4289 Validation Accuracy: 0.484000\n",
      "Epoch  6, CIFAR-10 Batch 3:  Loss:     1.3326 Validation Accuracy: 0.482000\n",
      "Epoch  6, CIFAR-10 Batch 4:  Loss:     1.3594 Validation Accuracy: 0.484400\n",
      "Epoch  6, CIFAR-10 Batch 5:  Loss:     1.3612 Validation Accuracy: 0.493800\n",
      "Epoch  7, CIFAR-10 Batch 1:  Loss:     1.3332 Validation Accuracy: 0.493400\n",
      "Epoch  7, CIFAR-10 Batch 2:  Loss:     1.3751 Validation Accuracy: 0.495800\n",
      "Epoch  7, CIFAR-10 Batch 3:  Loss:     1.3312 Validation Accuracy: 0.484000\n",
      "Epoch  7, CIFAR-10 Batch 4:  Loss:     1.3119 Validation Accuracy: 0.499800\n",
      "Epoch  7, CIFAR-10 Batch 5:  Loss:     1.3343 Validation Accuracy: 0.512800\n",
      "Epoch  8, CIFAR-10 Batch 1:  Loss:     1.2864 Validation Accuracy: 0.508000\n",
      "Epoch  8, CIFAR-10 Batch 2:  Loss:     1.3532 Validation Accuracy: 0.508800\n",
      "Epoch  8, CIFAR-10 Batch 3:  Loss:     1.2450 Validation Accuracy: 0.511400\n",
      "Epoch  8, CIFAR-10 Batch 4:  Loss:     1.2515 Validation Accuracy: 0.525800\n",
      "Epoch  8, CIFAR-10 Batch 5:  Loss:     1.2647 Validation Accuracy: 0.533200\n",
      "Epoch  9, CIFAR-10 Batch 1:  Loss:     1.2455 Validation Accuracy: 0.527800\n",
      "Epoch  9, CIFAR-10 Batch 2:  Loss:     1.2945 Validation Accuracy: 0.518800\n",
      "Epoch  9, CIFAR-10 Batch 3:  Loss:     1.2047 Validation Accuracy: 0.530400\n",
      "Epoch  9, CIFAR-10 Batch 4:  Loss:     1.2151 Validation Accuracy: 0.534600\n",
      "Epoch  9, CIFAR-10 Batch 5:  Loss:     1.2097 Validation Accuracy: 0.548400\n",
      "Epoch 10, CIFAR-10 Batch 1:  Loss:     1.2048 Validation Accuracy: 0.544800\n",
      "Epoch 10, CIFAR-10 Batch 2:  Loss:     1.2552 Validation Accuracy: 0.532600\n",
      "Epoch 10, CIFAR-10 Batch 3:  Loss:     1.1782 Validation Accuracy: 0.536600\n",
      "Epoch 10, CIFAR-10 Batch 4:  Loss:     1.1668 Validation Accuracy: 0.548800\n",
      "Epoch 10, CIFAR-10 Batch 5:  Loss:     1.1815 Validation Accuracy: 0.553200\n",
      "Epoch 11, CIFAR-10 Batch 1:  Loss:     1.2013 Validation Accuracy: 0.547400\n",
      "Epoch 11, CIFAR-10 Batch 2:  Loss:     1.1971 Validation Accuracy: 0.554800\n",
      "Epoch 11, CIFAR-10 Batch 3:  Loss:     1.1127 Validation Accuracy: 0.557600\n",
      "Epoch 11, CIFAR-10 Batch 4:  Loss:     1.1518 Validation Accuracy: 0.553800\n",
      "Epoch 11, CIFAR-10 Batch 5:  Loss:     1.1562 Validation Accuracy: 0.570400\n",
      "Epoch 12, CIFAR-10 Batch 1:  Loss:     1.1174 Validation Accuracy: 0.569800\n",
      "Epoch 12, CIFAR-10 Batch 2:  Loss:     1.1554 Validation Accuracy: 0.570400\n",
      "Epoch 12, CIFAR-10 Batch 3:  Loss:     1.0826 Validation Accuracy: 0.571200\n",
      "Epoch 12, CIFAR-10 Batch 4:  Loss:     1.1122 Validation Accuracy: 0.569200\n",
      "Epoch 12, CIFAR-10 Batch 5:  Loss:     1.1006 Validation Accuracy: 0.575400\n",
      "Epoch 13, CIFAR-10 Batch 1:  Loss:     1.0996 Validation Accuracy: 0.578200\n",
      "Epoch 13, CIFAR-10 Batch 2:  Loss:     1.1154 Validation Accuracy: 0.581200\n",
      "Epoch 13, CIFAR-10 Batch 3:  Loss:     1.0625 Validation Accuracy: 0.579600\n",
      "Epoch 13, CIFAR-10 Batch 4:  Loss:     1.0662 Validation Accuracy: 0.583600\n",
      "Epoch 13, CIFAR-10 Batch 5:  Loss:     1.0719 Validation Accuracy: 0.591600\n",
      "Epoch 14, CIFAR-10 Batch 1:  Loss:     1.0980 Validation Accuracy: 0.583400\n",
      "Epoch 14, CIFAR-10 Batch 2:  Loss:     1.0777 Validation Accuracy: 0.594400\n",
      "Epoch 14, CIFAR-10 Batch 3:  Loss:     1.0204 Validation Accuracy: 0.596200\n",
      "Epoch 14, CIFAR-10 Batch 4:  Loss:     1.0230 Validation Accuracy: 0.596200\n",
      "Epoch 14, CIFAR-10 Batch 5:  Loss:     1.0442 Validation Accuracy: 0.596800\n",
      "Epoch 15, CIFAR-10 Batch 1:  Loss:     1.0391 Validation Accuracy: 0.593400\n",
      "Epoch 15, CIFAR-10 Batch 2:  Loss:     1.0581 Validation Accuracy: 0.604000\n",
      "Epoch 15, CIFAR-10 Batch 3:  Loss:     1.0145 Validation Accuracy: 0.597200\n",
      "Epoch 15, CIFAR-10 Batch 4:  Loss:     1.0100 Validation Accuracy: 0.603000\n",
      "Epoch 15, CIFAR-10 Batch 5:  Loss:     1.0140 Validation Accuracy: 0.608400\n",
      "Epoch 16, CIFAR-10 Batch 1:  Loss:     1.0099 Validation Accuracy: 0.612400\n",
      "Epoch 16, CIFAR-10 Batch 2:  Loss:     1.0320 Validation Accuracy: 0.612600\n",
      "Epoch 16, CIFAR-10 Batch 3:  Loss:     1.0004 Validation Accuracy: 0.599200\n",
      "Epoch 16, CIFAR-10 Batch 4:  Loss:     0.9599 Validation Accuracy: 0.614400\n",
      "Epoch 16, CIFAR-10 Batch 5:  Loss:     0.9893 Validation Accuracy: 0.617000\n",
      "Epoch 17, CIFAR-10 Batch 1:  Loss:     0.9633 Validation Accuracy: 0.625000\n",
      "Epoch 17, CIFAR-10 Batch 2:  Loss:     0.9781 Validation Accuracy: 0.627800\n",
      "Epoch 17, CIFAR-10 Batch 3:  Loss:     0.9582 Validation Accuracy: 0.614200\n",
      "Epoch 17, CIFAR-10 Batch 4:  Loss:     0.9355 Validation Accuracy: 0.626400\n",
      "Epoch 17, CIFAR-10 Batch 5:  Loss:     0.9559 Validation Accuracy: 0.619000\n",
      "Epoch 18, CIFAR-10 Batch 1:  Loss:     0.9361 Validation Accuracy: 0.628400\n",
      "Epoch 18, CIFAR-10 Batch 2:  Loss:     0.9802 Validation Accuracy: 0.630000\n",
      "Epoch 18, CIFAR-10 Batch 3:  Loss:     0.9169 Validation Accuracy: 0.626200\n",
      "Epoch 18, CIFAR-10 Batch 4:  Loss:     0.9198 Validation Accuracy: 0.631800\n",
      "Epoch 18, CIFAR-10 Batch 5:  Loss:     0.9120 Validation Accuracy: 0.628400\n",
      "Epoch 19, CIFAR-10 Batch 1:  Loss:     0.9308 Validation Accuracy: 0.626200\n",
      "Epoch 19, CIFAR-10 Batch 2:  Loss:     0.9395 Validation Accuracy: 0.632600\n",
      "Epoch 19, CIFAR-10 Batch 3:  Loss:     0.8649 Validation Accuracy: 0.643800\n",
      "Epoch 19, CIFAR-10 Batch 4:  Loss:     0.8835 Validation Accuracy: 0.644400\n",
      "Epoch 19, CIFAR-10 Batch 5:  Loss:     0.8799 Validation Accuracy: 0.640400\n",
      "Epoch 20, CIFAR-10 Batch 1:  Loss:     0.8938 Validation Accuracy: 0.637600\n",
      "Epoch 20, CIFAR-10 Batch 2:  Loss:     0.9487 Validation Accuracy: 0.634400\n",
      "Epoch 20, CIFAR-10 Batch 3:  Loss:     0.8949 Validation Accuracy: 0.631200\n",
      "Epoch 20, CIFAR-10 Batch 4:  Loss:     0.9144 Validation Accuracy: 0.627600\n",
      "Epoch 20, CIFAR-10 Batch 5:  Loss:     0.9002 Validation Accuracy: 0.633800\n",
      "Epoch 21, CIFAR-10 Batch 1:  Loss:     0.8950 Validation Accuracy: 0.643200\n",
      "Epoch 21, CIFAR-10 Batch 2:  Loss:     0.8791 Validation Accuracy: 0.646600\n",
      "Epoch 21, CIFAR-10 Batch 3:  Loss:     0.8547 Validation Accuracy: 0.636000\n",
      "Epoch 21, CIFAR-10 Batch 4:  Loss:     0.8699 Validation Accuracy: 0.634400\n",
      "Epoch 21, CIFAR-10 Batch 5:  Loss:     0.8443 Validation Accuracy: 0.641600\n",
      "Epoch 22, CIFAR-10 Batch 1:  Loss:     0.9110 Validation Accuracy: 0.632800\n",
      "Epoch 22, CIFAR-10 Batch 2:  Loss:     0.8980 Validation Accuracy: 0.635400\n",
      "Epoch 22, CIFAR-10 Batch 3:  Loss:     0.8789 Validation Accuracy: 0.637400\n"
     ]
    },
    {
     "name": "stdout",
     "output_type": "stream",
     "text": [
      "Epoch 22, CIFAR-10 Batch 4:  Loss:     0.8582 Validation Accuracy: 0.641400\n",
      "Epoch 22, CIFAR-10 Batch 5:  Loss:     0.8178 Validation Accuracy: 0.647400\n",
      "Epoch 23, CIFAR-10 Batch 1:  Loss:     0.8281 Validation Accuracy: 0.666200\n",
      "Epoch 23, CIFAR-10 Batch 2:  Loss:     0.8479 Validation Accuracy: 0.650600\n",
      "Epoch 23, CIFAR-10 Batch 3:  Loss:     0.8404 Validation Accuracy: 0.646800\n",
      "Epoch 23, CIFAR-10 Batch 4:  Loss:     0.8286 Validation Accuracy: 0.649000\n",
      "Epoch 23, CIFAR-10 Batch 5:  Loss:     0.7849 Validation Accuracy: 0.658200\n",
      "Epoch 24, CIFAR-10 Batch 1:  Loss:     0.8092 Validation Accuracy: 0.662800\n",
      "Epoch 24, CIFAR-10 Batch 2:  Loss:     0.8266 Validation Accuracy: 0.655000\n",
      "Epoch 24, CIFAR-10 Batch 3:  Loss:     0.7713 Validation Accuracy: 0.666400\n",
      "Epoch 24, CIFAR-10 Batch 4:  Loss:     0.8015 Validation Accuracy: 0.657800\n",
      "Epoch 24, CIFAR-10 Batch 5:  Loss:     0.7613 Validation Accuracy: 0.661600\n",
      "Epoch 25, CIFAR-10 Batch 1:  Loss:     0.7964 Validation Accuracy: 0.667000\n",
      "Epoch 25, CIFAR-10 Batch 2:  Loss:     0.7964 Validation Accuracy: 0.666400\n",
      "Epoch 25, CIFAR-10 Batch 3:  Loss:     0.7415 Validation Accuracy: 0.671800\n",
      "Epoch 25, CIFAR-10 Batch 4:  Loss:     0.7835 Validation Accuracy: 0.662400\n",
      "Epoch 25, CIFAR-10 Batch 5:  Loss:     0.7224 Validation Accuracy: 0.677400\n",
      "Epoch 26, CIFAR-10 Batch 1:  Loss:     0.7580 Validation Accuracy: 0.680600\n",
      "Epoch 26, CIFAR-10 Batch 2:  Loss:     0.7704 Validation Accuracy: 0.671200\n",
      "Epoch 26, CIFAR-10 Batch 3:  Loss:     0.7211 Validation Accuracy: 0.681400\n",
      "Epoch 26, CIFAR-10 Batch 4:  Loss:     0.7528 Validation Accuracy: 0.670200\n",
      "Epoch 26, CIFAR-10 Batch 5:  Loss:     0.7135 Validation Accuracy: 0.676800\n",
      "Epoch 27, CIFAR-10 Batch 1:  Loss:     0.7604 Validation Accuracy: 0.676400\n",
      "Epoch 27, CIFAR-10 Batch 2:  Loss:     0.7744 Validation Accuracy: 0.661600\n",
      "Epoch 27, CIFAR-10 Batch 3:  Loss:     0.6903 Validation Accuracy: 0.681200\n",
      "Epoch 27, CIFAR-10 Batch 4:  Loss:     0.7359 Validation Accuracy: 0.671000\n",
      "Epoch 27, CIFAR-10 Batch 5:  Loss:     0.6932 Validation Accuracy: 0.678200\n",
      "Epoch 28, CIFAR-10 Batch 1:  Loss:     0.7441 Validation Accuracy: 0.681800\n",
      "Epoch 28, CIFAR-10 Batch 2:  Loss:     0.7502 Validation Accuracy: 0.669800\n",
      "Epoch 28, CIFAR-10 Batch 3:  Loss:     0.7059 Validation Accuracy: 0.678400\n",
      "Epoch 28, CIFAR-10 Batch 4:  Loss:     0.7101 Validation Accuracy: 0.686800\n",
      "Epoch 28, CIFAR-10 Batch 5:  Loss:     0.6656 Validation Accuracy: 0.687600\n",
      "Epoch 29, CIFAR-10 Batch 1:  Loss:     0.7385 Validation Accuracy: 0.677400\n",
      "Epoch 29, CIFAR-10 Batch 2:  Loss:     0.7488 Validation Accuracy: 0.672800\n",
      "Epoch 29, CIFAR-10 Batch 3:  Loss:     0.6952 Validation Accuracy: 0.684000\n",
      "Epoch 29, CIFAR-10 Batch 4:  Loss:     0.7007 Validation Accuracy: 0.681200\n",
      "Epoch 29, CIFAR-10 Batch 5:  Loss:     0.6438 Validation Accuracy: 0.690800\n",
      "Epoch 30, CIFAR-10 Batch 1:  Loss:     0.6773 Validation Accuracy: 0.695800\n",
      "Epoch 30, CIFAR-10 Batch 2:  Loss:     0.7133 Validation Accuracy: 0.678000\n",
      "Epoch 30, CIFAR-10 Batch 3:  Loss:     0.7083 Validation Accuracy: 0.673200\n",
      "Epoch 30, CIFAR-10 Batch 4:  Loss:     0.6931 Validation Accuracy: 0.684400\n",
      "Epoch 30, CIFAR-10 Batch 5:  Loss:     0.6361 Validation Accuracy: 0.691000\n",
      "Epoch 31, CIFAR-10 Batch 1:  Loss:     0.6682 Validation Accuracy: 0.700000\n",
      "Epoch 31, CIFAR-10 Batch 2:  Loss:     0.6919 Validation Accuracy: 0.687200\n",
      "Epoch 31, CIFAR-10 Batch 3:  Loss:     0.6746 Validation Accuracy: 0.684400\n",
      "Epoch 31, CIFAR-10 Batch 4:  Loss:     0.7115 Validation Accuracy: 0.673600\n",
      "Epoch 31, CIFAR-10 Batch 5:  Loss:     0.6388 Validation Accuracy: 0.689200\n",
      "Epoch 32, CIFAR-10 Batch 1:  Loss:     0.6376 Validation Accuracy: 0.702600\n",
      "Epoch 32, CIFAR-10 Batch 2:  Loss:     0.6584 Validation Accuracy: 0.692600\n",
      "Epoch 32, CIFAR-10 Batch 3:  Loss:     0.6490 Validation Accuracy: 0.689600\n",
      "Epoch 32, CIFAR-10 Batch 4:  Loss:     0.6755 Validation Accuracy: 0.683400\n",
      "Epoch 32, CIFAR-10 Batch 5:  Loss:     0.6006 Validation Accuracy: 0.699200\n",
      "Epoch 33, CIFAR-10 Batch 1:  Loss:     0.6260 Validation Accuracy: 0.704400\n",
      "Epoch 33, CIFAR-10 Batch 2:  Loss:     0.6554 Validation Accuracy: 0.696200\n",
      "Epoch 33, CIFAR-10 Batch 3:  Loss:     0.6394 Validation Accuracy: 0.684400\n",
      "Epoch 33, CIFAR-10 Batch 4:  Loss:     0.6532 Validation Accuracy: 0.689000\n",
      "Epoch 33, CIFAR-10 Batch 5:  Loss:     0.5754 Validation Accuracy: 0.696000\n",
      "Epoch 34, CIFAR-10 Batch 1:  Loss:     0.6475 Validation Accuracy: 0.694800\n",
      "Epoch 34, CIFAR-10 Batch 2:  Loss:     0.6611 Validation Accuracy: 0.688600\n",
      "Epoch 34, CIFAR-10 Batch 3:  Loss:     0.6260 Validation Accuracy: 0.692600\n",
      "Epoch 34, CIFAR-10 Batch 4:  Loss:     0.6440 Validation Accuracy: 0.695000\n",
      "Epoch 34, CIFAR-10 Batch 5:  Loss:     0.5828 Validation Accuracy: 0.697000\n",
      "Epoch 35, CIFAR-10 Batch 1:  Loss:     0.6069 Validation Accuracy: 0.703200\n",
      "Epoch 35, CIFAR-10 Batch 2:  Loss:     0.6322 Validation Accuracy: 0.702800\n",
      "Epoch 35, CIFAR-10 Batch 3:  Loss:     0.5846 Validation Accuracy: 0.709800\n",
      "Epoch 35, CIFAR-10 Batch 4:  Loss:     0.6075 Validation Accuracy: 0.710600\n",
      "Epoch 35, CIFAR-10 Batch 5:  Loss:     0.5634 Validation Accuracy: 0.696200\n",
      "Epoch 36, CIFAR-10 Batch 1:  Loss:     0.5987 Validation Accuracy: 0.708000\n",
      "Epoch 36, CIFAR-10 Batch 2:  Loss:     0.6334 Validation Accuracy: 0.701400\n",
      "Epoch 36, CIFAR-10 Batch 3:  Loss:     0.6035 Validation Accuracy: 0.695600\n",
      "Epoch 36, CIFAR-10 Batch 4:  Loss:     0.6050 Validation Accuracy: 0.705800\n",
      "Epoch 36, CIFAR-10 Batch 5:  Loss:     0.5497 Validation Accuracy: 0.701600\n",
      "Epoch 37, CIFAR-10 Batch 1:  Loss:     0.5726 Validation Accuracy: 0.708800\n",
      "Epoch 37, CIFAR-10 Batch 2:  Loss:     0.5975 Validation Accuracy: 0.711000\n",
      "Epoch 37, CIFAR-10 Batch 3:  Loss:     0.5918 Validation Accuracy: 0.698800\n",
      "Epoch 37, CIFAR-10 Batch 4:  Loss:     0.5858 Validation Accuracy: 0.708600\n",
      "Epoch 37, CIFAR-10 Batch 5:  Loss:     0.5331 Validation Accuracy: 0.699600\n",
      "Epoch 38, CIFAR-10 Batch 1:  Loss:     0.5645 Validation Accuracy: 0.708600\n",
      "Epoch 38, CIFAR-10 Batch 2:  Loss:     0.5725 Validation Accuracy: 0.719000\n",
      "Epoch 38, CIFAR-10 Batch 3:  Loss:     0.5579 Validation Accuracy: 0.703800\n",
      "Epoch 38, CIFAR-10 Batch 4:  Loss:     0.5692 Validation Accuracy: 0.715200\n",
      "Epoch 38, CIFAR-10 Batch 5:  Loss:     0.5083 Validation Accuracy: 0.707200\n",
      "Epoch 39, CIFAR-10 Batch 1:  Loss:     0.5376 Validation Accuracy: 0.717400\n",
      "Epoch 39, CIFAR-10 Batch 2:  Loss:     0.5706 Validation Accuracy: 0.710400\n",
      "Epoch 39, CIFAR-10 Batch 3:  Loss:     0.5254 Validation Accuracy: 0.714600\n",
      "Epoch 39, CIFAR-10 Batch 4:  Loss:     0.5633 Validation Accuracy: 0.713400\n",
      "Epoch 39, CIFAR-10 Batch 5:  Loss:     0.5030 Validation Accuracy: 0.705400\n",
      "Epoch 40, CIFAR-10 Batch 1:  Loss:     0.5251 Validation Accuracy: 0.717800\n",
      "Epoch 40, CIFAR-10 Batch 2:  Loss:     0.5670 Validation Accuracy: 0.715200\n",
      "Epoch 40, CIFAR-10 Batch 3:  Loss:     0.5298 Validation Accuracy: 0.718000\n",
      "Epoch 40, CIFAR-10 Batch 4:  Loss:     0.5868 Validation Accuracy: 0.706200\n",
      "Epoch 40, CIFAR-10 Batch 5:  Loss:     0.4846 Validation Accuracy: 0.710800\n",
      "Epoch 41, CIFAR-10 Batch 1:  Loss:     0.5177 Validation Accuracy: 0.715200\n",
      "Epoch 41, CIFAR-10 Batch 2:  Loss:     0.5287 Validation Accuracy: 0.716200\n",
      "Epoch 41, CIFAR-10 Batch 3:  Loss:     0.5143 Validation Accuracy: 0.720400\n",
      "Epoch 41, CIFAR-10 Batch 4:  Loss:     0.5426 Validation Accuracy: 0.714400\n",
      "Epoch 41, CIFAR-10 Batch 5:  Loss:     0.4758 Validation Accuracy: 0.704800\n",
      "Epoch 42, CIFAR-10 Batch 1:  Loss:     0.5094 Validation Accuracy: 0.710400\n",
      "Epoch 42, CIFAR-10 Batch 2:  Loss:     0.5931 Validation Accuracy: 0.687000\n",
      "Epoch 42, CIFAR-10 Batch 3:  Loss:     0.5204 Validation Accuracy: 0.710400\n",
      "Epoch 42, CIFAR-10 Batch 4:  Loss:     0.5220 Validation Accuracy: 0.721800\n",
      "Epoch 42, CIFAR-10 Batch 5:  Loss:     0.4684 Validation Accuracy: 0.706200\n",
      "Epoch 43, CIFAR-10 Batch 1:  Loss:     0.4842 Validation Accuracy: 0.714000\n",
      "Epoch 43, CIFAR-10 Batch 2:  Loss:     0.5301 Validation Accuracy: 0.710000\n",
      "Epoch 43, CIFAR-10 Batch 3:  Loss:     0.4732 Validation Accuracy: 0.726200\n",
      "Epoch 43, CIFAR-10 Batch 4:  Loss:     0.5119 Validation Accuracy: 0.716200\n",
      "Epoch 43, CIFAR-10 Batch 5:  Loss:     0.4449 Validation Accuracy: 0.715200\n",
      "Epoch 44, CIFAR-10 Batch 1:  Loss:     0.4827 Validation Accuracy: 0.714800\n"
     ]
    },
    {
     "name": "stdout",
     "output_type": "stream",
     "text": [
      "Epoch 44, CIFAR-10 Batch 2:  Loss:     0.5427 Validation Accuracy: 0.705600\n",
      "Epoch 44, CIFAR-10 Batch 3:  Loss:     0.4762 Validation Accuracy: 0.725400\n",
      "Epoch 44, CIFAR-10 Batch 4:  Loss:     0.5267 Validation Accuracy: 0.707000\n",
      "Epoch 44, CIFAR-10 Batch 5:  Loss:     0.4467 Validation Accuracy: 0.712400\n",
      "Epoch 45, CIFAR-10 Batch 1:  Loss:     0.4741 Validation Accuracy: 0.718400\n",
      "Epoch 45, CIFAR-10 Batch 2:  Loss:     0.4857 Validation Accuracy: 0.716200\n",
      "Epoch 45, CIFAR-10 Batch 3:  Loss:     0.4623 Validation Accuracy: 0.722800\n",
      "Epoch 45, CIFAR-10 Batch 4:  Loss:     0.5359 Validation Accuracy: 0.709600\n",
      "Epoch 45, CIFAR-10 Batch 5:  Loss:     0.4372 Validation Accuracy: 0.711800\n",
      "Epoch 46, CIFAR-10 Batch 1:  Loss:     0.4715 Validation Accuracy: 0.712800\n",
      "Epoch 46, CIFAR-10 Batch 2:  Loss:     0.4633 Validation Accuracy: 0.729200\n",
      "Epoch 46, CIFAR-10 Batch 3:  Loss:     0.4480 Validation Accuracy: 0.729600\n",
      "Epoch 46, CIFAR-10 Batch 4:  Loss:     0.5253 Validation Accuracy: 0.716800\n",
      "Epoch 46, CIFAR-10 Batch 5:  Loss:     0.4137 Validation Accuracy: 0.720200\n",
      "Epoch 47, CIFAR-10 Batch 1:  Loss:     0.4409 Validation Accuracy: 0.718000\n",
      "Epoch 47, CIFAR-10 Batch 2:  Loss:     0.4487 Validation Accuracy: 0.728600\n",
      "Epoch 47, CIFAR-10 Batch 3:  Loss:     0.4303 Validation Accuracy: 0.726800\n",
      "Epoch 47, CIFAR-10 Batch 4:  Loss:     0.4815 Validation Accuracy: 0.725200\n",
      "Epoch 47, CIFAR-10 Batch 5:  Loss:     0.4140 Validation Accuracy: 0.718000\n",
      "Epoch 48, CIFAR-10 Batch 1:  Loss:     0.4419 Validation Accuracy: 0.719800\n",
      "Epoch 48, CIFAR-10 Batch 2:  Loss:     0.4353 Validation Accuracy: 0.726400\n",
      "Epoch 48, CIFAR-10 Batch 3:  Loss:     0.4448 Validation Accuracy: 0.726000\n",
      "Epoch 48, CIFAR-10 Batch 4:  Loss:     0.4916 Validation Accuracy: 0.718600\n",
      "Epoch 48, CIFAR-10 Batch 5:  Loss:     0.4172 Validation Accuracy: 0.716000\n",
      "Epoch 49, CIFAR-10 Batch 1:  Loss:     0.4368 Validation Accuracy: 0.711000\n",
      "Epoch 49, CIFAR-10 Batch 2:  Loss:     0.4590 Validation Accuracy: 0.721400\n",
      "Epoch 49, CIFAR-10 Batch 3:  Loss:     0.4409 Validation Accuracy: 0.730200\n",
      "Epoch 49, CIFAR-10 Batch 4:  Loss:     0.4809 Validation Accuracy: 0.715600\n",
      "Epoch 49, CIFAR-10 Batch 5:  Loss:     0.4475 Validation Accuracy: 0.708200\n",
      "Epoch 50, CIFAR-10 Batch 1:  Loss:     0.4278 Validation Accuracy: 0.712200\n",
      "Epoch 50, CIFAR-10 Batch 2:  Loss:     0.4212 Validation Accuracy: 0.732000\n",
      "Epoch 50, CIFAR-10 Batch 3:  Loss:     0.4472 Validation Accuracy: 0.714000\n",
      "Epoch 50, CIFAR-10 Batch 4:  Loss:     0.4542 Validation Accuracy: 0.727800\n",
      "Epoch 50, CIFAR-10 Batch 5:  Loss:     0.3946 Validation Accuracy: 0.721000\n"
     ]
    }
   ],
   "source": [
    "\"\"\"\n",
    "DON'T MODIFY ANYTHING IN THIS CELL\n",
    "\"\"\"\n",
    "save_model_path = './image_classification'\n",
    "\n",
    "print('Training...')\n",
    "with tf.Session() as sess:\n",
    "    # Initializing the variables\n",
    "    sess.run(tf.global_variables_initializer())\n",
    "    \n",
    "    # Training cycle\n",
    "    for epoch in range(epochs):\n",
    "        # Loop over all batches\n",
    "        n_batches = 5\n",
    "        for batch_i in range(1, n_batches + 1):\n",
    "            for batch_features, batch_labels in helper.load_preprocess_training_batch(batch_i, batch_size):\n",
    "                train_neural_network(sess, optimizer, keep_probability, batch_features, batch_labels)\n",
    "            print('Epoch {:>2}, CIFAR-10 Batch {}:  '.format(epoch + 1, batch_i), end='')\n",
    "            print_stats(sess, batch_features, batch_labels, cost, accuracy)\n",
    "            \n",
    "    # Save Model\n",
    "    saver = tf.train.Saver()\n",
    "    save_path = saver.save(sess, save_model_path)"
   ]
  },
  {
   "cell_type": "markdown",
   "metadata": {},
   "source": [
    "# Checkpoint\n",
    "The model has been saved to disk.\n",
    "## Test Model\n",
    "Test your model against the test dataset.  This will be your final accuracy. You should have an accuracy greater than 50%. If you don't, keep tweaking the model architecture and parameters."
   ]
  },
  {
   "cell_type": "code",
   "execution_count": 18,
   "metadata": {},
   "outputs": [
    {
     "name": "stdout",
     "output_type": "stream",
     "text": [
      "INFO:tensorflow:Restoring parameters from ./image_classification\n",
      "Testing Accuracy: 0.7160495042800903\n",
      "\n"
     ]
    },
    {
     "data": {
      "image/png": "[encoded data removed]",
      "text/plain": [
       "<matplotlib.figure.Figure at 0x7f272d3a51d0>"
      ]
     },
     "metadata": {
      "image/png": {
       "height": 319,
       "width": 355
      }
     },
     "output_type": "display_data"
    }
   ],
   "source": [
    "\"\"\"\n",
    "DON'T MODIFY ANYTHING IN THIS CELL\n",
    "\"\"\"\n",
    "%matplotlib inline\n",
    "%config InlineBackend.figure_format = 'retina'\n",
    "\n",
    "import tensorflow as tf\n",
    "import pickle\n",
    "import helper\n",
    "import random\n",
    "\n",
    "# Set batch size if not already set\n",
    "try:\n",
    "    if batch_size:\n",
    "        pass\n",
    "except NameError:\n",
    "    batch_size = 64\n",
    "\n",
    "save_model_path = './image_classification'\n",
    "n_samples = 4\n",
    "top_n_predictions = 3\n",
    "\n",
    "def test_model():\n",
    "    \"\"\"\n",
    "    Test the saved model against the test dataset\n",
    "    \"\"\"\n",
    "\n",
    "    test_features, test_labels = pickle.load(open('preprocess_test.p', mode='rb'))\n",
    "    loaded_graph = tf.Graph()\n",
    "\n",
    "    with tf.Session(graph=loaded_graph) as sess:\n",
    "        # Load model\n",
    "        loader = tf.train.import_meta_graph(save_model_path + '.meta')\n",
    "        loader.restore(sess, save_model_path)\n",
    "\n",
    "        # Get Tensors from loaded model\n",
    "        loaded_x = loaded_graph.get_tensor_by_name('x:0')\n",
    "        loaded_y = loaded_graph.get_tensor_by_name('y:0')\n",
    "        loaded_keep_prob = loaded_graph.get_tensor_by_name('keep_prob:0')\n",
    "        loaded_logits = loaded_graph.get_tensor_by_name('logits:0')\n",
    "        loaded_acc = loaded_graph.get_tensor_by_name('accuracy:0')\n",
    "        \n",
    "        # Get accuracy in batches for memory limitations\n",
    "        test_batch_acc_total = 0\n",
    "        test_batch_count = 0\n",
    "        \n",
    "        for test_feature_batch, test_label_batch in helper.batch_features_labels(test_features, test_labels, batch_size):\n",
    "            test_batch_acc_total += sess.run(\n",
    "                loaded_acc,\n",
    "                feed_dict={loaded_x: test_feature_batch, loaded_y: test_label_batch, loaded_keep_prob: 1.0})\n",
    "            test_batch_count += 1\n",
    "\n",
    "        print('Testing Accuracy: {}\\n'.format(test_batch_acc_total/test_batch_count))\n",
    "\n",
    "        # Print Random Samples\n",
    "        random_test_features, random_test_labels = tuple(zip(*random.sample(list(zip(test_features, test_labels)), n_samples)))\n",
    "        random_test_predictions = sess.run(\n",
    "            tf.nn.top_k(tf.nn.softmax(loaded_logits), top_n_predictions),\n",
    "            feed_dict={loaded_x: random_test_features, loaded_y: random_test_labels, loaded_keep_prob: 1.0})\n",
    "        helper.display_image_predictions(random_test_features, random_test_labels, random_test_predictions)\n",
    "\n",
    "\n",
    "test_model()"
   ]
  },
  {
   "cell_type": "markdown",
   "metadata": {},
   "source": [
    "## Why 50-80% Accuracy?\n",
    "You might be wondering why you can't get an accuracy any higher. First things first, 50% isn't bad for a simple CNN.  Pure guessing would get you 10% accuracy. However, you might notice people are getting scores [well above 80%](http://rodrigob.github.io/are_we_there_yet/build/classification_datasets_results.html#43494641522d3130).  That's because we haven't taught you all there is to know about neural networks. We still need to cover a few more techniques.\n",
    "## Submitting This Project\n",
    "When submitting this project, make sure to run all the cells before saving the notebook.  Save the notebook file as \"dlnd_image_classification.ipynb\" and save it as a HTML file under \"File\" -> \"Download as\".  Include the \"helper.py\" and \"problem_unittests.py\" files in your submission."
   ]
  }
 ],
 "metadata": {
  "kernelspec": {
   "display_name": "Python 3",
   "language": "python",
   "name": "python3"
  },
  "language_info": {
   "codemirror_mode": {
    "name": "ipython",
    "version": 3
   },
   "file_extension": ".py",
   "mimetype": "text/x-python",
   "name": "python",
   "nbconvert_exporter": "python",
   "pygments_lexer": "ipython3",
   "version": "3.6.3"
  }
 },
 "nbformat": 4,
 "nbformat_minor": 1
}
