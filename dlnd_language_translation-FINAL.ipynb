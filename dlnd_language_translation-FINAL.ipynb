{
 "cells": [
  {
   "cell_type": "markdown",
   "metadata": {
    "collapsed": true
   },
   "source": [
    "# Language Translation\n",
    "In this project, you’re going to take a peek into the realm of neural network machine translation.  You’ll be training a sequence to sequence model on a dataset of English and French sentences that can translate new sentences from English to French.\n",
    "## Get the Data\n",
    "Since translating the whole language of English to French will take lots of time to train, we have provided you with a small portion of the English corpus."
   ]
  },
  {
   "cell_type": "code",
   "execution_count": 1,
   "metadata": {},
   "outputs": [
    {
     "name": "stdout",
     "output_type": "stream",
     "text": [
      "Requirement already up-to-date: tensorflow==1.1 in /home/michael/anaconda3/envs/lang-trans/lib/python3.6/site-packages\n",
      "Requirement already up-to-date: wheel>=0.26 in /home/michael/anaconda3/envs/lang-trans/lib/python3.6/site-packages (from tensorflow==1.1)\n",
      "Requirement already up-to-date: numpy>=1.11.0 in /home/michael/anaconda3/envs/lang-trans/lib/python3.6/site-packages (from tensorflow==1.1)\n",
      "Requirement already up-to-date: werkzeug>=0.11.10 in /home/michael/anaconda3/envs/lang-trans/lib/python3.6/site-packages (from tensorflow==1.1)\n",
      "Requirement already up-to-date: six>=1.10.0 in /home/michael/anaconda3/envs/lang-trans/lib/python3.6/site-packages (from tensorflow==1.1)\n",
      "Requirement already up-to-date: protobuf>=3.2.0 in /home/michael/anaconda3/envs/lang-trans/lib/python3.6/site-packages (from tensorflow==1.1)\n",
      "Requirement already up-to-date: setuptools in /home/michael/anaconda3/envs/lang-trans/lib/python3.6/site-packages (from protobuf>=3.2.0->tensorflow==1.1)\n"
     ]
    }
   ],
   "source": [
    "!pip install -U tensorflow==1.1 #MP To remove Tensorflow errors from using version 1.3"
   ]
  },
  {
   "cell_type": "code",
   "execution_count": 2,
   "metadata": {
    "collapsed": true
   },
   "outputs": [],
   "source": [
    "\"\"\"\n",
    "DON'T MODIFY ANYTHING IN THIS CELL\n",
    "\"\"\"\n",
    "import helper\n",
    "import problem_unittests as tests\n",
    "\n",
    "source_path = 'data/small_vocab_en'\n",
    "target_path = 'data/small_vocab_fr'\n",
    "source_text = helper.load_data(source_path)\n",
    "target_text = helper.load_data(target_path)"
   ]
  },
  {
   "cell_type": "markdown",
   "metadata": {},
   "source": [
    "## Explore the Data\n",
    "Play around with view_sentence_range to view different parts of the data."
   ]
  },
  {
   "cell_type": "code",
   "execution_count": 3,
   "metadata": {},
   "outputs": [
    {
     "name": "stdout",
     "output_type": "stream",
     "text": [
      "Dataset Stats\n",
      "Roughly the number of unique words: 227\n",
      "Number of sentences: 137861\n",
      "Average number of words in a sentence: 13.225277634719028\n",
      "\n",
      "English sentences 0 to 10:\n",
      "new jersey is sometimes quiet during autumn , and it is snowy in april .\n",
      "the united states is usually chilly during july , and it is usually freezing in november .\n",
      "california is usually quiet during march , and it is usually hot in june .\n",
      "the united states is sometimes mild during june , and it is cold in september .\n",
      "your least liked fruit is the grape , but my least liked is the apple .\n",
      "his favorite fruit is the orange , but my favorite is the grape .\n",
      "paris is relaxing during december , but it is usually chilly in july .\n",
      "new jersey is busy during spring , and it is never hot in march .\n",
      "our least liked fruit is the lemon , but my least liked is the grape .\n",
      "the united states is sometimes busy during january , and it is sometimes warm in november .\n",
      "\n",
      "French sentences 0 to 10:\n",
      "new jersey est parfois calme pendant l' automne , et il est neigeux en avril .\n",
      "les états-unis est généralement froid en juillet , et il gèle habituellement en novembre .\n",
      "california est généralement calme en mars , et il est généralement chaud en juin .\n",
      "les états-unis est parfois légère en juin , et il fait froid en septembre .\n",
      "votre moins aimé fruit est le raisin , mais mon moins aimé est la pomme .\n",
      "son fruit préféré est l'orange , mais mon préféré est le raisin .\n",
      "paris est relaxant en décembre , mais il est généralement froid en juillet .\n",
      "new jersey est occupé au printemps , et il est jamais chaude en mars .\n",
      "notre fruit est moins aimé le citron , mais mon moins aimé est le raisin .\n",
      "les états-unis est parfois occupé en janvier , et il est parfois chaud en novembre .\n"
     ]
    }
   ],
   "source": [
    "view_sentence_range = (0, 10)\n",
    "\n",
    "\"\"\"\n",
    "DON'T MODIFY ANYTHING IN THIS CELL\n",
    "\"\"\"\n",
    "import numpy as np\n",
    "\n",
    "print('Dataset Stats')\n",
    "print('Roughly the number of unique words: {}'.format(len({word: None for word in source_text.split()})))\n",
    "\n",
    "sentences = source_text.split('\\n')\n",
    "word_counts = [len(sentence.split()) for sentence in sentences]\n",
    "print('Number of sentences: {}'.format(len(sentences)))\n",
    "print('Average number of words in a sentence: {}'.format(np.average(word_counts)))\n",
    "\n",
    "print()\n",
    "print('English sentences {} to {}:'.format(*view_sentence_range))\n",
    "print('\\n'.join(source_text.split('\\n')[view_sentence_range[0]:view_sentence_range[1]]))\n",
    "print()\n",
    "print('French sentences {} to {}:'.format(*view_sentence_range))\n",
    "print('\\n'.join(target_text.split('\\n')[view_sentence_range[0]:view_sentence_range[1]]))"
   ]
  },
  {
   "cell_type": "markdown",
   "metadata": {},
   "source": [
    "## Implement Preprocessing Function\n",
    "### Text to Word Ids\n",
    "As you did with other RNNs, you must turn the text into a number so the computer can understand it. In the function `text_to_ids()`, you'll turn `source_text` and `target_text` from words to ids.  However, you need to add the `<EOS>` word id at the end of `target_text`.  This will help the neural network predict when the sentence should end.\n",
    "\n",
    "You can get the `<EOS>` word id by doing:\n",
    "```python\n",
    "target_vocab_to_int['<EOS>']\n",
    "```\n",
    "You can get other word ids using `source_vocab_to_int` and `target_vocab_to_int`."
   ]
  },
  {
   "cell_type": "code",
   "execution_count": 4,
   "metadata": {},
   "outputs": [
    {
     "name": "stdout",
     "output_type": "stream",
     "text": [
      "Tests Passed\n"
     ]
    }
   ],
   "source": [
    "def text_to_ids(source_text, target_text, source_vocab_to_int, target_vocab_to_int):\n",
    "    \"\"\"\n",
    "    Convert source and target text to proper word ids\n",
    "    :param source_text: String that contains all the source text.\n",
    "    :param target_text: String that contains all the target text.\n",
    "    :param source_vocab_to_int: Dictionary to go from the source words to an id\n",
    "    :param target_vocab_to_int: Dictionary to go from the target words to an id\n",
    "    :return: A tuple of lists (source_id_text, target_id_text)\n",
    "    \"\"\"\n",
    "    #1 TODO: Implement Function\n",
    "    \n",
    "    eos = source_vocab_to_int['<EOS>']\n",
    "    source = [[source_vocab_to_int[word] for word in sentence.split()] for sentence in source_text.split('\\n')]\n",
    "    target = [[target_vocab_to_int[word] for word in sentence.split()] + [eos] for sentence in target_text.split('\\n')]\n",
    "    return source, target\n",
    "  \n",
    "  \n",
    "\"\"\"\n",
    "DON'T MODIFY ANYTHING IN THIS CELL THAT IS BELOW THIS LINE\n",
    "\"\"\"\n",
    "tests.test_text_to_ids(text_to_ids)"
   ]
  },
  {
   "cell_type": "markdown",
   "metadata": {},
   "source": [
    "### Preprocess all the data and save it\n",
    "Running the code cell below will preprocess all the data and save it to file."
   ]
  },
  {
   "cell_type": "code",
   "execution_count": 5,
   "metadata": {
    "collapsed": true
   },
   "outputs": [],
   "source": [
    "\"\"\"\n",
    "DON'T MODIFY ANYTHING IN THIS CELL\n",
    "\"\"\"\n",
    "helper.preprocess_and_save_data(source_path, target_path, text_to_ids)"
   ]
  },
  {
   "cell_type": "markdown",
   "metadata": {},
   "source": [
    "# Check Point\n",
    "This is your first checkpoint. If you ever decide to come back to this notebook or have to restart the notebook, you can start from here. The preprocessed data has been saved to disk."
   ]
  },
  {
   "cell_type": "code",
   "execution_count": 6,
   "metadata": {
    "collapsed": true
   },
   "outputs": [],
   "source": [
    "\"\"\"\n",
    "DON'T MODIFY ANYTHING IN THIS CELL\n",
    "\"\"\"\n",
    "import numpy as np\n",
    "import helper\n",
    "import problem_unittests as tests\n",
    "\n",
    "(source_int_text, target_int_text), (source_vocab_to_int, target_vocab_to_int), _ = helper.load_preprocess()"
   ]
  },
  {
   "cell_type": "markdown",
   "metadata": {},
   "source": [
    "### Check the Version of TensorFlow and Access to GPU\n",
    "This will check to make sure you have the correct version of TensorFlow and access to a GPU"
   ]
  },
  {
   "cell_type": "code",
   "execution_count": 7,
   "metadata": {},
   "outputs": [
    {
     "name": "stdout",
     "output_type": "stream",
     "text": [
      "TensorFlow Version: 1.1.0\n"
     ]
    },
    {
     "name": "stderr",
     "output_type": "stream",
     "text": [
      "/home/michael/anaconda3/envs/lang-trans/lib/python3.6/site-packages/ipykernel_launcher.py:15: UserWarning: No GPU found. Please use a GPU to train your neural network.\n",
      "  from ipykernel import kernelapp as app\n"
     ]
    }
   ],
   "source": [
    "\"\"\"\n",
    "DON'T MODIFY ANYTHING IN THIS CELL\n",
    "\"\"\"\n",
    "from distutils.version import LooseVersion\n",
    "import warnings\n",
    "import tensorflow as tf\n",
    "from tensorflow.python.layers.core import Dense\n",
    "\n",
    "# Check TensorFlow Version\n",
    "assert LooseVersion(tf.__version__) >= LooseVersion('1.1'), 'Please use TensorFlow version 1.1 or newer'\n",
    "print('TensorFlow Version: {}'.format(tf.__version__))\n",
    "\n",
    "# Check for a GPU\n",
    "if not tf.test.gpu_device_name():\n",
    "    warnings.warn('No GPU found. Please use a GPU to train your neural network.')\n",
    "else:\n",
    "    print('Default GPU Device: {}'.format(tf.test.gpu_device_name()))"
   ]
  },
  {
   "cell_type": "markdown",
   "metadata": {},
   "source": [
    "## Build the Neural Network\n",
    "You'll build the components necessary to build a Sequence-to-Sequence model by implementing the following functions below:\n",
    "- `model_inputs`\n",
    "- `process_decoder_input`\n",
    "- `encoding_layer`\n",
    "- `decoding_layer_train`\n",
    "- `decoding_layer_infer`\n",
    "- `decoding_layer`\n",
    "- `seq2seq_model`\n",
    "\n",
    "### Input\n",
    "Implement the `model_inputs()` function to create TF Placeholders for the Neural Network. It should create the following placeholders:\n",
    "\n",
    "- Input text placeholder named \"input\" using the TF Placeholder name parameter with rank 2.\n",
    "- Targets placeholder with rank 2.\n",
    "- Learning rate placeholder with rank 0.\n",
    "- Keep probability placeholder named \"keep_prob\" using the TF Placeholder name parameter with rank 0.\n",
    "- Target sequence length placeholder named \"target_sequence_length\" with rank 1\n",
    "- Max target sequence length tensor named \"max_target_len\" getting its value from applying tf.reduce_max on the target_sequence_length placeholder. Rank 0.\n",
    "- Source sequence length placeholder named \"source_sequence_length\" with rank 1\n",
    "\n",
    "Return the placeholders in the following the tuple (input, targets, learning rate, keep probability, target sequence length, max target sequence length, source sequence length)"
   ]
  },
  {
   "cell_type": "code",
   "execution_count": 8,
   "metadata": {},
   "outputs": [
    {
     "name": "stdout",
     "output_type": "stream",
     "text": [
      "Tests Passed\n"
     ]
    }
   ],
   "source": [
    "def model_inputs():\n",
    "    \"\"\"\n",
    "    Create TF Placeholders for input, targets, learning rate, and lengths of source and target sequences.\n",
    "    :return: Tuple (input, targets, learning rate, keep probability, target sequence length,\n",
    "    max target sequence length, source sequence length)\n",
    "    \"\"\"\n",
    "    #2 TODO: Implement Function\n",
    "       \n",
    "    inputs = tf.placeholder(tf.int32, shape=[None,None], name= \"input\")\n",
    "    targets = tf.placeholder(tf.int32, shape=[None,None], name= \"targets\")\n",
    "    lrate = tf.placeholder(tf.float32, name= \"learning_rate\")\n",
    "    keep_prob = tf.placeholder(tf.float32, name= \"keep_prob\")\n",
    "    target_seq_lenth = tf.placeholder(tf.int32, shape=[None], name= \"target_sequence_length\")\n",
    "    max_target_len = tf.reduce_max(target_seq_lenth, name= 'max_target_len')\n",
    "    source_seq_length = tf.placeholder(tf.int32, shape=[None], name= \"source_sequence_length\")\n",
    "    return (inputs, targets, lrate, keep_prob, target_seq_lenth, max_target_len, source_seq_length)\n",
    "     \n",
    "\"\"\"\n",
    "DON'T MODIFY ANYTHING IN THIS CELL THAT IS BELOW THIS LINE\n",
    "\"\"\"\n",
    "tests.test_model_inputs(model_inputs)"
   ]
  },
  {
   "cell_type": "markdown",
   "metadata": {},
   "source": [
    "### Process Decoder Input\n",
    "Implement `process_decoder_input` by removing the last word id from each batch in `target_data` and concat the GO ID to the begining of each batch."
   ]
  },
  {
   "cell_type": "code",
   "execution_count": 9,
   "metadata": {},
   "outputs": [
    {
     "name": "stdout",
     "output_type": "stream",
     "text": [
      "Tests Passed\n"
     ]
    }
   ],
   "source": [
    "def process_decoder_input(target_data, target_vocab_to_int, batch_size):\n",
    "    \n",
    "    #3 TODO: Implement Function\n",
    "\n",
    "    # Create a constant tensor with the 'go id'.\n",
    "    go_id = tf.constant(target_vocab_to_int['<GO>'], shape=(batch_size,1), dtype=tf.int32)\n",
    "    # Concatenate the vector without the last word id with the go ids vector\n",
    "    processed_input = tf.concat([go_id,target_data[:,:-1]],1)\n",
    "    return processed_input\n",
    "\n",
    "\"\"\"\n",
    "DON'T MODIFY ANYTHING IN THIS CELL THAT IS BELOW THIS LINE\n",
    "\"\"\"\n",
    "tests.test_process_encoding_input(process_decoder_input)"
   ]
  },
  {
   "cell_type": "markdown",
   "metadata": {},
   "source": [
    "### Encoding\n",
    "Implement `encoding_layer()` to create a Encoder RNN layer:\n",
    " * Embed the encoder input using [`tf.contrib.layers.embed_sequence`](https://www.tensorflow.org/api_docs/python/tf/contrib/layers/embed_sequence)\n",
    " * Construct a [stacked](https://github.com/tensorflow/tensorflow/blob/6947f65a374ebf29e74bb71e36fd82760056d82c/tensorflow/docs_src/tutorials/recurrent.md#stacking-multiple-lstms) [`tf.contrib.rnn.LSTMCell`](https://www.tensorflow.org/api_docs/python/tf/contrib/rnn/LSTMCell) wrapped in a [`tf.contrib.rnn.DropoutWrapper`](https://www.tensorflow.org/api_docs/python/tf/contrib/rnn/DropoutWrapper)\n",
    " * Pass cell and embedded input to [`tf.nn.dynamic_rnn()`](https://www.tensorflow.org/api_docs/python/tf/nn/dynamic_rnn)"
   ]
  },
  {
   "cell_type": "code",
   "execution_count": 10,
   "metadata": {
    "scrolled": false
   },
   "outputs": [
    {
     "name": "stdout",
     "output_type": "stream",
     "text": [
      "Tests Passed\n"
     ]
    }
   ],
   "source": [
    "from imp import reload\n",
    "reload(tests)\n",
    "\n",
    "def encoding_layer(rnn_inputs, rnn_size, num_layers, keep_prob, \n",
    "                   source_sequence_length, source_vocab_size, \n",
    "                   encoding_embedding_size):\n",
    "    \"\"\"\n",
    "    Create encoding layer\n",
    "    :param rnn_inputs: Inputs for the RNN\n",
    "    :param rnn_size: RNN Size\n",
    "    :param num_layers: Number of layers\n",
    "    :param keep_prob: Dropout keep probability\n",
    "    :param source_sequence_length: a list of the lengths of each sequence in the batch\n",
    "    :param source_vocab_size: vocabulary size of source data\n",
    "    :param encoding_embedding_size: embedding size of source data\n",
    "    :return: tuple (RNN output, RNN state)\n",
    "    \"\"\"\n",
    "    #4 TODO: Implement Function\n",
    "        \n",
    "    # Build the lstm cells and wrap in dropout\n",
    "    def build_cell(rnn_size, keep_prob):\n",
    "        lstm = tf.contrib.rnn.LSTMCell(rnn_size)\n",
    "        lstm_drop = tf.contrib.rnn.DropoutWrapper(lstm, output_keep_prob=keep_prob)\n",
    "        return lstm_drop\n",
    "    # Stack the cells\n",
    "    stacked_lstm = tf.contrib.rnn.MultiRNNCell([build_cell(rnn_size, keep_prob) for _ in range(num_layers)])\n",
    "    # Create embedding layer\n",
    "    embed_encoder = tf.contrib.layers.embed_sequence(rnn_inputs, vocab_size = source_vocab_size, embed_dim = encoding_embedding_size)\n",
    "    # Provide dtype, in case of no zero intial state\n",
    "    output, state = tf.nn.dynamic_rnn(stacked_lstm, embed_encoder, source_sequence_length, dtype=tf.float32)\n",
    "\n",
    "    return (output, state)\n",
    "    \n",
    "    \n",
    "\"\"\"\n",
    "DON'T MODIFY ANYTHING IN THIS CELL THAT IS BELOW THIS LINE\n",
    "\"\"\"\n",
    "tests.test_encoding_layer(encoding_layer)"
   ]
  },
  {
   "cell_type": "markdown",
   "metadata": {},
   "source": [
    "### Decoding - Training\n",
    "Create a training decoding layer:\n",
    "* Create a [`tf.contrib.seq2seq.TrainingHelper`](https://www.tensorflow.org/api_docs/python/tf/contrib/seq2seq/TrainingHelper) \n",
    "* Create a [`tf.contrib.seq2seq.BasicDecoder`](https://www.tensorflow.org/api_docs/python/tf/contrib/seq2seq/BasicDecoder)\n",
    "* Obtain the decoder outputs from [`tf.contrib.seq2seq.dynamic_decode`](https://www.tensorflow.org/api_docs/python/tf/contrib/seq2seq/dynamic_decode)"
   ]
  },
  {
   "cell_type": "code",
   "execution_count": 11,
   "metadata": {},
   "outputs": [
    {
     "name": "stdout",
     "output_type": "stream",
     "text": [
      "Tests Passed\n"
     ]
    }
   ],
   "source": [
    "\n",
    "def decoding_layer_train(encoder_state, dec_cell, dec_embed_input, \n",
    "                         target_sequence_length, max_summary_length, \n",
    "                         output_layer, keep_prob):\n",
    "    \"\"\"\n",
    "    Create a decoding layer for training\n",
    "    :param encoder_state: Encoder State\n",
    "    :param dec_cell: Decoder RNN Cell\n",
    "    :param dec_embed_input: Decoder embedded input\n",
    "    :param target_sequence_length: The lengths of each sequence in the target batch\n",
    "    :param max_summary_length: The length of the longest sequence in the batch\n",
    "    :param output_layer: Function to apply the output layer\n",
    "    :param keep_prob: Dropout keep probability\n",
    "    :return: BasicDecoderOutput containing training logits and sample_id\n",
    "    \"\"\"\n",
    "    #5 TODO: Implement Function\n",
    "        \n",
    "    training_helper = tf.contrib.seq2seq.TrainingHelper(dec_embed_input, target_sequence_length)\n",
    "    basic_decoder = tf.contrib.seq2seq.BasicDecoder(dec_cell, training_helper, encoder_state, output_layer)\n",
    "    f_output, _ = tf.contrib.seq2seq.dynamic_decode(basic_decoder,maximum_iterations=max_summary_length)\n",
    "    return f_output\n",
    "    \n",
    "\n",
    "\"\"\"\n",
    "DON'T MODIFY ANYTHING IN THIS CELL THAT IS BELOW THIS LINE\n",
    "\"\"\"\n",
    "tests.test_decoding_layer_train(decoding_layer_train)"
   ]
  },
  {
   "cell_type": "markdown",
   "metadata": {},
   "source": [
    "### Decoding - Inference\n",
    "Create inference decoder:\n",
    "* Create a [`tf.contrib.seq2seq.GreedyEmbeddingHelper`](https://www.tensorflow.org/api_docs/python/tf/contrib/seq2seq/GreedyEmbeddingHelper)\n",
    "* Create a [`tf.contrib.seq2seq.BasicDecoder`](https://www.tensorflow.org/api_docs/python/tf/contrib/seq2seq/BasicDecoder)\n",
    "* Obtain the decoder outputs from [`tf.contrib.seq2seq.dynamic_decode`](https://www.tensorflow.org/api_docs/python/tf/contrib/seq2seq/dynamic_decode)"
   ]
  },
  {
   "cell_type": "code",
   "execution_count": 12,
   "metadata": {
    "scrolled": true
   },
   "outputs": [
    {
     "name": "stdout",
     "output_type": "stream",
     "text": [
      "Tests Passed\n"
     ]
    }
   ],
   "source": [
    "def decoding_layer_infer(encoder_state, dec_cell, dec_embeddings, start_of_sequence_id,\n",
    "                         end_of_sequence_id, max_target_sequence_length,\n",
    "                         vocab_size, output_layer, batch_size, keep_prob):\n",
    "    \"\"\"\n",
    "    Create a decoding layer for inference\n",
    "    :param encoder_state: Encoder state\n",
    "    :param dec_cell: Decoder RNN Cell\n",
    "    :param dec_embeddings: Decoder embeddings\n",
    "    :param start_of_sequence_id: GO ID\n",
    "    :param end_of_sequence_id: EOS Id\n",
    "    :param max_target_sequence_length: Maximum length of target sequences\n",
    "    :param vocab_size: Size of decoder/target vocabulary\n",
    "    :param decoding_scope: TenorFlow Variable Scope for decoding\n",
    "    :param output_layer: Function to apply the output layer\n",
    "    :param batch_size: Batch size\n",
    "    :param keep_prob: Dropout keep probability\n",
    "    :return: BasicDecoderOutput containing inference logits and sample_id\n",
    "    \"\"\"\n",
    "    #6 TODO: Implement Function\n",
    "    \n",
    "    # Convert the start_ids to be a vector with batch size (the go id repeated batch size times)\n",
    "    start_ids = tf.tile([start_of_sequence_id], [batch_size])\n",
    "    # Create the embedding helper.\n",
    "    embedding_helper = tf.contrib.seq2seq.GreedyEmbeddingHelper(\n",
    "        dec_embeddings, start_ids, end_of_sequence_id)\n",
    "    basic_decoder = tf.contrib.seq2seq.BasicDecoder(\n",
    "        dec_cell, embedding_helper, encoder_state, output_layer)\n",
    "    f_output, _ = tf.contrib.seq2seq.dynamic_decode(\n",
    "        basic_decoder,maximum_iterations=max_target_sequence_length)\n",
    "\n",
    "    return f_output\n",
    "\n",
    "\"\"\"\n",
    "DON'T MODIFY ANYTHING IN THIS CELL THAT IS BELOW THIS LINE\n",
    "\"\"\"\n",
    "tests.test_decoding_layer_infer(decoding_layer_infer)"
   ]
  },
  {
   "cell_type": "markdown",
   "metadata": {},
   "source": [
    "### Build the Decoding Layer\n",
    "Implement `decoding_layer()` to create a Decoder RNN layer.\n",
    "\n",
    "* Embed the target sequences\n",
    "* Construct the decoder LSTM cell (just like you constructed the encoder cell above)\n",
    "* Create an output layer to map the outputs of the decoder to the elements of our vocabulary\n",
    "* Use the your `decoding_layer_train(encoder_state, dec_cell, dec_embed_input, target_sequence_length, max_target_sequence_length, output_layer, keep_prob)` function to get the training logits.\n",
    "* Use your `decoding_layer_infer(encoder_state, dec_cell, dec_embeddings, start_of_sequence_id, end_of_sequence_id, max_target_sequence_length, vocab_size, output_layer, batch_size, keep_prob)` function to get the inference logits.\n",
    "\n",
    "Note: You'll need to use [tf.variable_scope](https://www.tensorflow.org/api_docs/python/tf/variable_scope) to share variables between training and inference."
   ]
  },
  {
   "cell_type": "code",
   "execution_count": 13,
   "metadata": {},
   "outputs": [
    {
     "name": "stdout",
     "output_type": "stream",
     "text": [
      "Tests Passed\n"
     ]
    }
   ],
   "source": [
    "def decoding_layer(dec_input, encoder_state,\n",
    "                   target_sequence_length, max_target_sequence_length,\n",
    "                   rnn_size,\n",
    "                   num_layers, target_vocab_to_int, target_vocab_size,\n",
    "                   batch_size, keep_prob, decoding_embedding_size):\n",
    "    \"\"\"\n",
    "    Create decoding layer\n",
    "    :param dec_input: Decoder input\n",
    "    :param encoder_state: Encoder state\n",
    "    :param target_sequence_length: The lengths of each sequence in the target batch\n",
    "    :param max_target_sequence_length: Maximum length of target sequences\n",
    "    :param rnn_size: RNN Size\n",
    "    :param num_layers: Number of layers\n",
    "    :param target_vocab_to_int: Dictionary to go from the target words to an id\n",
    "    :param target_vocab_size: Size of target vocabulary\n",
    "    :param batch_size: The size of the batch\n",
    "    :param keep_prob: Dropout keep probability\n",
    "    :param decoding_embedding_size: Decoding embedding size\n",
    "    :return: Tuple of (Training BasicDecoderOutput, Inference BasicDecoderOutput)\n",
    "    \"\"\"\n",
    "    #7 TODO: Implement Function\n",
    "    \n",
    "    # Use the same proess as in the encoding layer.\n",
    "    def build_cell(rnn_size, keep_prob):\n",
    "        lstm = tf.contrib.rnn.LSTMCell(rnn_size)\n",
    "        lstm_drop = tf.contrib.rnn.DropoutWrapper(lstm, output_keep_prob=keep_prob)\n",
    "        return lstm_drop\n",
    "    # Stack them all\n",
    "    stacked_lstm = tf.contrib.rnn.MultiRNNCell([build_cell(rnn_size, keep_prob) for _ in range(num_layers)])\n",
    "    \n",
    "    dec_embeddings = tf.Variable(tf.random_uniform([target_vocab_size, decoding_embedding_size]))\n",
    "    dec_embed_input = tf.nn.embedding_lookup(dec_embeddings, dec_input)\n",
    "\n",
    "    dense_layer = Dense(target_vocab_size,\n",
    "                         kernel_initializer = tf.truncated_normal_initializer(mean = 0.0, stddev=0.1))\n",
    "    \n",
    "    with tf.variable_scope(\"decode\") as scope:\n",
    "        tr_decoder_output = decoding_layer_train(\n",
    "            encoder_state, stacked_lstm, dec_embed_input, \n",
    "            target_sequence_length, max_target_sequence_length, \n",
    "            dense_layer, keep_prob)\n",
    "        scope.reuse_variables()\n",
    "        inf_decoder_output = decoding_layer_infer(\n",
    "            encoder_state, stacked_lstm, dec_embeddings, \n",
    "            target_vocab_to_int['<GO>'], target_vocab_to_int['<EOS>'], \n",
    "            max_target_sequence_length, target_vocab_size, \n",
    "            dense_layer, batch_size, keep_prob)\n",
    "    \n",
    "    return tr_decoder_output, inf_decoder_output\n",
    "\n",
    "\n",
    "\"\"\"\n",
    "DON'T MODIFY ANYTHING IN THIS CELL THAT IS BELOW THIS LINE\n",
    "\"\"\"\n",
    "tests.test_decoding_layer(decoding_layer)"
   ]
  },
  {
   "cell_type": "markdown",
   "metadata": {},
   "source": [
    "### Build the Neural Network\n",
    "Apply the functions you implemented above to:\n",
    "\n",
    "- Encode the input using your `encoding_layer(rnn_inputs, rnn_size, num_layers, keep_prob,  source_sequence_length, source_vocab_size, encoding_embedding_size)`.\n",
    "- Process target data using your `process_decoder_input(target_data, target_vocab_to_int, batch_size)` function.\n",
    "- Decode the encoded input using your `decoding_layer(dec_input, enc_state, target_sequence_length, max_target_sentence_length, rnn_size, num_layers, target_vocab_to_int, target_vocab_size, batch_size, keep_prob, dec_embedding_size)` function."
   ]
  },
  {
   "cell_type": "code",
   "execution_count": 14,
   "metadata": {},
   "outputs": [
    {
     "name": "stdout",
     "output_type": "stream",
     "text": [
      "Tests Passed\n"
     ]
    }
   ],
   "source": [
    "def seq2seq_model(input_data, target_data, keep_prob, batch_size,\n",
    "                  source_sequence_length, target_sequence_length,\n",
    "                  max_target_sentence_length,\n",
    "                  source_vocab_size, target_vocab_size,\n",
    "                  enc_embedding_size, dec_embedding_size,\n",
    "                  rnn_size, num_layers, target_vocab_to_int):\n",
    "    \"\"\"\n",
    "    Build the Sequence-to-Sequence part of the neural network\n",
    "    :param input_data: Input placeholder\n",
    "    :param target_data: Target placeholder\n",
    "    :param keep_prob: Dropout keep probability placeholder\n",
    "    :param batch_size: Batch Size\n",
    "    :param source_sequence_length: Sequence Lengths of source sequences in the batch\n",
    "    :param target_sequence_length: Sequence Lengths of target sequences in the batch\n",
    "    :param source_vocab_size: Source vocabulary size\n",
    "    :param target_vocab_size: Target vocabulary size\n",
    "    :param enc_embedding_size: Decoder embedding size\n",
    "    :param dec_embedding_size: Encoder embedding size\n",
    "    :param rnn_size: RNN Size\n",
    "    :param num_layers: Number of layers\n",
    "    :param target_vocab_to_int: Dictionary to go from the target words to an id\n",
    "    :return: Tuple of (Training BasicDecoderOutput, Inference BasicDecoderOutput)\n",
    "    \"\"\"\n",
    "    #8 TODO: Implement Function\n",
    "    \"\"\"    \n",
    "    enc_embed_input = tf.contrib.layers.embed_sequence(input_data, source_vocab_size, enc_embedding_size)\n",
    "    enc_state = encoding_layer(enc_embed_input, rnn_size, num_layers, keep_prob=keep_prob)\n",
    "    target_data = process_decoding_input(target_data, target_vocab_to_int, batch_size)\n",
    "    dec_embed = tf.Variable(tf.random_uniform([target_vocab_size, dec_embedding_size]))\n",
    "    dec_embed_input = tf.nn.embedding_lookup(dec_embed, target_data)\n",
    "\n",
    "    dec_layer = decoding_layer(dec_embed_input, dec_embed, enc_state, target_vocab_size, sequence_length, rnn_size, \n",
    "                               num_layers, target_vocab_to_int, keep_prob)\n",
    "    \n",
    "    return dec_layer\n",
    "    \"\"\"\n",
    "        \n",
    "    output, state = encoding_layer(input_data, rnn_size, num_layers, keep_prob, \n",
    "                   source_sequence_length, source_vocab_size, \n",
    "                   enc_embedding_size)\n",
    "    \n",
    "    processed_input = process_decoder_input(target_data, target_vocab_to_int, batch_size)\n",
    "    \n",
    "    tr_decoder_output, inf_decoder_output = decoding_layer(processed_input, state,\n",
    "                   target_sequence_length, max_target_sentence_length,\n",
    "                   rnn_size, num_layers, target_vocab_to_int, target_vocab_size,\n",
    "                   batch_size, keep_prob, dec_embedding_size)\n",
    "    \n",
    "    return tr_decoder_output, inf_decoder_output\n",
    "    \n",
    "\n",
    "\"\"\"\n",
    "DON'T MODIFY ANYTHING IN THIS CELL THAT IS BELOW THIS LINE\n",
    "\"\"\"\n",
    "tests.test_seq2seq_model(seq2seq_model)"
   ]
  },
  {
   "cell_type": "markdown",
   "metadata": {},
   "source": [
    "## Neural Network Training\n",
    "### Hyperparameters\n",
    "Tune the following parameters:\n",
    "\n",
    "- Set `epochs` to the number of epochs.\n",
    "- Set `batch_size` to the batch size.\n",
    "- Set `rnn_size` to the size of the RNNs.\n",
    "- Set `num_layers` to the number of layers.\n",
    "- Set `encoding_embedding_size` to the size of the embedding for the encoder.\n",
    "- Set `decoding_embedding_size` to the size of the embedding for the decoder.\n",
    "- Set `learning_rate` to the learning rate.\n",
    "- Set `keep_probability` to the Dropout keep probability\n",
    "- Set `display_step` to state how many steps between each debug output statement"
   ]
  },
  {
   "cell_type": "code",
   "execution_count": 15,
   "metadata": {
    "collapsed": true
   },
   "outputs": [],
   "source": [
    "# Number of Epochs\n",
    "epochs = 10\n",
    "# Batch Size\n",
    "batch_size = 256\n",
    "# RNN Size\n",
    "rnn_size = 512\n",
    "# Number of Layers\n",
    "num_layers = 3\n",
    "# Embedding Size\n",
    "encoding_embedding_size = 30\n",
    "decoding_embedding_size = 200\n",
    "# Learning Rate\n",
    "learning_rate = 0.001\n",
    "# Dropout Keep Probability\n",
    "keep_probability = 0.55\n",
    "display_step = True"
   ]
  },
  {
   "cell_type": "markdown",
   "metadata": {},
   "source": [
    "### Build the Graph\n",
    "Build the graph using the neural network you implemented."
   ]
  },
  {
   "cell_type": "code",
   "execution_count": 16,
   "metadata": {},
   "outputs": [],
   "source": [
    "\"\"\"\n",
    "DON'T MODIFY ANYTHING IN THIS CELL\n",
    "\"\"\"\n",
    "save_path = 'checkpoints/dev'\n",
    "(source_int_text, target_int_text), (source_vocab_to_int, target_vocab_to_int), _ = helper.load_preprocess()\n",
    "max_target_sentence_length = max([len(sentence) for sentence in source_int_text])\n",
    "\n",
    "train_graph = tf.Graph()\n",
    "with train_graph.as_default():\n",
    "    input_data, targets, lr, keep_prob, target_sequence_length, max_target_sequence_length, source_sequence_length = model_inputs()\n",
    "\n",
    "    #sequence_length = tf.placeholder_with_default(max_target_sentence_length, None, name='sequence_length')\n",
    "    input_shape = tf.shape(input_data)\n",
    "\n",
    "    train_logits, inference_logits = seq2seq_model(tf.reverse(input_data, [-1]),\n",
    "                                                   targets,\n",
    "                                                   keep_prob,\n",
    "                                                   batch_size,\n",
    "                                                   source_sequence_length,\n",
    "                                                   target_sequence_length,\n",
    "                                                   max_target_sequence_length,\n",
    "                                                   len(source_vocab_to_int),\n",
    "                                                   len(target_vocab_to_int),\n",
    "                                                   encoding_embedding_size,\n",
    "                                                   decoding_embedding_size,\n",
    "                                                   rnn_size,\n",
    "                                                   num_layers,\n",
    "                                                   target_vocab_to_int)\n",
    "\n",
    "\n",
    "    training_logits = tf.identity(train_logits.rnn_output, name='logits')\n",
    "    inference_logits = tf.identity(inference_logits.sample_id, name='predictions')\n",
    "\n",
    "    masks = tf.sequence_mask(target_sequence_length, max_target_sequence_length, dtype=tf.float32, name='masks')\n",
    "\n",
    "    with tf.name_scope(\"optimization\"):\n",
    "        # Loss function\n",
    "        cost = tf.contrib.seq2seq.sequence_loss(\n",
    "            training_logits,\n",
    "            targets,\n",
    "            masks)\n",
    "\n",
    "        # Optimizer\n",
    "        optimizer = tf.train.AdamOptimizer(lr)\n",
    "\n",
    "        # Gradient Clipping\n",
    "        gradients = optimizer.compute_gradients(cost)\n",
    "        capped_gradients = [(tf.clip_by_value(grad, -1., 1.), var) for grad, var in gradients if grad is not None]\n",
    "        train_op = optimizer.apply_gradients(capped_gradients)\n"
   ]
  },
  {
   "cell_type": "markdown",
   "metadata": {},
   "source": [
    "Batch and pad the source and target sequences"
   ]
  },
  {
   "cell_type": "code",
   "execution_count": 17,
   "metadata": {
    "collapsed": true
   },
   "outputs": [],
   "source": [
    "\"\"\"\n",
    "DON'T MODIFY ANYTHING IN THIS CELL\n",
    "\"\"\"\n",
    "def pad_sentence_batch(sentence_batch, pad_int):\n",
    "    \"\"\"Pad sentences with <PAD> so that each sentence of a batch has the same length\"\"\"\n",
    "    max_sentence = max([len(sentence) for sentence in sentence_batch])\n",
    "    return [sentence + [pad_int] * (max_sentence - len(sentence)) for sentence in sentence_batch]\n",
    "\n",
    "\n",
    "def get_batches(sources, targets, batch_size, source_pad_int, target_pad_int):\n",
    "    \"\"\"Batch targets, sources, and the lengths of their sentences together\"\"\"\n",
    "    for batch_i in range(0, len(sources)//batch_size):\n",
    "        start_i = batch_i * batch_size\n",
    "\n",
    "        # Slice the right amount for the batch\n",
    "        sources_batch = sources[start_i:start_i + batch_size]\n",
    "        targets_batch = targets[start_i:start_i + batch_size]\n",
    "\n",
    "        # Pad\n",
    "        pad_sources_batch = np.array(pad_sentence_batch(sources_batch, source_pad_int))\n",
    "        pad_targets_batch = np.array(pad_sentence_batch(targets_batch, target_pad_int))\n",
    "\n",
    "        # Need the lengths for the _lengths parameters\n",
    "        pad_targets_lengths = []\n",
    "        for target in pad_targets_batch:\n",
    "            pad_targets_lengths.append(len(target))\n",
    "\n",
    "        pad_source_lengths = []\n",
    "        for source in pad_sources_batch:\n",
    "            pad_source_lengths.append(len(source))\n",
    "\n",
    "        yield pad_sources_batch, pad_targets_batch, pad_source_lengths, pad_targets_lengths\n"
   ]
  },
  {
   "cell_type": "markdown",
   "metadata": {},
   "source": [
    "### Train\n",
    "Train the neural network on the preprocessed data. If you have a hard time getting a good loss, check the forms to see if anyone is having the same problem."
   ]
  },
  {
   "cell_type": "code",
   "execution_count": 18,
   "metadata": {
    "scrolled": true
   },
   "outputs": [
    {
     "name": "stdout",
     "output_type": "stream",
     "text": [
      "Epoch   0 Batch    1/538 - Train Accuracy: 0.2316, Validation Accuracy: 0.3161, Loss: 4.9846\n",
      "Epoch   0 Batch    2/538 - Train Accuracy: 0.2639, Validation Accuracy: 0.3276, Loss: 5.7008\n",
      "Epoch   0 Batch    3/538 - Train Accuracy: 0.2818, Validation Accuracy: 0.3642, Loss: 4.4410\n",
      "Epoch   0 Batch    4/538 - Train Accuracy: 0.1178, Validation Accuracy: 0.0980, Loss: 4.6173\n",
      "Epoch   0 Batch    5/538 - Train Accuracy: 0.0804, Validation Accuracy: 0.0692, Loss: 4.4099\n",
      "Epoch   0 Batch    6/538 - Train Accuracy: 0.3194, Validation Accuracy: 0.3636, Loss: 4.1087\n",
      "Epoch   0 Batch    7/538 - Train Accuracy: 0.2531, Validation Accuracy: 0.3278, Loss: 3.8397\n",
      "Epoch   0 Batch    8/538 - Train Accuracy: 0.2504, Validation Accuracy: 0.3216, Loss: 3.7791\n",
      "Epoch   0 Batch    9/538 - Train Accuracy: 0.2586, Validation Accuracy: 0.3301, Loss: 3.7934\n",
      "Epoch   0 Batch   10/538 - Train Accuracy: 0.2482, Validation Accuracy: 0.3407, Loss: 3.8432\n",
      "Epoch   0 Batch   11/538 - Train Accuracy: 0.2850, Validation Accuracy: 0.3604, Loss: 3.6297\n",
      "Epoch   0 Batch   12/538 - Train Accuracy: 0.3152, Validation Accuracy: 0.3849, Loss: 3.5805\n",
      "Epoch   0 Batch   13/538 - Train Accuracy: 0.3627, Validation Accuracy: 0.3890, Loss: 3.4026\n",
      "Epoch   0 Batch   14/538 - Train Accuracy: 0.3061, Validation Accuracy: 0.3752, Loss: 3.4636\n",
      "Epoch   0 Batch   15/538 - Train Accuracy: 0.3668, Validation Accuracy: 0.3958, Loss: 3.2412\n",
      "Epoch   0 Batch   16/538 - Train Accuracy: 0.3629, Validation Accuracy: 0.4025, Loss: 3.1765\n",
      "Epoch   0 Batch   17/538 - Train Accuracy: 0.3346, Validation Accuracy: 0.3951, Loss: 3.1839\n",
      "Epoch   0 Batch   18/538 - Train Accuracy: 0.3266, Validation Accuracy: 0.4000, Loss: 3.1955\n",
      "Epoch   0 Batch   19/538 - Train Accuracy: 0.3336, Validation Accuracy: 0.4055, Loss: 3.1397\n",
      "Epoch   0 Batch   20/538 - Train Accuracy: 0.3778, Validation Accuracy: 0.4173, Loss: 2.9792\n",
      "Epoch   0 Batch   21/538 - Train Accuracy: 0.3069, Validation Accuracy: 0.4139, Loss: 3.1684\n",
      "Epoch   0 Batch   22/538 - Train Accuracy: 0.3605, Validation Accuracy: 0.4206, Loss: 2.9918\n",
      "Epoch   0 Batch   23/538 - Train Accuracy: 0.3715, Validation Accuracy: 0.4252, Loss: 2.9327\n",
      "Epoch   0 Batch   24/538 - Train Accuracy: 0.3709, Validation Accuracy: 0.4201, Loss: 2.9007\n",
      "Epoch   0 Batch   25/538 - Train Accuracy: 0.3750, Validation Accuracy: 0.4286, Loss: 2.8889\n",
      "Epoch   0 Batch   26/538 - Train Accuracy: 0.3773, Validation Accuracy: 0.4402, Loss: 2.8717\n",
      "Epoch   0 Batch   27/538 - Train Accuracy: 0.3939, Validation Accuracy: 0.4485, Loss: 2.8103\n",
      "Epoch   0 Batch   28/538 - Train Accuracy: 0.4467, Validation Accuracy: 0.4471, Loss: 2.5697\n",
      "Epoch   0 Batch   29/538 - Train Accuracy: 0.4137, Validation Accuracy: 0.4505, Loss: 2.7103\n",
      "Epoch   0 Batch   30/538 - Train Accuracy: 0.4045, Validation Accuracy: 0.4629, Loss: 2.7926\n",
      "Epoch   0 Batch   31/538 - Train Accuracy: 0.4330, Validation Accuracy: 0.4732, Loss: 2.6259\n",
      "Epoch   0 Batch   32/538 - Train Accuracy: 0.3990, Validation Accuracy: 0.4402, Loss: 2.6778\n",
      "Epoch   0 Batch   33/538 - Train Accuracy: 0.3958, Validation Accuracy: 0.4409, Loss: 2.7223\n",
      "Epoch   0 Batch   34/538 - Train Accuracy: 0.4049, Validation Accuracy: 0.4551, Loss: 2.7660\n",
      "Epoch   0 Batch   35/538 - Train Accuracy: 0.3348, Validation Accuracy: 0.4031, Loss: 2.6946\n",
      "Epoch   0 Batch   36/538 - Train Accuracy: 0.4340, Validation Accuracy: 0.4657, Loss: 2.7217\n",
      "Epoch   0 Batch   37/538 - Train Accuracy: 0.3795, Validation Accuracy: 0.4416, Loss: 2.6075\n",
      "Epoch   0 Batch   38/538 - Train Accuracy: 0.3949, Validation Accuracy: 0.4730, Loss: 2.7959\n",
      "Epoch   0 Batch   39/538 - Train Accuracy: 0.4062, Validation Accuracy: 0.4624, Loss: 2.6833\n",
      "Epoch   0 Batch   40/538 - Train Accuracy: 0.4624, Validation Accuracy: 0.4634, Loss: 2.4448\n",
      "Epoch   0 Batch   41/538 - Train Accuracy: 0.4088, Validation Accuracy: 0.4585, Loss: 2.6229\n",
      "Epoch   0 Batch   42/538 - Train Accuracy: 0.4061, Validation Accuracy: 0.4597, Loss: 2.6009\n",
      "Epoch   0 Batch   43/538 - Train Accuracy: 0.4244, Validation Accuracy: 0.4739, Loss: 2.6159\n",
      "Epoch   0 Batch   44/538 - Train Accuracy: 0.4047, Validation Accuracy: 0.4727, Loss: 2.6333\n",
      "Epoch   0 Batch   45/538 - Train Accuracy: 0.4555, Validation Accuracy: 0.4819, Loss: 2.4629\n",
      "Epoch   0 Batch   46/538 - Train Accuracy: 0.4145, Validation Accuracy: 0.4702, Loss: 2.5376\n",
      "Epoch   0 Batch   47/538 - Train Accuracy: 0.4440, Validation Accuracy: 0.4764, Loss: 2.4428\n",
      "Epoch   0 Batch   48/538 - Train Accuracy: 0.4570, Validation Accuracy: 0.4828, Loss: 2.3967\n",
      "Epoch   0 Batch   49/538 - Train Accuracy: 0.4154, Validation Accuracy: 0.4851, Loss: 2.5655\n",
      "Epoch   0 Batch   50/538 - Train Accuracy: 0.4490, Validation Accuracy: 0.4956, Loss: 2.4473\n",
      "Epoch   0 Batch   51/538 - Train Accuracy: 0.3769, Validation Accuracy: 0.4863, Loss: 2.6822\n",
      "Epoch   0 Batch   52/538 - Train Accuracy: 0.4367, Validation Accuracy: 0.4858, Loss: 2.4670\n",
      "Epoch   0 Batch   53/538 - Train Accuracy: 0.4837, Validation Accuracy: 0.4959, Loss: 2.2736\n",
      "Epoch   0 Batch   54/538 - Train Accuracy: 0.4586, Validation Accuracy: 0.4933, Loss: 2.3980\n",
      "Epoch   0 Batch   55/538 - Train Accuracy: 0.4303, Validation Accuracy: 0.4949, Loss: 2.4781\n",
      "Epoch   0 Batch   56/538 - Train Accuracy: 0.4477, Validation Accuracy: 0.4862, Loss: 2.3755\n",
      "Epoch   0 Batch   57/538 - Train Accuracy: 0.4152, Validation Accuracy: 0.4897, Loss: 2.5092\n",
      "Epoch   0 Batch   58/538 - Train Accuracy: 0.4143, Validation Accuracy: 0.4957, Loss: 2.5059\n",
      "Epoch   0 Batch   59/538 - Train Accuracy: 0.4240, Validation Accuracy: 0.4840, Loss: 2.4079\n",
      "Epoch   0 Batch   60/538 - Train Accuracy: 0.4236, Validation Accuracy: 0.4867, Loss: 2.4044\n",
      "Epoch   0 Batch   61/538 - Train Accuracy: 0.4475, Validation Accuracy: 0.4991, Loss: 2.4035\n",
      "Epoch   0 Batch   62/538 - Train Accuracy: 0.4401, Validation Accuracy: 0.4798, Loss: 2.2970\n",
      "Epoch   0 Batch   63/538 - Train Accuracy: 0.4392, Validation Accuracy: 0.4602, Loss: 2.3169\n",
      "Epoch   0 Batch   64/538 - Train Accuracy: 0.4589, Validation Accuracy: 0.4897, Loss: 2.3790\n",
      "Epoch   0 Batch   65/538 - Train Accuracy: 0.3748, Validation Accuracy: 0.4265, Loss: 2.4465\n",
      "Epoch   0 Batch   66/538 - Train Accuracy: 0.4604, Validation Accuracy: 0.5039, Loss: 2.4294\n",
      "Epoch   0 Batch   67/538 - Train Accuracy: 0.3969, Validation Accuracy: 0.4616, Loss: 2.2946\n",
      "Epoch   0 Batch   68/538 - Train Accuracy: 0.4708, Validation Accuracy: 0.4995, Loss: 2.3282\n",
      "Epoch   0 Batch   69/538 - Train Accuracy: 0.4217, Validation Accuracy: 0.4810, Loss: 2.3032\n",
      "Epoch   0 Batch   70/538 - Train Accuracy: 0.4712, Validation Accuracy: 0.4977, Loss: 2.3115\n",
      "Epoch   0 Batch   71/538 - Train Accuracy: 0.4258, Validation Accuracy: 0.4806, Loss: 2.3079\n",
      "Epoch   0 Batch   72/538 - Train Accuracy: 0.4470, Validation Accuracy: 0.4796, Loss: 2.2438\n",
      "Epoch   0 Batch   73/538 - Train Accuracy: 0.4385, Validation Accuracy: 0.5012, Loss: 2.4065\n",
      "Epoch   0 Batch   74/538 - Train Accuracy: 0.4583, Validation Accuracy: 0.4803, Loss: 2.2067\n",
      "Epoch   0 Batch   75/538 - Train Accuracy: 0.4708, Validation Accuracy: 0.5023, Loss: 2.2881\n",
      "Epoch   0 Batch   76/538 - Train Accuracy: 0.3937, Validation Accuracy: 0.4730, Loss: 2.3213\n",
      "Epoch   0 Batch   77/538 - Train Accuracy: 0.4215, Validation Accuracy: 0.4909, Loss: 2.3665\n",
      "Epoch   0 Batch   78/538 - Train Accuracy: 0.4678, Validation Accuracy: 0.4941, Loss: 2.2172\n",
      "Epoch   0 Batch   79/538 - Train Accuracy: 0.4660, Validation Accuracy: 0.4982, Loss: 2.1988\n",
      "Epoch   0 Batch   80/538 - Train Accuracy: 0.4160, Validation Accuracy: 0.4881, Loss: 2.2807\n",
      "Epoch   0 Batch   81/538 - Train Accuracy: 0.4217, Validation Accuracy: 0.4830, Loss: 2.2734\n",
      "Epoch   0 Batch   82/538 - Train Accuracy: 0.4475, Validation Accuracy: 0.5011, Loss: 2.2210\n",
      "Epoch   0 Batch   83/538 - Train Accuracy: 0.4412, Validation Accuracy: 0.5039, Loss: 2.2267\n",
      "Epoch   0 Batch   84/538 - Train Accuracy: 0.4542, Validation Accuracy: 0.4970, Loss: 2.1296\n",
      "Epoch   0 Batch   85/538 - Train Accuracy: 0.4540, Validation Accuracy: 0.4792, Loss: 2.0111\n",
      "Epoch   0 Batch   86/538 - Train Accuracy: 0.4432, Validation Accuracy: 0.4998, Loss: 2.2170\n",
      "Epoch   0 Batch   87/538 - Train Accuracy: 0.4439, Validation Accuracy: 0.5048, Loss: 2.1234\n",
      "Epoch   0 Batch   88/538 - Train Accuracy: 0.4275, Validation Accuracy: 0.4725, Loss: 2.1768\n",
      "Epoch   0 Batch   89/538 - Train Accuracy: 0.4189, Validation Accuracy: 0.4737, Loss: 2.1575\n"
     ]
    },
    {
     "name": "stdout",
     "output_type": "stream",
     "text": [
      "Epoch   0 Batch   90/538 - Train Accuracy: 0.4561, Validation Accuracy: 0.4911, Loss: 2.0625\n",
      "Epoch   0 Batch   91/538 - Train Accuracy: 0.4092, Validation Accuracy: 0.4828, Loss: 2.2237\n",
      "Epoch   0 Batch   92/538 - Train Accuracy: 0.4246, Validation Accuracy: 0.4801, Loss: 2.0688\n",
      "Epoch   0 Batch   93/538 - Train Accuracy: 0.4443, Validation Accuracy: 0.5062, Loss: 2.1455\n",
      "Epoch   0 Batch   94/538 - Train Accuracy: 0.4453, Validation Accuracy: 0.5071, Loss: 2.1697\n",
      "Epoch   0 Batch   95/538 - Train Accuracy: 0.4762, Validation Accuracy: 0.4913, Loss: 1.9392\n",
      "Epoch   0 Batch   96/538 - Train Accuracy: 0.4786, Validation Accuracy: 0.5028, Loss: 1.9464\n",
      "Epoch   0 Batch   97/538 - Train Accuracy: 0.4441, Validation Accuracy: 0.5034, Loss: 2.0538\n",
      "Epoch   0 Batch   98/538 - Train Accuracy: 0.4515, Validation Accuracy: 0.4801, Loss: 1.9384\n",
      "Epoch   0 Batch   99/538 - Train Accuracy: 0.4215, Validation Accuracy: 0.4806, Loss: 2.0773\n",
      "Epoch   0 Batch  100/538 - Train Accuracy: 0.4611, Validation Accuracy: 0.5051, Loss: 2.0050\n",
      "Epoch   0 Batch  101/538 - Train Accuracy: 0.4223, Validation Accuracy: 0.4842, Loss: 2.0722\n",
      "Epoch   0 Batch  102/538 - Train Accuracy: 0.4234, Validation Accuracy: 0.4927, Loss: 2.0894\n",
      "Epoch   0 Batch  103/538 - Train Accuracy: 0.4630, Validation Accuracy: 0.5096, Loss: 1.9989\n",
      "Epoch   0 Batch  104/538 - Train Accuracy: 0.4448, Validation Accuracy: 0.4877, Loss: 2.0249\n",
      "Epoch   0 Batch  105/538 - Train Accuracy: 0.4581, Validation Accuracy: 0.5075, Loss: 1.9265\n",
      "Epoch   0 Batch  106/538 - Train Accuracy: 0.4557, Validation Accuracy: 0.5082, Loss: 2.0067\n",
      "Epoch   0 Batch  107/538 - Train Accuracy: 0.4252, Validation Accuracy: 0.4950, Loss: 2.1117\n",
      "Epoch   0 Batch  108/538 - Train Accuracy: 0.4465, Validation Accuracy: 0.4924, Loss: 1.9801\n",
      "Epoch   0 Batch  109/538 - Train Accuracy: 0.4572, Validation Accuracy: 0.5020, Loss: 2.0118\n",
      "Epoch   0 Batch  110/538 - Train Accuracy: 0.4471, Validation Accuracy: 0.5053, Loss: 2.0218\n",
      "Epoch   0 Batch  111/538 - Train Accuracy: 0.4727, Validation Accuracy: 0.4993, Loss: 1.9003\n",
      "Epoch   0 Batch  112/538 - Train Accuracy: 0.4465, Validation Accuracy: 0.5123, Loss: 1.9980\n",
      "Epoch   0 Batch  113/538 - Train Accuracy: 0.4568, Validation Accuracy: 0.5138, Loss: 1.9802\n",
      "Epoch   0 Batch  114/538 - Train Accuracy: 0.4751, Validation Accuracy: 0.4986, Loss: 1.8331\n",
      "Epoch   0 Batch  115/538 - Train Accuracy: 0.4721, Validation Accuracy: 0.5217, Loss: 1.9332\n",
      "Epoch   0 Batch  116/538 - Train Accuracy: 0.4769, Validation Accuracy: 0.5169, Loss: 1.9011\n",
      "Epoch   0 Batch  117/538 - Train Accuracy: 0.4766, Validation Accuracy: 0.5126, Loss: 1.8189\n",
      "Epoch   0 Batch  118/538 - Train Accuracy: 0.4948, Validation Accuracy: 0.5162, Loss: 1.8099\n",
      "Epoch   0 Batch  119/538 - Train Accuracy: 0.4797, Validation Accuracy: 0.5117, Loss: 1.7906\n",
      "Epoch   0 Batch  120/538 - Train Accuracy: 0.4697, Validation Accuracy: 0.5133, Loss: 1.8311\n",
      "Epoch   0 Batch  121/538 - Train Accuracy: 0.4876, Validation Accuracy: 0.5250, Loss: 1.7621\n",
      "Epoch   0 Batch  122/538 - Train Accuracy: 0.4717, Validation Accuracy: 0.5169, Loss: 1.7634\n",
      "Epoch   0 Batch  123/538 - Train Accuracy: 0.5048, Validation Accuracy: 0.5206, Loss: 1.7041\n",
      "Epoch   0 Batch  124/538 - Train Accuracy: 0.4973, Validation Accuracy: 0.5210, Loss: 1.6438\n",
      "Epoch   0 Batch  125/538 - Train Accuracy: 0.4862, Validation Accuracy: 0.5213, Loss: 1.7101\n",
      "Epoch   0 Batch  126/538 - Train Accuracy: 0.5162, Validation Accuracy: 0.5277, Loss: 1.6595\n",
      "Epoch   0 Batch  127/538 - Train Accuracy: 0.4559, Validation Accuracy: 0.5224, Loss: 1.7767\n",
      "Epoch   0 Batch  128/538 - Train Accuracy: 0.4976, Validation Accuracy: 0.5229, Loss: 1.6750\n",
      "Epoch   0 Batch  129/538 - Train Accuracy: 0.4823, Validation Accuracy: 0.5252, Loss: 1.6696\n",
      "Epoch   0 Batch  130/538 - Train Accuracy: 0.5015, Validation Accuracy: 0.5344, Loss: 1.6398\n",
      "Epoch   0 Batch  131/538 - Train Accuracy: 0.4668, Validation Accuracy: 0.5270, Loss: 1.7148\n",
      "Epoch   0 Batch  132/538 - Train Accuracy: 0.4974, Validation Accuracy: 0.5233, Loss: 1.6188\n",
      "Epoch   0 Batch  133/538 - Train Accuracy: 0.4964, Validation Accuracy: 0.5099, Loss: 1.5466\n",
      "Epoch   0 Batch  134/538 - Train Accuracy: 0.4502, Validation Accuracy: 0.5158, Loss: 1.7412\n",
      "Epoch   0 Batch  135/538 - Train Accuracy: 0.4896, Validation Accuracy: 0.5183, Loss: 1.6317\n",
      "Epoch   0 Batch  136/538 - Train Accuracy: 0.4812, Validation Accuracy: 0.5208, Loss: 1.6312\n",
      "Epoch   0 Batch  137/538 - Train Accuracy: 0.4754, Validation Accuracy: 0.5158, Loss: 1.6031\n",
      "Epoch   0 Batch  138/538 - Train Accuracy: 0.4911, Validation Accuracy: 0.5172, Loss: 1.6055\n",
      "Epoch   0 Batch  139/538 - Train Accuracy: 0.4527, Validation Accuracy: 0.5075, Loss: 1.7426\n",
      "Epoch   0 Batch  140/538 - Train Accuracy: 0.4062, Validation Accuracy: 0.4499, Loss: 1.8171\n",
      "Epoch   0 Batch  141/538 - Train Accuracy: 0.3811, Validation Accuracy: 0.4375, Loss: 2.2062\n",
      "Epoch   0 Batch  142/538 - Train Accuracy: 0.4974, Validation Accuracy: 0.5011, Loss: 2.0477\n",
      "Epoch   0 Batch  143/538 - Train Accuracy: 0.3875, Validation Accuracy: 0.4426, Loss: 1.7200\n",
      "Epoch   0 Batch  144/538 - Train Accuracy: 0.4678, Validation Accuracy: 0.5158, Loss: 2.2628\n",
      "Epoch   0 Batch  145/538 - Train Accuracy: 0.4262, Validation Accuracy: 0.4618, Loss: 1.5704\n",
      "Epoch   0 Batch  146/538 - Train Accuracy: 0.4753, Validation Accuracy: 0.5030, Loss: 1.8031\n",
      "Epoch   0 Batch  147/538 - Train Accuracy: 0.4901, Validation Accuracy: 0.5018, Loss: 1.6253\n",
      "Epoch   0 Batch  148/538 - Train Accuracy: 0.4611, Validation Accuracy: 0.5078, Loss: 1.7778\n",
      "Epoch   0 Batch  149/538 - Train Accuracy: 0.4455, Validation Accuracy: 0.5051, Loss: 1.7071\n",
      "Epoch   0 Batch  150/538 - Train Accuracy: 0.4361, Validation Accuracy: 0.4945, Loss: 1.6569\n",
      "Epoch   0 Batch  151/538 - Train Accuracy: 0.4604, Validation Accuracy: 0.5048, Loss: 1.6268\n",
      "Epoch   0 Batch  152/538 - Train Accuracy: 0.4862, Validation Accuracy: 0.5233, Loss: 1.5870\n",
      "Epoch   0 Batch  153/538 - Train Accuracy: 0.4626, Validation Accuracy: 0.5197, Loss: 1.6791\n",
      "Epoch   0 Batch  154/538 - Train Accuracy: 0.4771, Validation Accuracy: 0.5147, Loss: 1.5991\n"
     ]
    },
    {
     "ename": "KeyboardInterrupt",
     "evalue": "",
     "output_type": "error",
     "traceback": [
      "\u001b[0;31m---------------------------------------------------------------------------\u001b[0m",
      "\u001b[0;31mKeyboardInterrupt\u001b[0m                         Traceback (most recent call last)",
      "\u001b[0;32m<ipython-input-18-8b554ffa681f>\u001b[0m in \u001b[0;36m<module>\u001b[0;34m()\u001b[0m\n\u001b[1;32m     46\u001b[0m                  \u001b[0mtarget_sequence_length\u001b[0m\u001b[0;34m:\u001b[0m \u001b[0mtargets_lengths\u001b[0m\u001b[0;34m,\u001b[0m\u001b[0;34m\u001b[0m\u001b[0m\n\u001b[1;32m     47\u001b[0m                  \u001b[0msource_sequence_length\u001b[0m\u001b[0;34m:\u001b[0m \u001b[0msources_lengths\u001b[0m\u001b[0;34m,\u001b[0m\u001b[0;34m\u001b[0m\u001b[0m\n\u001b[0;32m---> 48\u001b[0;31m                  keep_prob: keep_probability})\n\u001b[0m\u001b[1;32m     49\u001b[0m \u001b[0;34m\u001b[0m\u001b[0m\n\u001b[1;32m     50\u001b[0m \u001b[0;34m\u001b[0m\u001b[0m\n",
      "\u001b[0;32m~/anaconda3/envs/lang-trans/lib/python3.6/site-packages/tensorflow/python/client/session.py\u001b[0m in \u001b[0;36mrun\u001b[0;34m(self, fetches, feed_dict, options, run_metadata)\u001b[0m\n\u001b[1;32m    776\u001b[0m     \u001b[0;32mtry\u001b[0m\u001b[0;34m:\u001b[0m\u001b[0;34m\u001b[0m\u001b[0m\n\u001b[1;32m    777\u001b[0m       result = self._run(None, fetches, feed_dict, options_ptr,\n\u001b[0;32m--> 778\u001b[0;31m                          run_metadata_ptr)\n\u001b[0m\u001b[1;32m    779\u001b[0m       \u001b[0;32mif\u001b[0m \u001b[0mrun_metadata\u001b[0m\u001b[0;34m:\u001b[0m\u001b[0;34m\u001b[0m\u001b[0m\n\u001b[1;32m    780\u001b[0m         \u001b[0mproto_data\u001b[0m \u001b[0;34m=\u001b[0m \u001b[0mtf_session\u001b[0m\u001b[0;34m.\u001b[0m\u001b[0mTF_GetBuffer\u001b[0m\u001b[0;34m(\u001b[0m\u001b[0mrun_metadata_ptr\u001b[0m\u001b[0;34m)\u001b[0m\u001b[0;34m\u001b[0m\u001b[0m\n",
      "\u001b[0;32m~/anaconda3/envs/lang-trans/lib/python3.6/site-packages/tensorflow/python/client/session.py\u001b[0m in \u001b[0;36m_run\u001b[0;34m(self, handle, fetches, feed_dict, options, run_metadata)\u001b[0m\n\u001b[1;32m    980\u001b[0m     \u001b[0;32mif\u001b[0m \u001b[0mfinal_fetches\u001b[0m \u001b[0;32mor\u001b[0m \u001b[0mfinal_targets\u001b[0m\u001b[0;34m:\u001b[0m\u001b[0;34m\u001b[0m\u001b[0m\n\u001b[1;32m    981\u001b[0m       results = self._do_run(handle, final_targets, final_fetches,\n\u001b[0;32m--> 982\u001b[0;31m                              feed_dict_string, options, run_metadata)\n\u001b[0m\u001b[1;32m    983\u001b[0m     \u001b[0;32melse\u001b[0m\u001b[0;34m:\u001b[0m\u001b[0;34m\u001b[0m\u001b[0m\n\u001b[1;32m    984\u001b[0m       \u001b[0mresults\u001b[0m \u001b[0;34m=\u001b[0m \u001b[0;34m[\u001b[0m\u001b[0;34m]\u001b[0m\u001b[0;34m\u001b[0m\u001b[0m\n",
      "\u001b[0;32m~/anaconda3/envs/lang-trans/lib/python3.6/site-packages/tensorflow/python/client/session.py\u001b[0m in \u001b[0;36m_do_run\u001b[0;34m(self, handle, target_list, fetch_list, feed_dict, options, run_metadata)\u001b[0m\n\u001b[1;32m   1030\u001b[0m     \u001b[0;32mif\u001b[0m \u001b[0mhandle\u001b[0m \u001b[0;32mis\u001b[0m \u001b[0;32mNone\u001b[0m\u001b[0;34m:\u001b[0m\u001b[0;34m\u001b[0m\u001b[0m\n\u001b[1;32m   1031\u001b[0m       return self._do_call(_run_fn, self._session, feed_dict, fetch_list,\n\u001b[0;32m-> 1032\u001b[0;31m                            target_list, options, run_metadata)\n\u001b[0m\u001b[1;32m   1033\u001b[0m     \u001b[0;32melse\u001b[0m\u001b[0;34m:\u001b[0m\u001b[0;34m\u001b[0m\u001b[0m\n\u001b[1;32m   1034\u001b[0m       return self._do_call(_prun_fn, self._session, handle, feed_dict,\n",
      "\u001b[0;32m~/anaconda3/envs/lang-trans/lib/python3.6/site-packages/tensorflow/python/client/session.py\u001b[0m in \u001b[0;36m_do_call\u001b[0;34m(self, fn, *args)\u001b[0m\n\u001b[1;32m   1037\u001b[0m   \u001b[0;32mdef\u001b[0m \u001b[0m_do_call\u001b[0m\u001b[0;34m(\u001b[0m\u001b[0mself\u001b[0m\u001b[0;34m,\u001b[0m \u001b[0mfn\u001b[0m\u001b[0;34m,\u001b[0m \u001b[0;34m*\u001b[0m\u001b[0margs\u001b[0m\u001b[0;34m)\u001b[0m\u001b[0;34m:\u001b[0m\u001b[0;34m\u001b[0m\u001b[0m\n\u001b[1;32m   1038\u001b[0m     \u001b[0;32mtry\u001b[0m\u001b[0;34m:\u001b[0m\u001b[0;34m\u001b[0m\u001b[0m\n\u001b[0;32m-> 1039\u001b[0;31m       \u001b[0;32mreturn\u001b[0m \u001b[0mfn\u001b[0m\u001b[0;34m(\u001b[0m\u001b[0;34m*\u001b[0m\u001b[0margs\u001b[0m\u001b[0;34m)\u001b[0m\u001b[0;34m\u001b[0m\u001b[0m\n\u001b[0m\u001b[1;32m   1040\u001b[0m     \u001b[0;32mexcept\u001b[0m \u001b[0merrors\u001b[0m\u001b[0;34m.\u001b[0m\u001b[0mOpError\u001b[0m \u001b[0;32mas\u001b[0m \u001b[0me\u001b[0m\u001b[0;34m:\u001b[0m\u001b[0;34m\u001b[0m\u001b[0m\n\u001b[1;32m   1041\u001b[0m       \u001b[0mmessage\u001b[0m \u001b[0;34m=\u001b[0m \u001b[0mcompat\u001b[0m\u001b[0;34m.\u001b[0m\u001b[0mas_text\u001b[0m\u001b[0;34m(\u001b[0m\u001b[0me\u001b[0m\u001b[0;34m.\u001b[0m\u001b[0mmessage\u001b[0m\u001b[0;34m)\u001b[0m\u001b[0;34m\u001b[0m\u001b[0m\n",
      "\u001b[0;32m~/anaconda3/envs/lang-trans/lib/python3.6/site-packages/tensorflow/python/client/session.py\u001b[0m in \u001b[0;36m_run_fn\u001b[0;34m(session, feed_dict, fetch_list, target_list, options, run_metadata)\u001b[0m\n\u001b[1;32m   1019\u001b[0m         return tf_session.TF_Run(session, options,\n\u001b[1;32m   1020\u001b[0m                                  \u001b[0mfeed_dict\u001b[0m\u001b[0;34m,\u001b[0m \u001b[0mfetch_list\u001b[0m\u001b[0;34m,\u001b[0m \u001b[0mtarget_list\u001b[0m\u001b[0;34m,\u001b[0m\u001b[0;34m\u001b[0m\u001b[0m\n\u001b[0;32m-> 1021\u001b[0;31m                                  status, run_metadata)\n\u001b[0m\u001b[1;32m   1022\u001b[0m \u001b[0;34m\u001b[0m\u001b[0m\n\u001b[1;32m   1023\u001b[0m     \u001b[0;32mdef\u001b[0m \u001b[0m_prun_fn\u001b[0m\u001b[0;34m(\u001b[0m\u001b[0msession\u001b[0m\u001b[0;34m,\u001b[0m \u001b[0mhandle\u001b[0m\u001b[0;34m,\u001b[0m \u001b[0mfeed_dict\u001b[0m\u001b[0;34m,\u001b[0m \u001b[0mfetch_list\u001b[0m\u001b[0;34m)\u001b[0m\u001b[0;34m:\u001b[0m\u001b[0;34m\u001b[0m\u001b[0m\n",
      "\u001b[0;31mKeyboardInterrupt\u001b[0m: "
     ]
    }
   ],
   "source": [
    "\"\"\"\n",
    "DON'T MODIFY ANYTHING IN THIS CELL\n",
    "\"\"\"\n",
    "def get_accuracy(target, logits):\n",
    "    \"\"\"\n",
    "    Calculate accuracy\n",
    "    \"\"\"\n",
    "    max_seq = max(target.shape[1], logits.shape[1])\n",
    "    if max_seq - target.shape[1]:\n",
    "        target = np.pad(\n",
    "            target,\n",
    "            [(0,0),(0,max_seq - target.shape[1])],\n",
    "            'constant')\n",
    "    if max_seq - logits.shape[1]:\n",
    "        logits = np.pad(\n",
    "            logits,\n",
    "            [(0,0),(0,max_seq - logits.shape[1])],\n",
    "            'constant')\n",
    "\n",
    "    return np.mean(np.equal(target, logits))\n",
    "\n",
    "# Split data to training and validation sets\n",
    "train_source = source_int_text[batch_size:]\n",
    "train_target = target_int_text[batch_size:]\n",
    "valid_source = source_int_text[:batch_size]\n",
    "valid_target = target_int_text[:batch_size]\n",
    "(valid_sources_batch, valid_targets_batch, valid_sources_lengths, valid_targets_lengths ) = next(get_batches(valid_source,\n",
    "                                                                                                             valid_target,\n",
    "                                                                                                             batch_size,\n",
    "                                                                                                             source_vocab_to_int['<PAD>'],\n",
    "                                                                                                             target_vocab_to_int['<PAD>']))                                                                                                  \n",
    "with tf.Session(graph=train_graph) as sess:\n",
    "    sess.run(tf.global_variables_initializer())\n",
    "\n",
    "    for epoch_i in range(epochs):\n",
    "        for batch_i, (source_batch, target_batch, sources_lengths, targets_lengths) in enumerate(\n",
    "                get_batches(train_source, train_target, batch_size,\n",
    "                            source_vocab_to_int['<PAD>'],\n",
    "                            target_vocab_to_int['<PAD>'])):\n",
    "\n",
    "            _, loss = sess.run(\n",
    "                [train_op, cost],\n",
    "                {input_data: source_batch,\n",
    "                 targets: target_batch,\n",
    "                 lr: learning_rate,\n",
    "                 target_sequence_length: targets_lengths,\n",
    "                 source_sequence_length: sources_lengths,\n",
    "                 keep_prob: keep_probability})\n",
    "\n",
    "\n",
    "            if batch_i % display_step == 0 and batch_i > 0:\n",
    "\n",
    "\n",
    "                batch_train_logits = sess.run(\n",
    "                    inference_logits,\n",
    "                    {input_data: source_batch,\n",
    "                     source_sequence_length: sources_lengths,\n",
    "                     target_sequence_length: targets_lengths,\n",
    "                     keep_prob: 1.0})\n",
    "\n",
    "\n",
    "                batch_valid_logits = sess.run(\n",
    "                    inference_logits,\n",
    "                    {input_data: valid_sources_batch,\n",
    "                     source_sequence_length: valid_sources_lengths,\n",
    "                     target_sequence_length: valid_targets_lengths,\n",
    "                     keep_prob: 1.0})\n",
    "\n",
    "                train_acc = get_accuracy(target_batch, batch_train_logits)\n",
    "\n",
    "                valid_acc = get_accuracy(valid_targets_batch, batch_valid_logits)\n",
    "\n",
    "                print('Epoch {:>3} Batch {:>4}/{} - Train Accuracy: {:>6.4f}, Validation Accuracy: {:>6.4f}, Loss: {:>6.4f}'\n",
    "                      .format(epoch_i, batch_i, len(source_int_text) // batch_size, train_acc, valid_acc, loss))\n",
    "\n",
    "    # Save Model\n",
    "    saver = tf.train.Saver()\n",
    "    saver.save(sess, save_path)\n",
    "    print('Model Trained and Saved')"
   ]
  },
  {
   "cell_type": "markdown",
   "metadata": {},
   "source": [
    "### Save Parameters\n",
    "Save the `batch_size` and `save_path` parameters for inference."
   ]
  },
  {
   "cell_type": "code",
   "execution_count": null,
   "metadata": {
    "collapsed": true
   },
   "outputs": [],
   "source": [
    "\"\"\"\n",
    "DON'T MODIFY ANYTHING IN THIS CELL\n",
    "\"\"\"\n",
    "# Save parameters for checkpoint\n",
    "helper.save_params(save_path)"
   ]
  },
  {
   "cell_type": "markdown",
   "metadata": {},
   "source": [
    "# Checkpoint"
   ]
  },
  {
   "cell_type": "code",
   "execution_count": null,
   "metadata": {
    "collapsed": true
   },
   "outputs": [],
   "source": [
    "\"\"\"\n",
    "DON'T MODIFY ANYTHING IN THIS CELL\n",
    "\"\"\"\n",
    "import tensorflow as tf\n",
    "import numpy as np\n",
    "import helper\n",
    "import problem_unittests as tests\n",
    "\n",
    "_, (source_vocab_to_int, target_vocab_to_int), (source_int_to_vocab, target_int_to_vocab) = helper.load_preprocess()\n",
    "load_path = helper.load_params()"
   ]
  },
  {
   "cell_type": "markdown",
   "metadata": {},
   "source": [
    "## Sentence to Sequence\n",
    "To feed a sentence into the model for translation, you first need to preprocess it.  Implement the function `sentence_to_seq()` to preprocess new sentences.\n",
    "\n",
    "- Convert the sentence to lowercase\n",
    "- Convert words into ids using `vocab_to_int`\n",
    " - Convert words not in the vocabulary, to the `<UNK>` word id."
   ]
  },
  {
   "cell_type": "code",
   "execution_count": null,
   "metadata": {
    "collapsed": true
   },
   "outputs": [],
   "source": [
    "def sentence_to_seq(sentence, vocab_to_int):\n",
    "    \"\"\"\n",
    "    Convert a sentence to a sequence of ids\n",
    "    :param sentence: String\n",
    "    :param vocab_to_int: Dictionary to go from the words to an id\n",
    "    :return: List of word ids\n",
    "    \"\"\"\n",
    "    #9 TODO: Implement Function (MP 9-5)\n",
    "    \n",
    "    \n",
    "    word_ids = []\n",
    "    for word in sentence.lower().split():\n",
    "        if word in vocab_to_int:\n",
    "            word_ids.append(vocab_to_int[word])\n",
    "        else:\n",
    "            word_ids.append(vocab_to_int['<UNK>'])\n",
    "    return word_ids\n",
    "\n",
    "\n",
    "\"\"\"\n",
    "DON'T MODIFY ANYTHING IN THIS CELL THAT IS BELOW THIS LINE\n",
    "\"\"\"\n",
    "tests.test_sentence_to_seq(sentence_to_seq)"
   ]
  },
  {
   "cell_type": "markdown",
   "metadata": {},
   "source": [
    "## Translate\n",
    "This will translate `translate_sentence` from English to French."
   ]
  },
  {
   "cell_type": "code",
   "execution_count": null,
   "metadata": {
    "collapsed": true
   },
   "outputs": [],
   "source": [
    "translate_sentence = 'he saw a old yellow truck .'\n",
    "\n",
    "\n",
    "\"\"\"\n",
    "DON'T MODIFY ANYTHING IN THIS CELL\n",
    "\"\"\"\n",
    "translate_sentence = sentence_to_seq(translate_sentence, source_vocab_to_int)\n",
    "\n",
    "loaded_graph = tf.Graph()\n",
    "with tf.Session(graph=loaded_graph) as sess:\n",
    "    # Load saved model\n",
    "    loader = tf.train.import_meta_graph(load_path + '.meta')\n",
    "    loader.restore(sess, load_path)\n",
    "\n",
    "    input_data = loaded_graph.get_tensor_by_name('input:0')\n",
    "    logits = loaded_graph.get_tensor_by_name('predictions:0')\n",
    "    target_sequence_length = loaded_graph.get_tensor_by_name('target_sequence_length:0')\n",
    "    source_sequence_length = loaded_graph.get_tensor_by_name('source_sequence_length:0')\n",
    "    keep_prob = loaded_graph.get_tensor_by_name('keep_prob:0')\n",
    "\n",
    "    translate_logits = sess.run(logits, {input_data: [translate_sentence]*batch_size,\n",
    "                                         target_sequence_length: [len(translate_sentence)*2]*batch_size,\n",
    "                                         source_sequence_length: [len(translate_sentence)]*batch_size,\n",
    "                                         keep_prob: 1.0})[0]\n",
    "\n",
    "print('Input')\n",
    "print('  Word Ids:      {}'.format([i for i in translate_sentence]))\n",
    "print('  English Words: {}'.format([source_int_to_vocab[i] for i in translate_sentence]))\n",
    "\n",
    "print('\\nPrediction')\n",
    "print('  Word Ids:      {}'.format([i for i in translate_logits]))\n",
    "print('  French Words: {}'.format(\" \".join([target_int_to_vocab[i] for i in translate_logits])))\n"
   ]
  },
  {
   "cell_type": "markdown",
   "metadata": {},
   "source": [
    "## Imperfect Translation\n",
    "You might notice that some sentences translate better than others.  Since the dataset you're using only has a vocabulary of 227 English words of the thousands that you use, you're only going to see good results using these words.  For this project, you don't need a perfect translation. However, if you want to create a better translation model, you'll need better data.\n",
    "\n",
    "You can train on the [WMT10 French-English corpus](http://www.statmt.org/wmt10/training-giga-fren.tar).  This dataset has more vocabulary and richer in topics discussed.  However, this will take you days to train, so make sure you've a GPU and the neural network is performing well on dataset we provided.  Just make sure you play with the WMT10 corpus after you've submitted this project.\n",
    "## Submitting This Project\n",
    "When submitting this project, make sure to run all the cells before saving the notebook. Save the notebook file as \"dlnd_language_translation.ipynb\" and save it as a HTML file under \"File\" -> \"Download as\". Include the \"helper.py\" and \"problem_unittests.py\" files in your submission."
   ]
  }
 ],
 "metadata": {
  "anaconda-cloud": {},
  "kernelspec": {
   "display_name": "Python 3",
   "language": "python",
   "name": "python3"
  },
  "language_info": {
   "codemirror_mode": {
    "name": "ipython",
    "version": 3
   },
   "file_extension": ".py",
   "mimetype": "text/x-python",
   "name": "python",
   "nbconvert_exporter": "python",
   "pygments_lexer": "ipython3",
   "version": "3.6.3"
  }
 },
 "nbformat": 4,
 "nbformat_minor": 1
}
